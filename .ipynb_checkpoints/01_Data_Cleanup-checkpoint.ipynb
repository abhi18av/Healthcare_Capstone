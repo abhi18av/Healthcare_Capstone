{
 "cells": [
  {
   "cell_type": "markdown",
   "metadata": {
    "collapsed": true,
    "pycharm": {
     "name": "#%% md\n"
    }
   },
   "source": [
    "# Business Understanding \n",
    "\n",
    "CMS rates hospitals in the US on a scale of 1-5 with the objective to make it easier for patients and consumers to compare the quality of hospitals.\n",
    "The ratings directly influence the choice of the hospital made by consumers and may have a significant impact on the revenue earned by hospitals.\n",
    "Thus, it is extremely important for hospitals to understand the methodology used by CMS for calculating the ratings so that they can work on\n",
    "improving the factors that influence them.\n",
    " \n",
    "This project is focused on developing an approach to calculate hospital ratings and using it to identify areas of improvement for\n",
    "certain hospitals. It will also require a thorough understanding of the rating system developed by CMS.\n"
   ]
  },
  {
   "cell_type": "markdown",
   "metadata": {},
   "source": [
    "# Business Problem \n",
    "\n",
    "The aim of analysis is to understand the methodology used by CMS for calculating the ratings and identify\n",
    "the factors influencing the ratings for hospitals, so that they can work on improving the factors that influence them.\n",
    "Recommend ways to improve the rating for Evanston Hospital to improve their current star rating of 3/5*\n",
    "\n"
   ]
  },
  {
   "cell_type": "markdown",
   "metadata": {},
   "source": [
    "# Data Understanding #\n",
    "\n",
    "The original source of data is `Hospital_Revised_FlatFiles_20161110`\n",
    "  CSV Files\n",
    "1.\tReadmissions and Deaths - Hospital.csv\t                                                readmission.csv\n",
    "2.\tReadmissions and Deaths - Hospital.csv +   Complications - Hospital.csv\t                mortality.csv\n",
    "3.\tHealthcare Associated Infections - Hospital.csv +   Complications - Hospital.csv\t      safety.csv\n",
    "4.\tHCAHPS - Hospital.csv\t                                                                  experience.csv\n",
    "5.\tOutpatient Imaging Efficiency - Hopital.csv\t                                            medical.csv\n",
    "6.\tTimely and Effective Care - Hospital.csv\t                                              timeliness.csv\n",
    "7.\tTimely and Effective Care - Hospital.csv\t                                              effectiveness.csv\n"
   ]
  },
  {
   "cell_type": "markdown",
   "metadata": {},
   "source": [
    "# Exploratory Data Analysis \n",
    "\n",
    "- Perform the Univariate analysis for all the groups.\n",
    "- Perform Bi-variate analysis for all the groups.\n"
   ]
  },
  {
   "cell_type": "markdown",
   "metadata": {},
   "source": [
    "Modelling \n",
    "\n",
    " Part 1 - Supervised Learning-Based Rating\n",
    " Part 2 - Factor analysis and Clustering-Based Rating (Unsupervised)\n",
    " Part 3 - Provider analysis - Recommendations for Hospitals\n",
    "\n",
    "Let us load the data and create the groups as above:\n",
    "Copied the required raw files to the Groups location.\n",
    "1. \"Readmissions and Deaths - Hospital.csv\"\n",
    "2. \"Complications - Hospital.csv\"\n",
    "3. \"Healthcare Associated Infections - Hospital.csv\"\n",
    "4. \"HCAHPS - Hospital.csv\"\n",
    "5. \"Outpatient Imaging Efficiency - Hospital.csv\"\n",
    "6. \"Timely and Effective Care - Hospital.csv\"\n"
   ]
  },
  {
   "cell_type": "markdown",
   "metadata": {},
   "source": [
    "\n",
    "# Data Prepartion, cleaning and Supervised Modelling \n",
    "Data set contains 58 excel files, 2 PDF files out of this for this assignment we require 6 files & it has suffix as \"_Hospital\"\n",
    "\n",
    "Load the files into dataframes:\n",
    "1. Load the data - replace Not Available, Not Applicable with NA  (Suffix _Raw dataframes )\n",
    "2. Split xxxx_rawdata frames into 2 data frames [xxxx_hosp, xxxx_meas)\n",
    "3. Rename columns - Standardize names across\n",
    "4. Reorder columns to match all files\n",
    "5. Standardize the measures- some measures with positive zscores and some measures with negative zscores.\n",
    "6. Impute the outliers"
   ]
  },
  {
   "cell_type": "markdown",
   "metadata": {},
   "source": [
    "# Libraries to be used\n"
   ]
  },
  {
   "cell_type": "code",
   "execution_count": 67,
   "metadata": {
    "pycharm": {
     "is_executing": false,
     "name": "#%%\n"
    }
   },
   "outputs": [],
   "source": [
    "import os\n",
    "os.chdir(\"/Users/eklavya/projects/education/formalEducation/DataScience/DataScienceAssignments/HealthCare/Capstone/submission/\")\n",
    "\n",
    "\n",
    "import numpy as np\n",
    "import pandas as pd\n",
    "import matplotlib.pyplot as plt\n",
    "import seaborn as sns\n",
    "\n",
    "from sklearn.neighbors import NearestNeighbors\n",
    "from random import sample\n",
    "from numpy.random import uniform\n",
    "from math import isnan\n",
    "\n",
    "from sklearn.model_selection import cross_val_score\n",
    "from sklearn.metrics import classification_report, confusion_matrix\n",
    "from sklearn import metrics\n",
    "from sklearn.decomposition import PCA, IncrementalPCA\n",
    "from sklearn.model_selection import train_test_split\n",
    "import sklearn\n",
    "from sklearn.preprocessing import StandardScaler\n",
    "from sklearn.cluster import KMeans\n",
    "from sklearn.metrics import silhouette_score\n",
    "\n",
    "\n",
    "import warnings\n",
    "warnings.filterwarnings('ignore')\n",
    "sns.set_style('whitegrid')\n",
    "sns.set_context('paper')\n",
    "\n"
   ]
  },
  {
   "cell_type": "markdown",
   "metadata": {
    "pycharm": {
     "name": "#%% md\n"
    }
   },
   "source": [
    "# Utility functions "
   ]
  },
  {
   "cell_type": "code",
   "execution_count": 68,
   "metadata": {
    "pycharm": {
     "is_executing": false,
     "name": "#%%\n"
    }
   },
   "outputs": [],
   "source": [
    "def print_ln():\n",
    "    print('-' * 80, '\\n')\n",
    "\n",
    "\n",
    "# Function to create a subset of the dataframe\n",
    "def subset(dataframe, col_name, col_names_list):\n",
    "    return dataframe.loc[dataframe[col_name].isin(col_names_list)]\n",
    "\n",
    "# Converts the datatype of a specific column and returns the new dataframe\n",
    "def func_numeric(df, col_name):\n",
    "    df[col_name] = df[col_name].astype(float)\n",
    "    return df\n",
    "\n",
    "# Renames a column in the dataframe by appending `_score`.\n",
    "def func_rename(df):\n",
    "    old_col_names = df.columns.to_list()\n",
    "    new_col_names = []\n",
    "    for a_col_name in old_col_names:\n",
    "        col_name = a_col_name + \"_score\"\n",
    "        new_col_names.append(col_name)\n",
    "\n",
    "    name_pairs = dict(zip(old_col_names, new_col_names))\n",
    "    df = df.rename(columns=name_pairs)\n",
    "    return df\n",
    "\n",
    "# Function to compute the negative zscore value for the dataframe\n",
    "\n",
    "def negative_zscore(dataframe):\n",
    "    df = dataframe.copy()\n",
    "    cols = list(df.columns)\n",
    "    for col in cols:\n",
    "        df[col] = - (df[col] - df[col].mean())/df[col].std(ddof=0)\n",
    "    return df\n",
    "\n",
    "# Function to compute the positive zscore value for the dataframe\n",
    "def positive_zscore(dataframe):\n",
    "    df = dataframe.copy()\n",
    "    cols = list(df.columns)\n",
    "    for col in cols:\n",
    "        df[col] = (df[col] - df[col].mean())/df[col].std(ddof=0)\n",
    "    return df\n",
    "\n",
    "# Function to compute the valid subset of a dataframe i.e. reduces outliers via IQR method\n",
    "def subset_by_iqr(df, column, whisker_width=0):\n",
    "    # Calculate Q1, Q2 and IQR\n",
    "    q1 = df[column].quantile(0.00125)\n",
    "    q3 = df[column].quantile(0.99875)\n",
    "    iqr = q3 - q1\n",
    "    # Apply filter with respect to IQR, including optional whiskers\n",
    "    filter = (df[column] >= q1 - whisker_width*iqr) & (df[column] <= q3 + whisker_width*iqr)\n",
    "    return df.loc[filter][column]\n",
    "\n",
    "\n",
    "# Driver function for `subset_by_iqr` which treats the outliers in a dataframe\n",
    "def treat_outliers(dataframe):\n",
    "    df = dataframe.copy()\n",
    "    cols = list(df.columns)\n",
    "    for col in cols:\n",
    "        df[col] = subset_by_iqr(df, col)\n",
    "    return df"
   ]
  },
  {
   "cell_type": "code",
   "execution_count": 69,
   "metadata": {
    "pycharm": {
     "is_executing": false,
     "name": "#%%\n"
    }
   },
   "outputs": [],
   "source": [
    "\n",
    "# Computes the group score of a dataframe after cleaning and doing PCA on the group of measures\n",
    "def function_group_score(numeric_df, score_name):\n",
    "    # CMS recommends atleast 3 non-null measures per group\n",
    "    df = numeric_df.dropna(thresh= 3)\n",
    "    imputed_df = df.apply(lambda x: x.fillna(x.median()), axis=0)\n",
    "    pca = IncrementalPCA()\n",
    "    df_pca = pca.fit_transform(imputed_df)\n",
    "    df_pca = pd.DataFrame(df_pca, columns= df.columns)\n",
    "    df_pca.index = df.index\n",
    "    df_with_weight = df_pca.mean(axis=1)\n",
    "    df_scores = pd.DataFrame({score_name : df_with_weight})\n",
    "    return df_scores"
   ]
  },
  {
   "cell_type": "markdown",
   "metadata": {
    "pycharm": {
     "name": "#%% md\n"
    }
   },
   "source": [
    "## 1. Readmission - Load \"Readmissions and Deaths - Hospital.csv\" file into read_raw"
   ]
  },
  {
   "cell_type": "code",
   "execution_count": 70,
   "metadata": {
    "pycharm": {
     "is_executing": false,
     "name": "#%%\n"
    }
   },
   "outputs": [
    {
     "data": {
      "text/html": [
       "<div>\n",
       "<style scoped>\n",
       "    .dataframe tbody tr th:only-of-type {\n",
       "        vertical-align: middle;\n",
       "    }\n",
       "\n",
       "    .dataframe tbody tr th {\n",
       "        vertical-align: top;\n",
       "    }\n",
       "\n",
       "    .dataframe thead th {\n",
       "        text-align: right;\n",
       "    }\n",
       "</style>\n",
       "<table border=\"1\" class=\"dataframe\">\n",
       "  <thead>\n",
       "    <tr style=\"text-align: right;\">\n",
       "      <th></th>\n",
       "      <th>Provider ID</th>\n",
       "      <th>Hospital Name</th>\n",
       "      <th>Address</th>\n",
       "      <th>City</th>\n",
       "      <th>State</th>\n",
       "      <th>ZIP Code</th>\n",
       "      <th>County Name</th>\n",
       "      <th>Phone Number</th>\n",
       "    </tr>\n",
       "  </thead>\n",
       "  <tbody>\n",
       "    <tr>\n",
       "      <th>0</th>\n",
       "      <td>10001</td>\n",
       "      <td>SOUTHEAST ALABAMA MEDICAL CENTER</td>\n",
       "      <td>1108 ROSS CLARK CIRCLE</td>\n",
       "      <td>DOTHAN</td>\n",
       "      <td>AL</td>\n",
       "      <td>36301</td>\n",
       "      <td>HOUSTON</td>\n",
       "      <td>3347938701</td>\n",
       "    </tr>\n",
       "    <tr>\n",
       "      <th>1</th>\n",
       "      <td>10001</td>\n",
       "      <td>SOUTHEAST ALABAMA MEDICAL CENTER</td>\n",
       "      <td>1108 ROSS CLARK CIRCLE</td>\n",
       "      <td>DOTHAN</td>\n",
       "      <td>AL</td>\n",
       "      <td>36301</td>\n",
       "      <td>HOUSTON</td>\n",
       "      <td>3347938701</td>\n",
       "    </tr>\n",
       "    <tr>\n",
       "      <th>2</th>\n",
       "      <td>10001</td>\n",
       "      <td>SOUTHEAST ALABAMA MEDICAL CENTER</td>\n",
       "      <td>1108 ROSS CLARK CIRCLE</td>\n",
       "      <td>DOTHAN</td>\n",
       "      <td>AL</td>\n",
       "      <td>36301</td>\n",
       "      <td>HOUSTON</td>\n",
       "      <td>3347938701</td>\n",
       "    </tr>\n",
       "    <tr>\n",
       "      <th>3</th>\n",
       "      <td>10001</td>\n",
       "      <td>SOUTHEAST ALABAMA MEDICAL CENTER</td>\n",
       "      <td>1108 ROSS CLARK CIRCLE</td>\n",
       "      <td>DOTHAN</td>\n",
       "      <td>AL</td>\n",
       "      <td>36301</td>\n",
       "      <td>HOUSTON</td>\n",
       "      <td>3347938701</td>\n",
       "    </tr>\n",
       "    <tr>\n",
       "      <th>4</th>\n",
       "      <td>10001</td>\n",
       "      <td>SOUTHEAST ALABAMA MEDICAL CENTER</td>\n",
       "      <td>1108 ROSS CLARK CIRCLE</td>\n",
       "      <td>DOTHAN</td>\n",
       "      <td>AL</td>\n",
       "      <td>36301</td>\n",
       "      <td>HOUSTON</td>\n",
       "      <td>3347938701</td>\n",
       "    </tr>\n",
       "  </tbody>\n",
       "</table>\n",
       "</div>"
      ],
      "text/plain": [
       "   Provider ID                     Hospital Name                 Address  \\\n",
       "0        10001  SOUTHEAST ALABAMA MEDICAL CENTER  1108 ROSS CLARK CIRCLE   \n",
       "1        10001  SOUTHEAST ALABAMA MEDICAL CENTER  1108 ROSS CLARK CIRCLE   \n",
       "2        10001  SOUTHEAST ALABAMA MEDICAL CENTER  1108 ROSS CLARK CIRCLE   \n",
       "3        10001  SOUTHEAST ALABAMA MEDICAL CENTER  1108 ROSS CLARK CIRCLE   \n",
       "4        10001  SOUTHEAST ALABAMA MEDICAL CENTER  1108 ROSS CLARK CIRCLE   \n",
       "\n",
       "     City State  ZIP Code County Name  Phone Number  \n",
       "0  DOTHAN    AL     36301     HOUSTON    3347938701  \n",
       "1  DOTHAN    AL     36301     HOUSTON    3347938701  \n",
       "2  DOTHAN    AL     36301     HOUSTON    3347938701  \n",
       "3  DOTHAN    AL     36301     HOUSTON    3347938701  \n",
       "4  DOTHAN    AL     36301     HOUSTON    3347938701  "
      ]
     },
     "execution_count": 70,
     "metadata": {},
     "output_type": "execute_result"
    }
   ],
   "source": [
    "# Readmissions and deaths \n",
    "\n",
    "read_rawdata = pd.read_csv(\"Readmissions and Deaths - Hospital.csv\",\n",
    "                           encoding=\"ISO-8859-1\",\n",
    "                           na_values=[\"Not Available\", \"Not Applicable\"])\n",
    "\n",
    "# We will filter only those columns which are needed \n",
    "read_meas_list =   [\"READM_30_AMI\", \"READM_30_CABG\", \"READM_30_COPD\", \"READM_30_HF\", \"READM_30_HIP_KNEE\", \"READM_30_HOSP_WIDE\", \"READM_30_PN\", \"READM_30_STK\"]\n",
    "\n",
    "read_hosp = read_rawdata.iloc[:,0:8]\n",
    "read_hosp.head()\n"
   ]
  },
  {
   "cell_type": "code",
   "execution_count": 71,
   "metadata": {
    "pycharm": {
     "is_executing": false,
     "name": "#%%\n"
    }
   },
   "outputs": [],
   "source": [
    "# Drop duplicates\n",
    "read_hosp = read_hosp.drop_duplicates(keep='first')"
   ]
  },
  {
   "cell_type": "code",
   "execution_count": 72,
   "metadata": {
    "pycharm": {
     "is_executing": false,
     "name": "#%%\n"
    }
   },
   "outputs": [
    {
     "data": {
      "text/html": [
       "<div>\n",
       "<style scoped>\n",
       "    .dataframe tbody tr th:only-of-type {\n",
       "        vertical-align: middle;\n",
       "    }\n",
       "\n",
       "    .dataframe tbody tr th {\n",
       "        vertical-align: top;\n",
       "    }\n",
       "\n",
       "    .dataframe thead th {\n",
       "        text-align: right;\n",
       "    }\n",
       "</style>\n",
       "<table border=\"1\" class=\"dataframe\">\n",
       "  <thead>\n",
       "    <tr style=\"text-align: right;\">\n",
       "      <th></th>\n",
       "      <th>Provider ID</th>\n",
       "      <th>Measure ID</th>\n",
       "      <th>Score</th>\n",
       "    </tr>\n",
       "  </thead>\n",
       "  <tbody>\n",
       "    <tr>\n",
       "      <th>0</th>\n",
       "      <td>10001</td>\n",
       "      <td>MORT_30_AMI</td>\n",
       "      <td>12.5</td>\n",
       "    </tr>\n",
       "    <tr>\n",
       "      <th>1</th>\n",
       "      <td>10001</td>\n",
       "      <td>MORT_30_CABG</td>\n",
       "      <td>4.2</td>\n",
       "    </tr>\n",
       "    <tr>\n",
       "      <th>2</th>\n",
       "      <td>10001</td>\n",
       "      <td>MORT_30_COPD</td>\n",
       "      <td>9.3</td>\n",
       "    </tr>\n",
       "    <tr>\n",
       "      <th>3</th>\n",
       "      <td>10001</td>\n",
       "      <td>MORT_30_HF</td>\n",
       "      <td>12.4</td>\n",
       "    </tr>\n",
       "    <tr>\n",
       "      <th>4</th>\n",
       "      <td>10001</td>\n",
       "      <td>MORT_30_PN</td>\n",
       "      <td>15.5</td>\n",
       "    </tr>\n",
       "  </tbody>\n",
       "</table>\n",
       "</div>"
      ],
      "text/plain": [
       "   Provider ID    Measure ID  Score\n",
       "0        10001   MORT_30_AMI   12.5\n",
       "1        10001  MORT_30_CABG    4.2\n",
       "2        10001  MORT_30_COPD    9.3\n",
       "3        10001    MORT_30_HF   12.4\n",
       "4        10001    MORT_30_PN   15.5"
      ]
     },
     "execution_count": 72,
     "metadata": {},
     "output_type": "execute_result"
    }
   ],
   "source": [
    "# Select the relevant columns\n",
    "read_meas = read_rawdata.iloc[: , [0,9,12]]\n",
    "read_meas.head()"
   ]
  },
  {
   "cell_type": "code",
   "execution_count": 73,
   "metadata": {
    "pycharm": {
     "is_executing": false,
     "name": "#%%\n"
    }
   },
   "outputs": [
    {
     "data": {
      "text/html": [
       "<div>\n",
       "<style scoped>\n",
       "    .dataframe tbody tr th:only-of-type {\n",
       "        vertical-align: middle;\n",
       "    }\n",
       "\n",
       "    .dataframe tbody tr th {\n",
       "        vertical-align: top;\n",
       "    }\n",
       "\n",
       "    .dataframe thead th {\n",
       "        text-align: right;\n",
       "    }\n",
       "</style>\n",
       "<table border=\"1\" class=\"dataframe\">\n",
       "  <thead>\n",
       "    <tr style=\"text-align: right;\">\n",
       "      <th></th>\n",
       "      <th>Provider ID</th>\n",
       "      <th>Measure ID</th>\n",
       "      <th>Score</th>\n",
       "    </tr>\n",
       "  </thead>\n",
       "  <tbody>\n",
       "    <tr>\n",
       "      <th>0</th>\n",
       "      <td>10001</td>\n",
       "      <td>MORT_30_AMI</td>\n",
       "      <td>12.5</td>\n",
       "    </tr>\n",
       "    <tr>\n",
       "      <th>1</th>\n",
       "      <td>10001</td>\n",
       "      <td>MORT_30_CABG</td>\n",
       "      <td>4.2</td>\n",
       "    </tr>\n",
       "    <tr>\n",
       "      <th>2</th>\n",
       "      <td>10001</td>\n",
       "      <td>MORT_30_COPD</td>\n",
       "      <td>9.3</td>\n",
       "    </tr>\n",
       "    <tr>\n",
       "      <th>3</th>\n",
       "      <td>10001</td>\n",
       "      <td>MORT_30_HF</td>\n",
       "      <td>12.4</td>\n",
       "    </tr>\n",
       "    <tr>\n",
       "      <th>4</th>\n",
       "      <td>10001</td>\n",
       "      <td>MORT_30_PN</td>\n",
       "      <td>15.5</td>\n",
       "    </tr>\n",
       "  </tbody>\n",
       "</table>\n",
       "</div>"
      ],
      "text/plain": [
       "   Provider ID    Measure ID  Score\n",
       "0        10001   MORT_30_AMI   12.5\n",
       "1        10001  MORT_30_CABG    4.2\n",
       "2        10001  MORT_30_COPD    9.3\n",
       "3        10001    MORT_30_HF   12.4\n",
       "4        10001    MORT_30_PN   15.5"
      ]
     },
     "execution_count": 73,
     "metadata": {},
     "output_type": "execute_result"
    }
   ],
   "source": [
    "# Converting the datatype of Score to a float\n",
    "\n",
    "read_meas['Score'] = read_meas['Score'].astype(float)\n",
    "read_meas.head()\n"
   ]
  },
  {
   "cell_type": "code",
   "execution_count": 74,
   "metadata": {
    "pycharm": {
     "is_executing": false,
     "name": "#%%\n"
    }
   },
   "outputs": [
    {
     "data": {
      "text/html": [
       "<div>\n",
       "<style scoped>\n",
       "    .dataframe tbody tr th:only-of-type {\n",
       "        vertical-align: middle;\n",
       "    }\n",
       "\n",
       "    .dataframe tbody tr th {\n",
       "        vertical-align: top;\n",
       "    }\n",
       "\n",
       "    .dataframe thead th {\n",
       "        text-align: right;\n",
       "    }\n",
       "</style>\n",
       "<table border=\"1\" class=\"dataframe\">\n",
       "  <thead>\n",
       "    <tr style=\"text-align: right;\">\n",
       "      <th></th>\n",
       "      <th>Provider ID</th>\n",
       "      <th>Measure ID</th>\n",
       "      <th>Score</th>\n",
       "    </tr>\n",
       "  </thead>\n",
       "  <tbody>\n",
       "    <tr>\n",
       "      <th>6</th>\n",
       "      <td>10001</td>\n",
       "      <td>READM_30_AMI</td>\n",
       "      <td>16.5</td>\n",
       "    </tr>\n",
       "    <tr>\n",
       "      <th>7</th>\n",
       "      <td>10001</td>\n",
       "      <td>READM_30_CABG</td>\n",
       "      <td>15.1</td>\n",
       "    </tr>\n",
       "    <tr>\n",
       "      <th>8</th>\n",
       "      <td>10001</td>\n",
       "      <td>READM_30_COPD</td>\n",
       "      <td>21.1</td>\n",
       "    </tr>\n",
       "    <tr>\n",
       "      <th>9</th>\n",
       "      <td>10001</td>\n",
       "      <td>READM_30_HF</td>\n",
       "      <td>21.4</td>\n",
       "    </tr>\n",
       "    <tr>\n",
       "      <th>10</th>\n",
       "      <td>10001</td>\n",
       "      <td>READM_30_HIP_KNEE</td>\n",
       "      <td>5.1</td>\n",
       "    </tr>\n",
       "  </tbody>\n",
       "</table>\n",
       "</div>"
      ],
      "text/plain": [
       "    Provider ID         Measure ID  Score\n",
       "6         10001       READM_30_AMI   16.5\n",
       "7         10001      READM_30_CABG   15.1\n",
       "8         10001      READM_30_COPD   21.1\n",
       "9         10001        READM_30_HF   21.4\n",
       "10        10001  READM_30_HIP_KNEE    5.1"
      ]
     },
     "execution_count": 74,
     "metadata": {},
     "output_type": "execute_result"
    }
   ],
   "source": [
    "read_meas = read_meas.loc[read_meas['Measure ID'].isin(read_meas_list)]\n",
    "read_meas.head()\n"
   ]
  },
  {
   "cell_type": "code",
   "execution_count": 75,
   "metadata": {
    "pycharm": {
     "is_executing": false,
     "name": "#%%\n"
    }
   },
   "outputs": [
    {
     "data": {
      "text/html": [
       "<div>\n",
       "<style scoped>\n",
       "    .dataframe tbody tr th:only-of-type {\n",
       "        vertical-align: middle;\n",
       "    }\n",
       "\n",
       "    .dataframe tbody tr th {\n",
       "        vertical-align: top;\n",
       "    }\n",
       "\n",
       "    .dataframe thead th {\n",
       "        text-align: right;\n",
       "    }\n",
       "</style>\n",
       "<table border=\"1\" class=\"dataframe\">\n",
       "  <thead>\n",
       "    <tr style=\"text-align: right;\">\n",
       "      <th>Measure ID</th>\n",
       "      <th>READM_30_AMI</th>\n",
       "      <th>READM_30_CABG</th>\n",
       "      <th>READM_30_COPD</th>\n",
       "      <th>READM_30_HF</th>\n",
       "      <th>READM_30_HIP_KNEE</th>\n",
       "      <th>READM_30_HOSP_WIDE</th>\n",
       "      <th>READM_30_PN</th>\n",
       "      <th>READM_30_STK</th>\n",
       "    </tr>\n",
       "    <tr>\n",
       "      <th>Provider ID</th>\n",
       "      <th></th>\n",
       "      <th></th>\n",
       "      <th></th>\n",
       "      <th></th>\n",
       "      <th></th>\n",
       "      <th></th>\n",
       "      <th></th>\n",
       "      <th></th>\n",
       "    </tr>\n",
       "  </thead>\n",
       "  <tbody>\n",
       "    <tr>\n",
       "      <th>10001</th>\n",
       "      <td>16.5</td>\n",
       "      <td>15.1</td>\n",
       "      <td>21.1</td>\n",
       "      <td>21.4</td>\n",
       "      <td>5.1</td>\n",
       "      <td>15.4</td>\n",
       "      <td>18.7</td>\n",
       "      <td>12.7</td>\n",
       "    </tr>\n",
       "    <tr>\n",
       "      <th>10005</th>\n",
       "      <td>16.7</td>\n",
       "      <td>NaN</td>\n",
       "      <td>18.0</td>\n",
       "      <td>21.9</td>\n",
       "      <td>5.7</td>\n",
       "      <td>14.9</td>\n",
       "      <td>16.4</td>\n",
       "      <td>13.4</td>\n",
       "    </tr>\n",
       "    <tr>\n",
       "      <th>10006</th>\n",
       "      <td>16.1</td>\n",
       "      <td>15.2</td>\n",
       "      <td>19.8</td>\n",
       "      <td>20.6</td>\n",
       "      <td>5.0</td>\n",
       "      <td>15.4</td>\n",
       "      <td>17.9</td>\n",
       "      <td>12.0</td>\n",
       "    </tr>\n",
       "    <tr>\n",
       "      <th>10007</th>\n",
       "      <td>NaN</td>\n",
       "      <td>NaN</td>\n",
       "      <td>19.9</td>\n",
       "      <td>21.1</td>\n",
       "      <td>NaN</td>\n",
       "      <td>16.6</td>\n",
       "      <td>17.3</td>\n",
       "      <td>12.7</td>\n",
       "    </tr>\n",
       "    <tr>\n",
       "      <th>10008</th>\n",
       "      <td>NaN</td>\n",
       "      <td>NaN</td>\n",
       "      <td>19.2</td>\n",
       "      <td>23.1</td>\n",
       "      <td>NaN</td>\n",
       "      <td>15.7</td>\n",
       "      <td>16.0</td>\n",
       "      <td>NaN</td>\n",
       "    </tr>\n",
       "  </tbody>\n",
       "</table>\n",
       "</div>"
      ],
      "text/plain": [
       "Measure ID   READM_30_AMI  READM_30_CABG  READM_30_COPD  READM_30_HF  \\\n",
       "Provider ID                                                            \n",
       "10001                16.5           15.1           21.1         21.4   \n",
       "10005                16.7            NaN           18.0         21.9   \n",
       "10006                16.1           15.2           19.8         20.6   \n",
       "10007                 NaN            NaN           19.9         21.1   \n",
       "10008                 NaN            NaN           19.2         23.1   \n",
       "\n",
       "Measure ID   READM_30_HIP_KNEE  READM_30_HOSP_WIDE  READM_30_PN  READM_30_STK  \n",
       "Provider ID                                                                    \n",
       "10001                      5.1                15.4         18.7          12.7  \n",
       "10005                      5.7                14.9         16.4          13.4  \n",
       "10006                      5.0                15.4         17.9          12.0  \n",
       "10007                      NaN                16.6         17.3          12.7  \n",
       "10008                      NaN                15.7         16.0           NaN  "
      ]
     },
     "execution_count": 75,
     "metadata": {},
     "output_type": "execute_result"
    }
   ],
   "source": [
    "# Restructure the dataframe to better suit a shape for our analysis\n",
    "read_meas_score = read_meas.pivot(index='Provider ID', columns='Measure ID', values='Score')\n",
    "read_meas_score.head()\n"
   ]
  },
  {
   "cell_type": "code",
   "execution_count": 76,
   "metadata": {
    "pycharm": {
     "is_executing": false,
     "name": "#%%\n"
    }
   },
   "outputs": [
    {
     "data": {
      "text/html": [
       "<div>\n",
       "<style scoped>\n",
       "    .dataframe tbody tr th:only-of-type {\n",
       "        vertical-align: middle;\n",
       "    }\n",
       "\n",
       "    .dataframe tbody tr th {\n",
       "        vertical-align: top;\n",
       "    }\n",
       "\n",
       "    .dataframe thead th {\n",
       "        text-align: right;\n",
       "    }\n",
       "</style>\n",
       "<table border=\"1\" class=\"dataframe\">\n",
       "  <thead>\n",
       "    <tr style=\"text-align: right;\">\n",
       "      <th>Measure ID</th>\n",
       "      <th>READM_30_AMI_score</th>\n",
       "      <th>READM_30_CABG_score</th>\n",
       "      <th>READM_30_COPD_score</th>\n",
       "      <th>READM_30_HF_score</th>\n",
       "      <th>READM_30_HIP_KNEE_score</th>\n",
       "      <th>READM_30_HOSP_WIDE_score</th>\n",
       "      <th>READM_30_PN_score</th>\n",
       "      <th>READM_30_STK_score</th>\n",
       "    </tr>\n",
       "    <tr>\n",
       "      <th>Provider ID</th>\n",
       "      <th></th>\n",
       "      <th></th>\n",
       "      <th></th>\n",
       "      <th></th>\n",
       "      <th></th>\n",
       "      <th></th>\n",
       "      <th></th>\n",
       "      <th></th>\n",
       "    </tr>\n",
       "  </thead>\n",
       "  <tbody>\n",
       "    <tr>\n",
       "      <th>10001</th>\n",
       "      <td>16.5</td>\n",
       "      <td>15.1</td>\n",
       "      <td>21.1</td>\n",
       "      <td>21.4</td>\n",
       "      <td>5.1</td>\n",
       "      <td>15.4</td>\n",
       "      <td>18.7</td>\n",
       "      <td>12.7</td>\n",
       "    </tr>\n",
       "    <tr>\n",
       "      <th>10005</th>\n",
       "      <td>16.7</td>\n",
       "      <td>NaN</td>\n",
       "      <td>18.0</td>\n",
       "      <td>21.9</td>\n",
       "      <td>5.7</td>\n",
       "      <td>14.9</td>\n",
       "      <td>16.4</td>\n",
       "      <td>13.4</td>\n",
       "    </tr>\n",
       "    <tr>\n",
       "      <th>10006</th>\n",
       "      <td>16.1</td>\n",
       "      <td>15.2</td>\n",
       "      <td>19.8</td>\n",
       "      <td>20.6</td>\n",
       "      <td>5.0</td>\n",
       "      <td>15.4</td>\n",
       "      <td>17.9</td>\n",
       "      <td>12.0</td>\n",
       "    </tr>\n",
       "    <tr>\n",
       "      <th>10007</th>\n",
       "      <td>NaN</td>\n",
       "      <td>NaN</td>\n",
       "      <td>19.9</td>\n",
       "      <td>21.1</td>\n",
       "      <td>NaN</td>\n",
       "      <td>16.6</td>\n",
       "      <td>17.3</td>\n",
       "      <td>12.7</td>\n",
       "    </tr>\n",
       "    <tr>\n",
       "      <th>10008</th>\n",
       "      <td>NaN</td>\n",
       "      <td>NaN</td>\n",
       "      <td>19.2</td>\n",
       "      <td>23.1</td>\n",
       "      <td>NaN</td>\n",
       "      <td>15.7</td>\n",
       "      <td>16.0</td>\n",
       "      <td>NaN</td>\n",
       "    </tr>\n",
       "  </tbody>\n",
       "</table>\n",
       "</div>"
      ],
      "text/plain": [
       "Measure ID   READM_30_AMI_score  READM_30_CABG_score  READM_30_COPD_score  \\\n",
       "Provider ID                                                                 \n",
       "10001                      16.5                 15.1                 21.1   \n",
       "10005                      16.7                  NaN                 18.0   \n",
       "10006                      16.1                 15.2                 19.8   \n",
       "10007                       NaN                  NaN                 19.9   \n",
       "10008                       NaN                  NaN                 19.2   \n",
       "\n",
       "Measure ID   READM_30_HF_score  READM_30_HIP_KNEE_score  \\\n",
       "Provider ID                                               \n",
       "10001                     21.4                      5.1   \n",
       "10005                     21.9                      5.7   \n",
       "10006                     20.6                      5.0   \n",
       "10007                     21.1                      NaN   \n",
       "10008                     23.1                      NaN   \n",
       "\n",
       "Measure ID   READM_30_HOSP_WIDE_score  READM_30_PN_score  READM_30_STK_score  \n",
       "Provider ID                                                                   \n",
       "10001                            15.4               18.7                12.7  \n",
       "10005                            14.9               16.4                13.4  \n",
       "10006                            15.4               17.9                12.0  \n",
       "10007                            16.6               17.3                12.7  \n",
       "10008                            15.7               16.0                 NaN  "
      ]
     },
     "execution_count": 76,
     "metadata": {},
     "output_type": "execute_result"
    }
   ],
   "source": [
    "read_meas_score =  func_rename(read_meas_score)\n",
    "read_meas_score.head()"
   ]
  },
  {
   "cell_type": "code",
   "execution_count": 77,
   "metadata": {},
   "outputs": [
    {
     "name": "stdout",
     "output_type": "stream",
     "text": [
      "1104.3\n"
     ]
    }
   ],
   "source": [
    "# Let's see what is the sum of all values of a measure, counting NaN as a 0\n",
    "print(np.nansum(read_meas_score['READM_30_AMI_score'].unique()))\n",
    "\n"
   ]
  },
  {
   "cell_type": "code",
   "execution_count": 78,
   "metadata": {},
   "outputs": [
    {
     "data": {
      "text/html": [
       "<div>\n",
       "<style scoped>\n",
       "    .dataframe tbody tr th:only-of-type {\n",
       "        vertical-align: middle;\n",
       "    }\n",
       "\n",
       "    .dataframe tbody tr th {\n",
       "        vertical-align: top;\n",
       "    }\n",
       "\n",
       "    .dataframe thead th {\n",
       "        text-align: right;\n",
       "    }\n",
       "</style>\n",
       "<table border=\"1\" class=\"dataframe\">\n",
       "  <thead>\n",
       "    <tr style=\"text-align: right;\">\n",
       "      <th>Measure ID</th>\n",
       "      <th>READM_30_AMI_score</th>\n",
       "      <th>READM_30_CABG_score</th>\n",
       "      <th>READM_30_COPD_score</th>\n",
       "      <th>READM_30_HF_score</th>\n",
       "      <th>READM_30_HIP_KNEE_score</th>\n",
       "      <th>READM_30_HOSP_WIDE_score</th>\n",
       "      <th>READM_30_PN_score</th>\n",
       "      <th>READM_30_STK_score</th>\n",
       "    </tr>\n",
       "    <tr>\n",
       "      <th>Provider ID</th>\n",
       "      <th></th>\n",
       "      <th></th>\n",
       "      <th></th>\n",
       "      <th></th>\n",
       "      <th></th>\n",
       "      <th></th>\n",
       "      <th></th>\n",
       "      <th></th>\n",
       "    </tr>\n",
       "  </thead>\n",
       "  <tbody>\n",
       "    <tr>\n",
       "      <th>10001</th>\n",
       "      <td>0.408730</td>\n",
       "      <td>-0.615156</td>\n",
       "      <td>-0.866907</td>\n",
       "      <td>0.370423</td>\n",
       "      <td>-0.884170</td>\n",
       "      <td>0.215408</td>\n",
       "      <td>-1.105482</td>\n",
       "      <td>-0.124569</td>\n",
       "    </tr>\n",
       "    <tr>\n",
       "      <th>10005</th>\n",
       "      <td>0.199974</td>\n",
       "      <td>NaN</td>\n",
       "      <td>1.574551</td>\n",
       "      <td>0.036453</td>\n",
       "      <td>-1.968440</td>\n",
       "      <td>0.820649</td>\n",
       "      <td>0.495640</td>\n",
       "      <td>-0.777118</td>\n",
       "    </tr>\n",
       "    <tr>\n",
       "      <th>10006</th>\n",
       "      <td>0.826243</td>\n",
       "      <td>-0.703937</td>\n",
       "      <td>0.156930</td>\n",
       "      <td>0.904776</td>\n",
       "      <td>-0.703459</td>\n",
       "      <td>0.215408</td>\n",
       "      <td>-0.548570</td>\n",
       "      <td>0.527980</td>\n",
       "    </tr>\n",
       "    <tr>\n",
       "      <th>10007</th>\n",
       "      <td>NaN</td>\n",
       "      <td>NaN</td>\n",
       "      <td>0.078174</td>\n",
       "      <td>0.570805</td>\n",
       "      <td>NaN</td>\n",
       "      <td>-1.237171</td>\n",
       "      <td>-0.130886</td>\n",
       "      <td>-0.124569</td>\n",
       "    </tr>\n",
       "    <tr>\n",
       "      <th>10008</th>\n",
       "      <td>NaN</td>\n",
       "      <td>NaN</td>\n",
       "      <td>0.629471</td>\n",
       "      <td>-0.765075</td>\n",
       "      <td>NaN</td>\n",
       "      <td>-0.147737</td>\n",
       "      <td>0.774096</td>\n",
       "      <td>NaN</td>\n",
       "    </tr>\n",
       "  </tbody>\n",
       "</table>\n",
       "</div>"
      ],
      "text/plain": [
       "Measure ID   READM_30_AMI_score  READM_30_CABG_score  READM_30_COPD_score  \\\n",
       "Provider ID                                                                 \n",
       "10001                  0.408730            -0.615156            -0.866907   \n",
       "10005                  0.199974                  NaN             1.574551   \n",
       "10006                  0.826243            -0.703937             0.156930   \n",
       "10007                       NaN                  NaN             0.078174   \n",
       "10008                       NaN                  NaN             0.629471   \n",
       "\n",
       "Measure ID   READM_30_HF_score  READM_30_HIP_KNEE_score  \\\n",
       "Provider ID                                               \n",
       "10001                 0.370423                -0.884170   \n",
       "10005                 0.036453                -1.968440   \n",
       "10006                 0.904776                -0.703459   \n",
       "10007                 0.570805                      NaN   \n",
       "10008                -0.765075                      NaN   \n",
       "\n",
       "Measure ID   READM_30_HOSP_WIDE_score  READM_30_PN_score  READM_30_STK_score  \n",
       "Provider ID                                                                   \n",
       "10001                        0.215408          -1.105482           -0.124569  \n",
       "10005                        0.820649           0.495640           -0.777118  \n",
       "10006                        0.215408          -0.548570            0.527980  \n",
       "10007                       -1.237171          -0.130886           -0.124569  \n",
       "10008                       -0.147737           0.774096                 NaN  "
      ]
     },
     "execution_count": 78,
     "metadata": {},
     "output_type": "execute_result"
    }
   ],
   "source": [
    "# We will use negative zscore scaling as high readmissions implies the Hospital is not doing well in terms of patient treatment quality.\n",
    "\n",
    "readmission = negative_zscore(read_meas_score)\n",
    "readmission.head()\n"
   ]
  },
  {
   "cell_type": "code",
   "execution_count": 79,
   "metadata": {},
   "outputs": [
    {
     "data": {
      "text/html": [
       "<div>\n",
       "<style scoped>\n",
       "    .dataframe tbody tr th:only-of-type {\n",
       "        vertical-align: middle;\n",
       "    }\n",
       "\n",
       "    .dataframe tbody tr th {\n",
       "        vertical-align: top;\n",
       "    }\n",
       "\n",
       "    .dataframe thead th {\n",
       "        text-align: right;\n",
       "    }\n",
       "</style>\n",
       "<table border=\"1\" class=\"dataframe\">\n",
       "  <thead>\n",
       "    <tr style=\"text-align: right;\">\n",
       "      <th>Measure ID</th>\n",
       "      <th>READM_30_AMI_score</th>\n",
       "      <th>READM_30_CABG_score</th>\n",
       "      <th>READM_30_COPD_score</th>\n",
       "      <th>READM_30_HF_score</th>\n",
       "      <th>READM_30_HIP_KNEE_score</th>\n",
       "      <th>READM_30_HOSP_WIDE_score</th>\n",
       "      <th>READM_30_PN_score</th>\n",
       "      <th>READM_30_STK_score</th>\n",
       "    </tr>\n",
       "    <tr>\n",
       "      <th>Provider ID</th>\n",
       "      <th></th>\n",
       "      <th></th>\n",
       "      <th></th>\n",
       "      <th></th>\n",
       "      <th></th>\n",
       "      <th></th>\n",
       "      <th></th>\n",
       "      <th></th>\n",
       "    </tr>\n",
       "  </thead>\n",
       "  <tbody>\n",
       "    <tr>\n",
       "      <th>10001</th>\n",
       "      <td>0.408730</td>\n",
       "      <td>-0.615156</td>\n",
       "      <td>-0.866907</td>\n",
       "      <td>0.370423</td>\n",
       "      <td>-0.884170</td>\n",
       "      <td>0.215408</td>\n",
       "      <td>-1.105482</td>\n",
       "      <td>-0.124569</td>\n",
       "    </tr>\n",
       "    <tr>\n",
       "      <th>10005</th>\n",
       "      <td>0.199974</td>\n",
       "      <td>NaN</td>\n",
       "      <td>1.574551</td>\n",
       "      <td>0.036453</td>\n",
       "      <td>-1.968440</td>\n",
       "      <td>0.820649</td>\n",
       "      <td>0.495640</td>\n",
       "      <td>-0.777118</td>\n",
       "    </tr>\n",
       "    <tr>\n",
       "      <th>10006</th>\n",
       "      <td>0.826243</td>\n",
       "      <td>-0.703937</td>\n",
       "      <td>0.156930</td>\n",
       "      <td>0.904776</td>\n",
       "      <td>-0.703459</td>\n",
       "      <td>0.215408</td>\n",
       "      <td>-0.548570</td>\n",
       "      <td>0.527980</td>\n",
       "    </tr>\n",
       "    <tr>\n",
       "      <th>10007</th>\n",
       "      <td>NaN</td>\n",
       "      <td>NaN</td>\n",
       "      <td>0.078174</td>\n",
       "      <td>0.570805</td>\n",
       "      <td>NaN</td>\n",
       "      <td>-1.237171</td>\n",
       "      <td>-0.130886</td>\n",
       "      <td>-0.124569</td>\n",
       "    </tr>\n",
       "    <tr>\n",
       "      <th>10008</th>\n",
       "      <td>NaN</td>\n",
       "      <td>NaN</td>\n",
       "      <td>0.629471</td>\n",
       "      <td>-0.765075</td>\n",
       "      <td>NaN</td>\n",
       "      <td>-0.147737</td>\n",
       "      <td>0.774096</td>\n",
       "      <td>NaN</td>\n",
       "    </tr>\n",
       "  </tbody>\n",
       "</table>\n",
       "</div>"
      ],
      "text/plain": [
       "Measure ID   READM_30_AMI_score  READM_30_CABG_score  READM_30_COPD_score  \\\n",
       "Provider ID                                                                 \n",
       "10001                  0.408730            -0.615156            -0.866907   \n",
       "10005                  0.199974                  NaN             1.574551   \n",
       "10006                  0.826243            -0.703937             0.156930   \n",
       "10007                       NaN                  NaN             0.078174   \n",
       "10008                       NaN                  NaN             0.629471   \n",
       "\n",
       "Measure ID   READM_30_HF_score  READM_30_HIP_KNEE_score  \\\n",
       "Provider ID                                               \n",
       "10001                 0.370423                -0.884170   \n",
       "10005                 0.036453                -1.968440   \n",
       "10006                 0.904776                -0.703459   \n",
       "10007                 0.570805                      NaN   \n",
       "10008                -0.765075                      NaN   \n",
       "\n",
       "Measure ID   READM_30_HOSP_WIDE_score  READM_30_PN_score  READM_30_STK_score  \n",
       "Provider ID                                                                   \n",
       "10001                        0.215408          -1.105482           -0.124569  \n",
       "10005                        0.820649           0.495640           -0.777118  \n",
       "10006                        0.215408          -0.548570            0.527980  \n",
       "10007                       -1.237171          -0.130886           -0.124569  \n",
       "10008                       -0.147737           0.774096                 NaN  "
      ]
     },
     "execution_count": 79,
     "metadata": {},
     "output_type": "execute_result"
    }
   ],
   "source": [
    "# Outlier treatment: According to the CMS documentation, they've performed the outlier treatment for \n",
    "# measures at the 0.125th and the 99.875th percentiles\n",
    "readmission = treat_outliers(readmission)\n",
    "readmission.head()\n"
   ]
  },
  {
   "cell_type": "code",
   "execution_count": 80,
   "metadata": {
    "pycharm": {
     "is_executing": false,
     "name": "#%%\n"
    }
   },
   "outputs": [
    {
     "data": {
      "text/html": [
       "<div>\n",
       "<style scoped>\n",
       "    .dataframe tbody tr th:only-of-type {\n",
       "        vertical-align: middle;\n",
       "    }\n",
       "\n",
       "    .dataframe tbody tr th {\n",
       "        vertical-align: top;\n",
       "    }\n",
       "\n",
       "    .dataframe thead th {\n",
       "        text-align: right;\n",
       "    }\n",
       "</style>\n",
       "<table border=\"1\" class=\"dataframe\">\n",
       "  <thead>\n",
       "    <tr style=\"text-align: right;\">\n",
       "      <th>Measure ID</th>\n",
       "      <th>READM_30_AMI_score</th>\n",
       "      <th>READM_30_CABG_score</th>\n",
       "      <th>READM_30_COPD_score</th>\n",
       "      <th>READM_30_HF_score</th>\n",
       "      <th>READM_30_HIP_KNEE_score</th>\n",
       "      <th>READM_30_HOSP_WIDE_score</th>\n",
       "      <th>READM_30_PN_score</th>\n",
       "      <th>READM_30_STK_score</th>\n",
       "    </tr>\n",
       "    <tr>\n",
       "      <th>Provider ID</th>\n",
       "      <th></th>\n",
       "      <th></th>\n",
       "      <th></th>\n",
       "      <th></th>\n",
       "      <th></th>\n",
       "      <th></th>\n",
       "      <th></th>\n",
       "      <th></th>\n",
       "    </tr>\n",
       "  </thead>\n",
       "  <tbody>\n",
       "    <tr>\n",
       "      <th>10001</th>\n",
       "      <td>0.408730</td>\n",
       "      <td>-0.615156</td>\n",
       "      <td>-0.866907</td>\n",
       "      <td>0.370423</td>\n",
       "      <td>-0.884170</td>\n",
       "      <td>0.215408</td>\n",
       "      <td>-1.105482</td>\n",
       "      <td>-0.124569</td>\n",
       "    </tr>\n",
       "    <tr>\n",
       "      <th>10005</th>\n",
       "      <td>0.199974</td>\n",
       "      <td>NaN</td>\n",
       "      <td>1.574551</td>\n",
       "      <td>0.036453</td>\n",
       "      <td>-1.968440</td>\n",
       "      <td>0.820649</td>\n",
       "      <td>0.495640</td>\n",
       "      <td>-0.777118</td>\n",
       "    </tr>\n",
       "    <tr>\n",
       "      <th>10006</th>\n",
       "      <td>0.826243</td>\n",
       "      <td>-0.703937</td>\n",
       "      <td>0.156930</td>\n",
       "      <td>0.904776</td>\n",
       "      <td>-0.703459</td>\n",
       "      <td>0.215408</td>\n",
       "      <td>-0.548570</td>\n",
       "      <td>0.527980</td>\n",
       "    </tr>\n",
       "    <tr>\n",
       "      <th>10007</th>\n",
       "      <td>NaN</td>\n",
       "      <td>NaN</td>\n",
       "      <td>0.078174</td>\n",
       "      <td>0.570805</td>\n",
       "      <td>NaN</td>\n",
       "      <td>-1.237171</td>\n",
       "      <td>-0.130886</td>\n",
       "      <td>-0.124569</td>\n",
       "    </tr>\n",
       "    <tr>\n",
       "      <th>10008</th>\n",
       "      <td>NaN</td>\n",
       "      <td>NaN</td>\n",
       "      <td>0.629471</td>\n",
       "      <td>-0.765075</td>\n",
       "      <td>NaN</td>\n",
       "      <td>-0.147737</td>\n",
       "      <td>0.774096</td>\n",
       "      <td>NaN</td>\n",
       "    </tr>\n",
       "  </tbody>\n",
       "</table>\n",
       "</div>"
      ],
      "text/plain": [
       "Measure ID   READM_30_AMI_score  READM_30_CABG_score  READM_30_COPD_score  \\\n",
       "Provider ID                                                                 \n",
       "10001                  0.408730            -0.615156            -0.866907   \n",
       "10005                  0.199974                  NaN             1.574551   \n",
       "10006                  0.826243            -0.703937             0.156930   \n",
       "10007                       NaN                  NaN             0.078174   \n",
       "10008                       NaN                  NaN             0.629471   \n",
       "\n",
       "Measure ID   READM_30_HF_score  READM_30_HIP_KNEE_score  \\\n",
       "Provider ID                                               \n",
       "10001                 0.370423                -0.884170   \n",
       "10005                 0.036453                -1.968440   \n",
       "10006                 0.904776                -0.703459   \n",
       "10007                 0.570805                      NaN   \n",
       "10008                -0.765075                      NaN   \n",
       "\n",
       "Measure ID   READM_30_HOSP_WIDE_score  READM_30_PN_score  READM_30_STK_score  \n",
       "Provider ID                                                                   \n",
       "10001                        0.215408          -1.105482           -0.124569  \n",
       "10005                        0.820649           0.495640           -0.777118  \n",
       "10006                        0.215408          -0.548570            0.527980  \n",
       "10007                       -1.237171          -0.130886           -0.124569  \n",
       "10008                       -0.147737           0.774096                 NaN  "
      ]
     },
     "execution_count": 80,
     "metadata": {},
     "output_type": "execute_result"
    }
   ],
   "source": [
    "\n",
    "readmission.to_csv(\"cleaned_readmission_data.csv\")\n",
    "\n",
    "readmission.head()\n",
    "\n",
    "\n"
   ]
  },
  {
   "cell_type": "code",
   "execution_count": 81,
   "metadata": {},
   "outputs": [
    {
     "data": {
      "text/html": [
       "<div>\n",
       "<style scoped>\n",
       "    .dataframe tbody tr th:only-of-type {\n",
       "        vertical-align: middle;\n",
       "    }\n",
       "\n",
       "    .dataframe tbody tr th {\n",
       "        vertical-align: top;\n",
       "    }\n",
       "\n",
       "    .dataframe thead th {\n",
       "        text-align: right;\n",
       "    }\n",
       "</style>\n",
       "<table border=\"1\" class=\"dataframe\">\n",
       "  <thead>\n",
       "    <tr style=\"text-align: right;\">\n",
       "      <th></th>\n",
       "      <th>Hospital Name</th>\n",
       "      <th>Address</th>\n",
       "      <th>City</th>\n",
       "      <th>State</th>\n",
       "      <th>ZIP Code</th>\n",
       "      <th>County Name</th>\n",
       "      <th>Phone Number</th>\n",
       "      <th>READM_30_AMI_score</th>\n",
       "      <th>READM_30_CABG_score</th>\n",
       "      <th>READM_30_COPD_score</th>\n",
       "      <th>READM_30_HF_score</th>\n",
       "      <th>READM_30_HIP_KNEE_score</th>\n",
       "      <th>READM_30_HOSP_WIDE_score</th>\n",
       "      <th>READM_30_PN_score</th>\n",
       "      <th>READM_30_STK_score</th>\n",
       "    </tr>\n",
       "    <tr>\n",
       "      <th>Provider ID</th>\n",
       "      <th></th>\n",
       "      <th></th>\n",
       "      <th></th>\n",
       "      <th></th>\n",
       "      <th></th>\n",
       "      <th></th>\n",
       "      <th></th>\n",
       "      <th></th>\n",
       "      <th></th>\n",
       "      <th></th>\n",
       "      <th></th>\n",
       "      <th></th>\n",
       "      <th></th>\n",
       "      <th></th>\n",
       "      <th></th>\n",
       "    </tr>\n",
       "  </thead>\n",
       "  <tbody>\n",
       "    <tr>\n",
       "      <th>10001</th>\n",
       "      <td>SOUTHEAST ALABAMA MEDICAL CENTER</td>\n",
       "      <td>1108 ROSS CLARK CIRCLE</td>\n",
       "      <td>DOTHAN</td>\n",
       "      <td>AL</td>\n",
       "      <td>36301</td>\n",
       "      <td>HOUSTON</td>\n",
       "      <td>3347938701</td>\n",
       "      <td>0.408730</td>\n",
       "      <td>-0.615156</td>\n",
       "      <td>-0.866907</td>\n",
       "      <td>0.370423</td>\n",
       "      <td>-0.884170</td>\n",
       "      <td>0.215408</td>\n",
       "      <td>-1.105482</td>\n",
       "      <td>-0.124569</td>\n",
       "    </tr>\n",
       "    <tr>\n",
       "      <th>10005</th>\n",
       "      <td>MARSHALL MEDICAL CENTER SOUTH</td>\n",
       "      <td>2505 U S HIGHWAY 431 NORTH</td>\n",
       "      <td>BOAZ</td>\n",
       "      <td>AL</td>\n",
       "      <td>35957</td>\n",
       "      <td>MARSHALL</td>\n",
       "      <td>2565938310</td>\n",
       "      <td>0.199974</td>\n",
       "      <td>NaN</td>\n",
       "      <td>1.574551</td>\n",
       "      <td>0.036453</td>\n",
       "      <td>-1.968440</td>\n",
       "      <td>0.820649</td>\n",
       "      <td>0.495640</td>\n",
       "      <td>-0.777118</td>\n",
       "    </tr>\n",
       "    <tr>\n",
       "      <th>10006</th>\n",
       "      <td>ELIZA COFFEE MEMORIAL HOSPITAL</td>\n",
       "      <td>205 MARENGO STREET</td>\n",
       "      <td>FLORENCE</td>\n",
       "      <td>AL</td>\n",
       "      <td>35631</td>\n",
       "      <td>LAUDERDALE</td>\n",
       "      <td>2567688400</td>\n",
       "      <td>0.826243</td>\n",
       "      <td>-0.703937</td>\n",
       "      <td>0.156930</td>\n",
       "      <td>0.904776</td>\n",
       "      <td>-0.703459</td>\n",
       "      <td>0.215408</td>\n",
       "      <td>-0.548570</td>\n",
       "      <td>0.527980</td>\n",
       "    </tr>\n",
       "    <tr>\n",
       "      <th>10007</th>\n",
       "      <td>MIZELL MEMORIAL HOSPITAL</td>\n",
       "      <td>702 N MAIN ST</td>\n",
       "      <td>OPP</td>\n",
       "      <td>AL</td>\n",
       "      <td>36467</td>\n",
       "      <td>COVINGTON</td>\n",
       "      <td>3344933541</td>\n",
       "      <td>NaN</td>\n",
       "      <td>NaN</td>\n",
       "      <td>0.078174</td>\n",
       "      <td>0.570805</td>\n",
       "      <td>NaN</td>\n",
       "      <td>-1.237171</td>\n",
       "      <td>-0.130886</td>\n",
       "      <td>-0.124569</td>\n",
       "    </tr>\n",
       "    <tr>\n",
       "      <th>10008</th>\n",
       "      <td>CRENSHAW COMMUNITY HOSPITAL</td>\n",
       "      <td>101 HOSPITAL CIRCLE</td>\n",
       "      <td>LUVERNE</td>\n",
       "      <td>AL</td>\n",
       "      <td>36049</td>\n",
       "      <td>CRENSHAW</td>\n",
       "      <td>3343353374</td>\n",
       "      <td>NaN</td>\n",
       "      <td>NaN</td>\n",
       "      <td>0.629471</td>\n",
       "      <td>-0.765075</td>\n",
       "      <td>NaN</td>\n",
       "      <td>-0.147737</td>\n",
       "      <td>0.774096</td>\n",
       "      <td>NaN</td>\n",
       "    </tr>\n",
       "    <tr>\n",
       "      <th>10011</th>\n",
       "      <td>ST VINCENT'S EAST</td>\n",
       "      <td>50 MEDICAL PARK EAST DRIVE</td>\n",
       "      <td>BIRMINGHAM</td>\n",
       "      <td>AL</td>\n",
       "      <td>35235</td>\n",
       "      <td>JEFFERSON</td>\n",
       "      <td>2058383122</td>\n",
       "      <td>-0.843809</td>\n",
       "      <td>-0.526375</td>\n",
       "      <td>0.314444</td>\n",
       "      <td>1.439128</td>\n",
       "      <td>-0.884170</td>\n",
       "      <td>0.336456</td>\n",
       "      <td>0.286798</td>\n",
       "      <td>1.180529</td>\n",
       "    </tr>\n",
       "    <tr>\n",
       "      <th>10012</th>\n",
       "      <td>DEKALB REGIONAL MEDICAL CENTER</td>\n",
       "      <td>200 MED CENTER DRIVE</td>\n",
       "      <td>FORT PAYNE</td>\n",
       "      <td>AL</td>\n",
       "      <td>35968</td>\n",
       "      <td>DE KALB</td>\n",
       "      <td>2568453150</td>\n",
       "      <td>0.826243</td>\n",
       "      <td>NaN</td>\n",
       "      <td>0.629471</td>\n",
       "      <td>-0.965457</td>\n",
       "      <td>NaN</td>\n",
       "      <td>0.336456</td>\n",
       "      <td>-1.592780</td>\n",
       "      <td>-0.217790</td>\n",
       "    </tr>\n",
       "    <tr>\n",
       "      <th>10016</th>\n",
       "      <td>SHELBY BAPTIST MEDICAL CENTER</td>\n",
       "      <td>1000 FIRST STREET NORTH</td>\n",
       "      <td>ALABASTER</td>\n",
       "      <td>AL</td>\n",
       "      <td>35007</td>\n",
       "      <td>SHELBY</td>\n",
       "      <td>2056208100</td>\n",
       "      <td>-0.843809</td>\n",
       "      <td>-1.236623</td>\n",
       "      <td>1.653308</td>\n",
       "      <td>0.303629</td>\n",
       "      <td>-0.703459</td>\n",
       "      <td>1.062745</td>\n",
       "      <td>0.008342</td>\n",
       "      <td>0.155095</td>\n",
       "    </tr>\n",
       "    <tr>\n",
       "      <th>10018</th>\n",
       "      <td>CALLAHAN EYE HOSPITAL</td>\n",
       "      <td>1720 UNIVERSITY BLVD</td>\n",
       "      <td>BIRMINGHAM</td>\n",
       "      <td>AL</td>\n",
       "      <td>35233</td>\n",
       "      <td>JEFFERSON</td>\n",
       "      <td>2053258100</td>\n",
       "      <td>NaN</td>\n",
       "      <td>NaN</td>\n",
       "      <td>NaN</td>\n",
       "      <td>NaN</td>\n",
       "      <td>NaN</td>\n",
       "      <td>NaN</td>\n",
       "      <td>NaN</td>\n",
       "      <td>NaN</td>\n",
       "    </tr>\n",
       "    <tr>\n",
       "      <th>10019</th>\n",
       "      <td>HELEN KELLER MEMORIAL HOSPITAL</td>\n",
       "      <td>1300 SOUTH MONTGOMERY AVENUE</td>\n",
       "      <td>SHEFFIELD</td>\n",
       "      <td>AL</td>\n",
       "      <td>35660</td>\n",
       "      <td>COLBERT</td>\n",
       "      <td>2563864556</td>\n",
       "      <td>NaN</td>\n",
       "      <td>NaN</td>\n",
       "      <td>-2.363284</td>\n",
       "      <td>-0.297517</td>\n",
       "      <td>0.922946</td>\n",
       "      <td>-0.389833</td>\n",
       "      <td>-0.827026</td>\n",
       "      <td>-0.870339</td>\n",
       "    </tr>\n",
       "    <tr>\n",
       "      <th>10021</th>\n",
       "      <td>DALE MEDICAL CENTER</td>\n",
       "      <td>126 HOSPITAL AVE</td>\n",
       "      <td>OZARK</td>\n",
       "      <td>AL</td>\n",
       "      <td>36360</td>\n",
       "      <td>DALE</td>\n",
       "      <td>3347742601</td>\n",
       "      <td>NaN</td>\n",
       "      <td>NaN</td>\n",
       "      <td>0.078174</td>\n",
       "      <td>0.437217</td>\n",
       "      <td>-0.884170</td>\n",
       "      <td>0.941697</td>\n",
       "      <td>0.495640</td>\n",
       "      <td>NaN</td>\n",
       "    </tr>\n",
       "    <tr>\n",
       "      <th>10022</th>\n",
       "      <td>CHEROKEE MEDICAL CENTER</td>\n",
       "      <td>400 NORTHWOOD DR</td>\n",
       "      <td>CENTRE</td>\n",
       "      <td>AL</td>\n",
       "      <td>35960</td>\n",
       "      <td>CHEROKEE</td>\n",
       "      <td>2569275531</td>\n",
       "      <td>NaN</td>\n",
       "      <td>NaN</td>\n",
       "      <td>0.629471</td>\n",
       "      <td>0.437217</td>\n",
       "      <td>NaN</td>\n",
       "      <td>0.457504</td>\n",
       "      <td>1.261394</td>\n",
       "      <td>NaN</td>\n",
       "    </tr>\n",
       "    <tr>\n",
       "      <th>10023</th>\n",
       "      <td>BAPTIST MEDICAL CENTER SOUTH</td>\n",
       "      <td>2105 EAST SOUTH BOULEVARD</td>\n",
       "      <td>MONTGOMERY</td>\n",
       "      <td>AL</td>\n",
       "      <td>36116</td>\n",
       "      <td>MONTGOMERY</td>\n",
       "      <td>3342882100</td>\n",
       "      <td>-1.261322</td>\n",
       "      <td>-1.059061</td>\n",
       "      <td>0.393201</td>\n",
       "      <td>-0.898663</td>\n",
       "      <td>-0.161324</td>\n",
       "      <td>-0.026688</td>\n",
       "      <td>-1.035868</td>\n",
       "      <td>-1.150003</td>\n",
       "    </tr>\n",
       "    <tr>\n",
       "      <th>10024</th>\n",
       "      <td>JACKSON HOSPITAL &amp; CLINIC INC</td>\n",
       "      <td>1725 PINE STREET</td>\n",
       "      <td>MONTGOMERY</td>\n",
       "      <td>AL</td>\n",
       "      <td>36106</td>\n",
       "      <td>MONTGOMERY</td>\n",
       "      <td>3342938000</td>\n",
       "      <td>-1.052565</td>\n",
       "      <td>0.361435</td>\n",
       "      <td>2.204605</td>\n",
       "      <td>1.973480</td>\n",
       "      <td>-0.522747</td>\n",
       "      <td>0.578553</td>\n",
       "      <td>0.147570</td>\n",
       "      <td>-0.404233</td>\n",
       "    </tr>\n",
       "    <tr>\n",
       "      <th>10029</th>\n",
       "      <td>EAST ALABAMA MEDICAL CENTER</td>\n",
       "      <td>2000 PEPPERELL PARKWAY</td>\n",
       "      <td>OPELIKA</td>\n",
       "      <td>AL</td>\n",
       "      <td>36801</td>\n",
       "      <td>LEE</td>\n",
       "      <td>3347493411</td>\n",
       "      <td>0.095596</td>\n",
       "      <td>1.604368</td>\n",
       "      <td>0.629471</td>\n",
       "      <td>-0.831869</td>\n",
       "      <td>-2.329863</td>\n",
       "      <td>0.457504</td>\n",
       "      <td>0.913324</td>\n",
       "      <td>0.434758</td>\n",
       "    </tr>\n",
       "    <tr>\n",
       "      <th>10032</th>\n",
       "      <td>WEDOWEE HOSPITAL</td>\n",
       "      <td>209 NORTH MAIN STREET</td>\n",
       "      <td>WEDOWEE</td>\n",
       "      <td>AL</td>\n",
       "      <td>36278</td>\n",
       "      <td>RANDOLPH</td>\n",
       "      <td>2563572111</td>\n",
       "      <td>NaN</td>\n",
       "      <td>NaN</td>\n",
       "      <td>1.102011</td>\n",
       "      <td>0.236835</td>\n",
       "      <td>NaN</td>\n",
       "      <td>0.820649</td>\n",
       "      <td>0.565254</td>\n",
       "      <td>NaN</td>\n",
       "    </tr>\n",
       "    <tr>\n",
       "      <th>10033</th>\n",
       "      <td>UNIVERSITY OF ALABAMA HOSPITAL</td>\n",
       "      <td>619 SOUTH 19TH STREET</td>\n",
       "      <td>BIRMINGHAM</td>\n",
       "      <td>AL</td>\n",
       "      <td>35233</td>\n",
       "      <td>JEFFERSON</td>\n",
       "      <td>2059344011</td>\n",
       "      <td>-1.156944</td>\n",
       "      <td>0.361435</td>\n",
       "      <td>0.078174</td>\n",
       "      <td>-1.165840</td>\n",
       "      <td>-1.968440</td>\n",
       "      <td>-1.116122</td>\n",
       "      <td>-1.035868</td>\n",
       "      <td>-3.200870</td>\n",
       "    </tr>\n",
       "    <tr>\n",
       "      <th>10034</th>\n",
       "      <td>COMMUNITY HOSPITAL INC</td>\n",
       "      <td>805 FRIENDSHIP ROAD</td>\n",
       "      <td>TALLASSEE</td>\n",
       "      <td>AL</td>\n",
       "      <td>36078</td>\n",
       "      <td>ELMORE</td>\n",
       "      <td>3342836541</td>\n",
       "      <td>NaN</td>\n",
       "      <td>NaN</td>\n",
       "      <td>-0.079340</td>\n",
       "      <td>0.170041</td>\n",
       "      <td>NaN</td>\n",
       "      <td>1.062745</td>\n",
       "      <td>0.913324</td>\n",
       "      <td>-0.124569</td>\n",
       "    </tr>\n",
       "    <tr>\n",
       "      <th>10035</th>\n",
       "      <td>CULLMAN REGIONAL MEDICAL CENTER</td>\n",
       "      <td>1912 ALABAMA HIGHWAY 157</td>\n",
       "      <td>CULLMAN</td>\n",
       "      <td>AL</td>\n",
       "      <td>35058</td>\n",
       "      <td>CULLMAN</td>\n",
       "      <td>2567372000</td>\n",
       "      <td>0.721865</td>\n",
       "      <td>NaN</td>\n",
       "      <td>0.156930</td>\n",
       "      <td>-0.564693</td>\n",
       "      <td>0.019388</td>\n",
       "      <td>-0.147737</td>\n",
       "      <td>0.356412</td>\n",
       "      <td>0.061873</td>\n",
       "    </tr>\n",
       "    <tr>\n",
       "      <th>10036</th>\n",
       "      <td>ANDALUSIA REGIONAL HOSPITAL</td>\n",
       "      <td>849 SOUTH THREE NOTCH STREET</td>\n",
       "      <td>ANDALUSIA</td>\n",
       "      <td>AL</td>\n",
       "      <td>36420</td>\n",
       "      <td>COVINGTON</td>\n",
       "      <td>3342228466</td>\n",
       "      <td>NaN</td>\n",
       "      <td>NaN</td>\n",
       "      <td>0.156930</td>\n",
       "      <td>-0.965457</td>\n",
       "      <td>1.284369</td>\n",
       "      <td>-0.995074</td>\n",
       "      <td>-0.061272</td>\n",
       "      <td>0.061873</td>\n",
       "    </tr>\n",
       "    <tr>\n",
       "      <th>10038</th>\n",
       "      <td>STRINGFELLOW MEMORIAL HOSPITAL</td>\n",
       "      <td>301 EAST 18TH ST</td>\n",
       "      <td>ANNISTON</td>\n",
       "      <td>AL</td>\n",
       "      <td>36201</td>\n",
       "      <td>CALHOUN</td>\n",
       "      <td>2562358900</td>\n",
       "      <td>-0.843809</td>\n",
       "      <td>NaN</td>\n",
       "      <td>-0.236853</td>\n",
       "      <td>-1.366222</td>\n",
       "      <td>-0.161324</td>\n",
       "      <td>-0.389833</td>\n",
       "      <td>-0.409342</td>\n",
       "      <td>-0.870339</td>\n",
       "    </tr>\n",
       "    <tr>\n",
       "      <th>10039</th>\n",
       "      <td>HUNTSVILLE HOSPITAL</td>\n",
       "      <td>101 SIVLEY RD</td>\n",
       "      <td>HUNTSVILLE</td>\n",
       "      <td>AL</td>\n",
       "      <td>35801</td>\n",
       "      <td>MADISON</td>\n",
       "      <td>2562651000</td>\n",
       "      <td>0.617487</td>\n",
       "      <td>0.627778</td>\n",
       "      <td>0.629471</td>\n",
       "      <td>0.303629</td>\n",
       "      <td>-0.342035</td>\n",
       "      <td>0.457504</td>\n",
       "      <td>-0.130886</td>\n",
       "      <td>0.248316</td>\n",
       "    </tr>\n",
       "    <tr>\n",
       "      <th>10040</th>\n",
       "      <td>GADSDEN REGIONAL MEDICAL CENTER</td>\n",
       "      <td>1007 GOODYEAR AVENUE</td>\n",
       "      <td>GADSDEN</td>\n",
       "      <td>AL</td>\n",
       "      <td>35903</td>\n",
       "      <td>ETOWAH</td>\n",
       "      <td>2564944000</td>\n",
       "      <td>-0.217539</td>\n",
       "      <td>-1.414185</td>\n",
       "      <td>0.235687</td>\n",
       "      <td>0.637599</td>\n",
       "      <td>-3.775556</td>\n",
       "      <td>-0.389833</td>\n",
       "      <td>-0.618184</td>\n",
       "      <td>-0.497454</td>\n",
       "    </tr>\n",
       "    <tr>\n",
       "      <th>10044</th>\n",
       "      <td>MARION REGIONAL MEDICAL CENTER</td>\n",
       "      <td>1256 MILITARY STREET SOUTH</td>\n",
       "      <td>HAMILTON</td>\n",
       "      <td>AL</td>\n",
       "      <td>35570</td>\n",
       "      <td>MARION</td>\n",
       "      <td>2059216200</td>\n",
       "      <td>NaN</td>\n",
       "      <td>NaN</td>\n",
       "      <td>0.786984</td>\n",
       "      <td>0.771187</td>\n",
       "      <td>NaN</td>\n",
       "      <td>0.820649</td>\n",
       "      <td>1.331008</td>\n",
       "      <td>NaN</td>\n",
       "    </tr>\n",
       "    <tr>\n",
       "      <th>10045</th>\n",
       "      <td>FAYETTE MEDICAL CENTER</td>\n",
       "      <td>1653 TEMPLE AVENUE NORTH</td>\n",
       "      <td>FAYETTE</td>\n",
       "      <td>AL</td>\n",
       "      <td>35555</td>\n",
       "      <td>FAYETTE</td>\n",
       "      <td>2059325966</td>\n",
       "      <td>NaN</td>\n",
       "      <td>NaN</td>\n",
       "      <td>-1.339447</td>\n",
       "      <td>-0.163929</td>\n",
       "      <td>NaN</td>\n",
       "      <td>-0.389833</td>\n",
       "      <td>-1.801622</td>\n",
       "      <td>1.273750</td>\n",
       "    </tr>\n",
       "    <tr>\n",
       "      <th>10046</th>\n",
       "      <td>RIVERVIEW REGIONAL MEDICAL CENTER</td>\n",
       "      <td>600 SOUTH THIRD STREET</td>\n",
       "      <td>GADSDEN</td>\n",
       "      <td>AL</td>\n",
       "      <td>35901</td>\n",
       "      <td>ETOWAH</td>\n",
       "      <td>2565435200</td>\n",
       "      <td>-1.052565</td>\n",
       "      <td>0.183873</td>\n",
       "      <td>-1.024420</td>\n",
       "      <td>-0.230723</td>\n",
       "      <td>-0.342035</td>\n",
       "      <td>-0.026688</td>\n",
       "      <td>-0.270114</td>\n",
       "      <td>-0.124569</td>\n",
       "    </tr>\n",
       "    <tr>\n",
       "      <th>10047</th>\n",
       "      <td>GEORGIANA MEDICAL CENTER</td>\n",
       "      <td>515 N MIRANDA AVENUE</td>\n",
       "      <td>GEORGIANA</td>\n",
       "      <td>AL</td>\n",
       "      <td>36033</td>\n",
       "      <td>BUTLER</td>\n",
       "      <td>3343762205</td>\n",
       "      <td>NaN</td>\n",
       "      <td>NaN</td>\n",
       "      <td>-0.000583</td>\n",
       "      <td>NaN</td>\n",
       "      <td>NaN</td>\n",
       "      <td>-0.268785</td>\n",
       "      <td>-0.687798</td>\n",
       "      <td>NaN</td>\n",
       "    </tr>\n",
       "    <tr>\n",
       "      <th>10049</th>\n",
       "      <td>MEDICAL CENTER ENTERPRISE</td>\n",
       "      <td>400 N EDWARDS STREET</td>\n",
       "      <td>ENTERPRISE</td>\n",
       "      <td>AL</td>\n",
       "      <td>36330</td>\n",
       "      <td>COFFEE</td>\n",
       "      <td>3343470584</td>\n",
       "      <td>NaN</td>\n",
       "      <td>NaN</td>\n",
       "      <td>-1.024420</td>\n",
       "      <td>-0.364311</td>\n",
       "      <td>0.561523</td>\n",
       "      <td>1.062745</td>\n",
       "      <td>0.913324</td>\n",
       "      <td>0.155095</td>\n",
       "    </tr>\n",
       "    <tr>\n",
       "      <th>10051</th>\n",
       "      <td>GREENE COUNTY HOSPITAL</td>\n",
       "      <td>509 WILSON AVENUE</td>\n",
       "      <td>EUTAW</td>\n",
       "      <td>AL</td>\n",
       "      <td>35462</td>\n",
       "      <td>GREENE</td>\n",
       "      <td>2053723388</td>\n",
       "      <td>NaN</td>\n",
       "      <td>NaN</td>\n",
       "      <td>-0.315610</td>\n",
       "      <td>0.570805</td>\n",
       "      <td>NaN</td>\n",
       "      <td>0.820649</td>\n",
       "      <td>0.217184</td>\n",
       "      <td>NaN</td>\n",
       "    </tr>\n",
       "    <tr>\n",
       "      <th>10052</th>\n",
       "      <td>LAKE MARTIN COMMUNITY HOSPITAL</td>\n",
       "      <td>201 MARIARDEN ROAD</td>\n",
       "      <td>DADEVILLE</td>\n",
       "      <td>AL</td>\n",
       "      <td>36853</td>\n",
       "      <td>TALLAPOOSA</td>\n",
       "      <td>2568257821</td>\n",
       "      <td>NaN</td>\n",
       "      <td>NaN</td>\n",
       "      <td>0.708227</td>\n",
       "      <td>0.303629</td>\n",
       "      <td>NaN</td>\n",
       "      <td>1.183794</td>\n",
       "      <td>-0.270114</td>\n",
       "      <td>NaN</td>\n",
       "    </tr>\n",
       "    <tr>\n",
       "      <th>...</th>\n",
       "      <td>...</td>\n",
       "      <td>...</td>\n",
       "      <td>...</td>\n",
       "      <td>...</td>\n",
       "      <td>...</td>\n",
       "      <td>...</td>\n",
       "      <td>...</td>\n",
       "      <td>...</td>\n",
       "      <td>...</td>\n",
       "      <td>...</td>\n",
       "      <td>...</td>\n",
       "      <td>...</td>\n",
       "      <td>...</td>\n",
       "      <td>...</td>\n",
       "      <td>...</td>\n",
       "    </tr>\n",
       "    <tr>\n",
       "      <th>670078</th>\n",
       "      <td>BAPTIST EMERGENCY HOSPITAL</td>\n",
       "      <td>16088 SAN PEDRO</td>\n",
       "      <td>SAN ANTONIO</td>\n",
       "      <td>TX</td>\n",
       "      <td>78232</td>\n",
       "      <td>BEXAR</td>\n",
       "      <td>2104024092</td>\n",
       "      <td>NaN</td>\n",
       "      <td>NaN</td>\n",
       "      <td>0.629471</td>\n",
       "      <td>NaN</td>\n",
       "      <td>NaN</td>\n",
       "      <td>0.215408</td>\n",
       "      <td>0.843710</td>\n",
       "      <td>NaN</td>\n",
       "    </tr>\n",
       "    <tr>\n",
       "      <th>670079</th>\n",
       "      <td>LAKEWAY REGIONAL MEDICAL CENTER, LLC</td>\n",
       "      <td>100  MEDICAL PARKWAY</td>\n",
       "      <td>LAKEWAY</td>\n",
       "      <td>TX</td>\n",
       "      <td>78734</td>\n",
       "      <td>TRAVIS</td>\n",
       "      <td>5122058102</td>\n",
       "      <td>-0.321917</td>\n",
       "      <td>NaN</td>\n",
       "      <td>0.314444</td>\n",
       "      <td>-0.030341</td>\n",
       "      <td>NaN</td>\n",
       "      <td>-1.116122</td>\n",
       "      <td>-0.339728</td>\n",
       "      <td>0.714422</td>\n",
       "    </tr>\n",
       "    <tr>\n",
       "      <th>670080</th>\n",
       "      <td>SETON MEDICAL CENTER HARKER HEIGHTS</td>\n",
       "      <td>850 W CENTRAL TEXAS EXPRESSWAY</td>\n",
       "      <td>HARKER HEIGHTS</td>\n",
       "      <td>TX</td>\n",
       "      <td>76548</td>\n",
       "      <td>BELL</td>\n",
       "      <td>2549538342</td>\n",
       "      <td>-0.635052</td>\n",
       "      <td>NaN</td>\n",
       "      <td>0.314444</td>\n",
       "      <td>0.036453</td>\n",
       "      <td>0.200100</td>\n",
       "      <td>0.215408</td>\n",
       "      <td>-0.478956</td>\n",
       "      <td>-0.031348</td>\n",
       "    </tr>\n",
       "    <tr>\n",
       "      <th>670082</th>\n",
       "      <td>BAYLOR SCOTT AND WHITE  MEDICAL CENTER  MCKINNEY</td>\n",
       "      <td>5252 WEST UNIVERSITY DRIVE</td>\n",
       "      <td>MC KINNEY</td>\n",
       "      <td>TX</td>\n",
       "      <td>75071</td>\n",
       "      <td>COLLIN</td>\n",
       "      <td>4697642200</td>\n",
       "      <td>0.617487</td>\n",
       "      <td>NaN</td>\n",
       "      <td>1.574551</td>\n",
       "      <td>-1.499810</td>\n",
       "      <td>0.200100</td>\n",
       "      <td>0.094360</td>\n",
       "      <td>-1.035868</td>\n",
       "      <td>1.553414</td>\n",
       "    </tr>\n",
       "    <tr>\n",
       "      <th>670083</th>\n",
       "      <td>TEXAS GENERAL HOSPITAL</td>\n",
       "      <td>2709 HOSPITAL BLVD</td>\n",
       "      <td>GRAND PRAIRIE</td>\n",
       "      <td>TX</td>\n",
       "      <td>75051</td>\n",
       "      <td>DALLAS</td>\n",
       "      <td>4696352073</td>\n",
       "      <td>NaN</td>\n",
       "      <td>NaN</td>\n",
       "      <td>NaN</td>\n",
       "      <td>NaN</td>\n",
       "      <td>NaN</td>\n",
       "      <td>-0.389833</td>\n",
       "      <td>NaN</td>\n",
       "      <td>NaN</td>\n",
       "    </tr>\n",
       "    <tr>\n",
       "      <th>670085</th>\n",
       "      <td>TEXAS HEALTH HARRIS METHODIST HOSPITAL ALLIANCE</td>\n",
       "      <td>10864 TEXAS HEALTH TRAIL</td>\n",
       "      <td>FORT WORTH</td>\n",
       "      <td>TX</td>\n",
       "      <td>76244</td>\n",
       "      <td>TARRANT</td>\n",
       "      <td>6822122000</td>\n",
       "      <td>NaN</td>\n",
       "      <td>NaN</td>\n",
       "      <td>0.944497</td>\n",
       "      <td>0.370423</td>\n",
       "      <td>NaN</td>\n",
       "      <td>0.457504</td>\n",
       "      <td>1.122166</td>\n",
       "      <td>NaN</td>\n",
       "    </tr>\n",
       "    <tr>\n",
       "      <th>670087</th>\n",
       "      <td>BAYLOR SCOTT &amp; WHITE EMERGENCY MEDICAL CENTER ...</td>\n",
       "      <td>900 EAST WHITESTONE BLVD</td>\n",
       "      <td>CEDAR PARK</td>\n",
       "      <td>TX</td>\n",
       "      <td>78613</td>\n",
       "      <td>WILLIAMSON</td>\n",
       "      <td>5126844911</td>\n",
       "      <td>NaN</td>\n",
       "      <td>NaN</td>\n",
       "      <td>NaN</td>\n",
       "      <td>NaN</td>\n",
       "      <td>NaN</td>\n",
       "      <td>NaN</td>\n",
       "      <td>NaN</td>\n",
       "      <td>NaN</td>\n",
       "    </tr>\n",
       "    <tr>\n",
       "      <th>670088</th>\n",
       "      <td>BAYLOR SCOTT &amp; WHITE MEDICAL CENTER- COLLEGE S...</td>\n",
       "      <td>700 SCOTT &amp; WHITE DRIVE</td>\n",
       "      <td>COLLEGE STATION</td>\n",
       "      <td>TX</td>\n",
       "      <td>77845</td>\n",
       "      <td>BRAZOS</td>\n",
       "      <td>9796913701</td>\n",
       "      <td>-0.843809</td>\n",
       "      <td>NaN</td>\n",
       "      <td>0.550714</td>\n",
       "      <td>0.370423</td>\n",
       "      <td>-0.161324</td>\n",
       "      <td>-0.026688</td>\n",
       "      <td>-0.270114</td>\n",
       "      <td>0.434758</td>\n",
       "    </tr>\n",
       "    <tr>\n",
       "      <th>670089</th>\n",
       "      <td>NIX COMMUNITY GENERAL HOSPITAL</td>\n",
       "      <td>230 WEST MILLER STREET</td>\n",
       "      <td>DILLEY</td>\n",
       "      <td>TX</td>\n",
       "      <td>78017</td>\n",
       "      <td>FRIO</td>\n",
       "      <td>2102712190</td>\n",
       "      <td>NaN</td>\n",
       "      <td>NaN</td>\n",
       "      <td>NaN</td>\n",
       "      <td>NaN</td>\n",
       "      <td>NaN</td>\n",
       "      <td>NaN</td>\n",
       "      <td>NaN</td>\n",
       "      <td>NaN</td>\n",
       "    </tr>\n",
       "    <tr>\n",
       "      <th>670090</th>\n",
       "      <td>CRESCENT MEDICAL CENTER LANCASTER</td>\n",
       "      <td>2600 WEST PLEASANT RUN ROAD</td>\n",
       "      <td>LANCASTER</td>\n",
       "      <td>TX</td>\n",
       "      <td>75146</td>\n",
       "      <td>DALLAS</td>\n",
       "      <td>9722308888</td>\n",
       "      <td>NaN</td>\n",
       "      <td>NaN</td>\n",
       "      <td>NaN</td>\n",
       "      <td>NaN</td>\n",
       "      <td>NaN</td>\n",
       "      <td>0.457504</td>\n",
       "      <td>NaN</td>\n",
       "      <td>NaN</td>\n",
       "    </tr>\n",
       "    <tr>\n",
       "      <th>670092</th>\n",
       "      <td>WALNUT HILL MEDICAL CENTER</td>\n",
       "      <td>7502 GREENVILLE AVENUE</td>\n",
       "      <td>DALLAS</td>\n",
       "      <td>TX</td>\n",
       "      <td>75231</td>\n",
       "      <td>DALLAS</td>\n",
       "      <td>9728636000</td>\n",
       "      <td>-0.113161</td>\n",
       "      <td>NaN</td>\n",
       "      <td>0.156930</td>\n",
       "      <td>-0.431105</td>\n",
       "      <td>NaN</td>\n",
       "      <td>-0.147737</td>\n",
       "      <td>-0.687798</td>\n",
       "      <td>NaN</td>\n",
       "    </tr>\n",
       "    <tr>\n",
       "      <th>670093</th>\n",
       "      <td>ASPIRE BEHAVIORAL HEALTH OF CONROE, LLC</td>\n",
       "      <td>2006 SOUTH LOOP 336 WEST, SUITE 500</td>\n",
       "      <td>CONROE</td>\n",
       "      <td>TX</td>\n",
       "      <td>77304</td>\n",
       "      <td>MONTGOMERY</td>\n",
       "      <td>9366473500</td>\n",
       "      <td>NaN</td>\n",
       "      <td>NaN</td>\n",
       "      <td>NaN</td>\n",
       "      <td>NaN</td>\n",
       "      <td>NaN</td>\n",
       "      <td>NaN</td>\n",
       "      <td>NaN</td>\n",
       "      <td>NaN</td>\n",
       "    </tr>\n",
       "    <tr>\n",
       "      <th>670094</th>\n",
       "      <td>LITTLE RIVER HEALTHCARE CAMERON HOSPITAL</td>\n",
       "      <td>806 N CROCKETT AVE</td>\n",
       "      <td>CAMERON</td>\n",
       "      <td>TX</td>\n",
       "      <td>76520</td>\n",
       "      <td>MILAM</td>\n",
       "      <td>2546050025</td>\n",
       "      <td>NaN</td>\n",
       "      <td>NaN</td>\n",
       "      <td>NaN</td>\n",
       "      <td>NaN</td>\n",
       "      <td>NaN</td>\n",
       "      <td>0.094360</td>\n",
       "      <td>NaN</td>\n",
       "      <td>NaN</td>\n",
       "    </tr>\n",
       "    <tr>\n",
       "      <th>670095</th>\n",
       "      <td>EMERUS COMMUNITY HOSPITAL</td>\n",
       "      <td>24429 TOMBALL PARKWAY, SUITE 100</td>\n",
       "      <td>TOMBALL</td>\n",
       "      <td>TX</td>\n",
       "      <td>77375</td>\n",
       "      <td>HARRIS</td>\n",
       "      <td>2815160911</td>\n",
       "      <td>NaN</td>\n",
       "      <td>NaN</td>\n",
       "      <td>NaN</td>\n",
       "      <td>NaN</td>\n",
       "      <td>NaN</td>\n",
       "      <td>NaN</td>\n",
       "      <td>NaN</td>\n",
       "      <td>NaN</td>\n",
       "    </tr>\n",
       "    <tr>\n",
       "      <th>670096</th>\n",
       "      <td>BAY AREA REGIONAL MEDICAL CENTER, LLC</td>\n",
       "      <td>200 BLOSSOM STREET</td>\n",
       "      <td>WEBSTER</td>\n",
       "      <td>TX</td>\n",
       "      <td>77598</td>\n",
       "      <td>HARRIS</td>\n",
       "      <td>2815257000</td>\n",
       "      <td>0.513109</td>\n",
       "      <td>NaN</td>\n",
       "      <td>0.865741</td>\n",
       "      <td>1.038364</td>\n",
       "      <td>NaN</td>\n",
       "      <td>1.062745</td>\n",
       "      <td>-0.270114</td>\n",
       "      <td>NaN</td>\n",
       "    </tr>\n",
       "    <tr>\n",
       "      <th>670097</th>\n",
       "      <td>BAYLOR EMERGENCY MEDICAL CENTER</td>\n",
       "      <td>1975 ALPHA STE 100</td>\n",
       "      <td>ROCKWALL</td>\n",
       "      <td>TX</td>\n",
       "      <td>75087</td>\n",
       "      <td>ROCKWALL</td>\n",
       "      <td>2142946200</td>\n",
       "      <td>NaN</td>\n",
       "      <td>NaN</td>\n",
       "      <td>NaN</td>\n",
       "      <td>NaN</td>\n",
       "      <td>NaN</td>\n",
       "      <td>NaN</td>\n",
       "      <td>NaN</td>\n",
       "      <td>NaN</td>\n",
       "    </tr>\n",
       "    <tr>\n",
       "      <th>670098</th>\n",
       "      <td>RESOLUTE HEALTH HOSPITAL</td>\n",
       "      <td>555 CREEKSIDE XING,</td>\n",
       "      <td>NEW BRAUNFELS</td>\n",
       "      <td>TX</td>\n",
       "      <td>78130</td>\n",
       "      <td>COMAL</td>\n",
       "      <td>4698396778</td>\n",
       "      <td>NaN</td>\n",
       "      <td>NaN</td>\n",
       "      <td>0.314444</td>\n",
       "      <td>-1.099046</td>\n",
       "      <td>NaN</td>\n",
       "      <td>0.094360</td>\n",
       "      <td>-0.200500</td>\n",
       "      <td>NaN</td>\n",
       "    </tr>\n",
       "    <tr>\n",
       "      <th>670099</th>\n",
       "      <td>EMIL J FREIREICH CANCER CENTER</td>\n",
       "      <td>9201 PINECROFT</td>\n",
       "      <td>SHENANDOAH</td>\n",
       "      <td>TX</td>\n",
       "      <td>77380</td>\n",
       "      <td>MONTGOMERY</td>\n",
       "      <td>8553532201</td>\n",
       "      <td>NaN</td>\n",
       "      <td>NaN</td>\n",
       "      <td>NaN</td>\n",
       "      <td>NaN</td>\n",
       "      <td>NaN</td>\n",
       "      <td>NaN</td>\n",
       "      <td>NaN</td>\n",
       "      <td>NaN</td>\n",
       "    </tr>\n",
       "    <tr>\n",
       "      <th>670102</th>\n",
       "      <td>AD HOSPITAL EAST, LLC</td>\n",
       "      <td>12950 EAST FREEWAY, SUITE 100</td>\n",
       "      <td>SHENANDOAH</td>\n",
       "      <td>TX</td>\n",
       "      <td>77380</td>\n",
       "      <td>MONTGOMERY</td>\n",
       "      <td>7133303897</td>\n",
       "      <td>NaN</td>\n",
       "      <td>NaN</td>\n",
       "      <td>NaN</td>\n",
       "      <td>NaN</td>\n",
       "      <td>NaN</td>\n",
       "      <td>NaN</td>\n",
       "      <td>NaN</td>\n",
       "      <td>NaN</td>\n",
       "    </tr>\n",
       "    <tr>\n",
       "      <th>670103</th>\n",
       "      <td>MEDICAL CENTER OF ALLIANCE</td>\n",
       "      <td>3101 NORTH TARRANT PARKWAY</td>\n",
       "      <td>FORT WORTH</td>\n",
       "      <td>TX</td>\n",
       "      <td>76177</td>\n",
       "      <td>TARRANT</td>\n",
       "      <td>8176391100</td>\n",
       "      <td>NaN</td>\n",
       "      <td>NaN</td>\n",
       "      <td>NaN</td>\n",
       "      <td>NaN</td>\n",
       "      <td>NaN</td>\n",
       "      <td>-0.026688</td>\n",
       "      <td>NaN</td>\n",
       "      <td>NaN</td>\n",
       "    </tr>\n",
       "    <tr>\n",
       "      <th>670106</th>\n",
       "      <td>PEARLAND MEDICAL CENTER</td>\n",
       "      <td>11100 SHADOW CREEK PARKWAY</td>\n",
       "      <td>PEARLAND</td>\n",
       "      <td>TX</td>\n",
       "      <td>77584</td>\n",
       "      <td>BRAZORIA</td>\n",
       "      <td>7137707000</td>\n",
       "      <td>NaN</td>\n",
       "      <td>NaN</td>\n",
       "      <td>NaN</td>\n",
       "      <td>NaN</td>\n",
       "      <td>NaN</td>\n",
       "      <td>-0.026688</td>\n",
       "      <td>NaN</td>\n",
       "      <td>NaN</td>\n",
       "    </tr>\n",
       "    <tr>\n",
       "      <th>670107</th>\n",
       "      <td>BAYLOR EMERGENCY MEDICAL CENTER</td>\n",
       "      <td>12500 SOUTH FREEWAY SUITE 100</td>\n",
       "      <td>BURLESON</td>\n",
       "      <td>TX</td>\n",
       "      <td>76028</td>\n",
       "      <td>JOHNSON</td>\n",
       "      <td>2142946250</td>\n",
       "      <td>NaN</td>\n",
       "      <td>NaN</td>\n",
       "      <td>NaN</td>\n",
       "      <td>NaN</td>\n",
       "      <td>NaN</td>\n",
       "      <td>NaN</td>\n",
       "      <td>NaN</td>\n",
       "      <td>NaN</td>\n",
       "    </tr>\n",
       "    <tr>\n",
       "      <th>670108</th>\n",
       "      <td>BAYLOR SCOTT &amp; WHITE MEDICAL CENTER - MARBLE F...</td>\n",
       "      <td>810 W HIGHWAY 71</td>\n",
       "      <td>MARBLE FALLS</td>\n",
       "      <td>TX</td>\n",
       "      <td>78654</td>\n",
       "      <td>BURNET</td>\n",
       "      <td>8302017308</td>\n",
       "      <td>NaN</td>\n",
       "      <td>NaN</td>\n",
       "      <td>NaN</td>\n",
       "      <td>NaN</td>\n",
       "      <td>NaN</td>\n",
       "      <td>NaN</td>\n",
       "      <td>NaN</td>\n",
       "      <td>NaN</td>\n",
       "    </tr>\n",
       "    <tr>\n",
       "      <th>670109</th>\n",
       "      <td>ALTUS BAYTOWN HOSPITAL</td>\n",
       "      <td>1626 W BAKER RD</td>\n",
       "      <td>BAYTOWN</td>\n",
       "      <td>TX</td>\n",
       "      <td>77521</td>\n",
       "      <td>HARRIS</td>\n",
       "      <td>2818377600</td>\n",
       "      <td>NaN</td>\n",
       "      <td>NaN</td>\n",
       "      <td>NaN</td>\n",
       "      <td>NaN</td>\n",
       "      <td>NaN</td>\n",
       "      <td>NaN</td>\n",
       "      <td>NaN</td>\n",
       "      <td>NaN</td>\n",
       "    </tr>\n",
       "    <tr>\n",
       "      <th>670111</th>\n",
       "      <td>CONTINUECARE HOSPITAL AT MEDICAL CENTER ODESSA</td>\n",
       "      <td>500 WEST  4TH STREET , 4TH FLOOR</td>\n",
       "      <td>ODESSA</td>\n",
       "      <td>TX</td>\n",
       "      <td>79761</td>\n",
       "      <td>ECTOR</td>\n",
       "      <td>2176163297</td>\n",
       "      <td>NaN</td>\n",
       "      <td>NaN</td>\n",
       "      <td>NaN</td>\n",
       "      <td>NaN</td>\n",
       "      <td>NaN</td>\n",
       "      <td>NaN</td>\n",
       "      <td>NaN</td>\n",
       "      <td>NaN</td>\n",
       "    </tr>\n",
       "    <tr>\n",
       "      <th>670112</th>\n",
       "      <td>CUMBERLAND SURGICAL HOSPITAL</td>\n",
       "      <td>5330 NORTH LOOP 1604 WEST</td>\n",
       "      <td>SAN ANTONIO</td>\n",
       "      <td>TX</td>\n",
       "      <td>78249</td>\n",
       "      <td>BEXAR</td>\n",
       "      <td>7176202424</td>\n",
       "      <td>NaN</td>\n",
       "      <td>NaN</td>\n",
       "      <td>NaN</td>\n",
       "      <td>NaN</td>\n",
       "      <td>NaN</td>\n",
       "      <td>NaN</td>\n",
       "      <td>NaN</td>\n",
       "      <td>NaN</td>\n",
       "    </tr>\n",
       "    <tr>\n",
       "      <th>640001</th>\n",
       "      <td>LBJ TROPICAL MEDICAL CENTER</td>\n",
       "      <td>FAGAALU VILLAGE</td>\n",
       "      <td>PAGO PAGO</td>\n",
       "      <td>AS</td>\n",
       "      <td>96799</td>\n",
       "      <td>NaN</td>\n",
       "      <td>6846334590</td>\n",
       "      <td>NaN</td>\n",
       "      <td>NaN</td>\n",
       "      <td>NaN</td>\n",
       "      <td>NaN</td>\n",
       "      <td>NaN</td>\n",
       "      <td>NaN</td>\n",
       "      <td>NaN</td>\n",
       "      <td>NaN</td>\n",
       "    </tr>\n",
       "    <tr>\n",
       "      <th>650001</th>\n",
       "      <td>GUAM MEMORIAL HOSPITAL AUTHORITY</td>\n",
       "      <td>85O GOV CARLOS G CAMACHO ROAD</td>\n",
       "      <td>TAMUNING</td>\n",
       "      <td>GU</td>\n",
       "      <td>96913</td>\n",
       "      <td>NaN</td>\n",
       "      <td>6716472552</td>\n",
       "      <td>-0.739430</td>\n",
       "      <td>NaN</td>\n",
       "      <td>-0.315610</td>\n",
       "      <td>0.504011</td>\n",
       "      <td>NaN</td>\n",
       "      <td>0.578553</td>\n",
       "      <td>0.634868</td>\n",
       "      <td>0.621201</td>\n",
       "    </tr>\n",
       "    <tr>\n",
       "      <th>650003</th>\n",
       "      <td>GUAM REGIONAL MEDICAL CITY</td>\n",
       "      <td>133 ROUTE 3</td>\n",
       "      <td>DEDEDO</td>\n",
       "      <td>GU</td>\n",
       "      <td>96929</td>\n",
       "      <td>NaN</td>\n",
       "      <td>6716455500</td>\n",
       "      <td>NaN</td>\n",
       "      <td>NaN</td>\n",
       "      <td>NaN</td>\n",
       "      <td>NaN</td>\n",
       "      <td>NaN</td>\n",
       "      <td>NaN</td>\n",
       "      <td>NaN</td>\n",
       "      <td>NaN</td>\n",
       "    </tr>\n",
       "    <tr>\n",
       "      <th>660001</th>\n",
       "      <td>COMMONWEALTH HEALTH CENTER</td>\n",
       "      <td>PO BOX 409CK, NAVY HILL ROAD</td>\n",
       "      <td>GARAPAN</td>\n",
       "      <td>MP</td>\n",
       "      <td>96950</td>\n",
       "      <td>NaN</td>\n",
       "      <td>6702348950</td>\n",
       "      <td>-1.156944</td>\n",
       "      <td>NaN</td>\n",
       "      <td>-0.236853</td>\n",
       "      <td>-0.297517</td>\n",
       "      <td>NaN</td>\n",
       "      <td>-2.326604</td>\n",
       "      <td>-1.175096</td>\n",
       "      <td>NaN</td>\n",
       "    </tr>\n",
       "  </tbody>\n",
       "</table>\n",
       "<p>4818 rows × 15 columns</p>\n",
       "</div>"
      ],
      "text/plain": [
       "                                Hospital Name                        Address  \\\n",
       "Provider ID                                                                    \n",
       "10001        SOUTHEAST ALABAMA MEDICAL CENTER         1108 ROSS CLARK CIRCLE   \n",
       "10005           MARSHALL MEDICAL CENTER SOUTH     2505 U S HIGHWAY 431 NORTH   \n",
       "10006          ELIZA COFFEE MEMORIAL HOSPITAL             205 MARENGO STREET   \n",
       "10007                MIZELL MEMORIAL HOSPITAL                  702 N MAIN ST   \n",
       "10008             CRENSHAW COMMUNITY HOSPITAL            101 HOSPITAL CIRCLE   \n",
       "...                                       ...                            ...   \n",
       "670112           CUMBERLAND SURGICAL HOSPITAL      5330 NORTH LOOP 1604 WEST   \n",
       "640001            LBJ TROPICAL MEDICAL CENTER                FAGAALU VILLAGE   \n",
       "650001       GUAM MEMORIAL HOSPITAL AUTHORITY  85O GOV CARLOS G CAMACHO ROAD   \n",
       "650003             GUAM REGIONAL MEDICAL CITY                    133 ROUTE 3   \n",
       "660001             COMMONWEALTH HEALTH CENTER   PO BOX 409CK, NAVY HILL ROAD   \n",
       "\n",
       "                    City State  ZIP Code County Name  Phone Number  \\\n",
       "Provider ID                                                          \n",
       "10001             DOTHAN    AL     36301     HOUSTON    3347938701   \n",
       "10005               BOAZ    AL     35957    MARSHALL    2565938310   \n",
       "10006           FLORENCE    AL     35631  LAUDERDALE    2567688400   \n",
       "10007                OPP    AL     36467   COVINGTON    3344933541   \n",
       "10008            LUVERNE    AL     36049    CRENSHAW    3343353374   \n",
       "...                  ...   ...       ...         ...           ...   \n",
       "670112       SAN ANTONIO    TX     78249       BEXAR    7176202424   \n",
       "640001         PAGO PAGO    AS     96799         NaN    6846334590   \n",
       "650001          TAMUNING    GU     96913         NaN    6716472552   \n",
       "650003            DEDEDO    GU     96929         NaN    6716455500   \n",
       "660001           GARAPAN    MP     96950         NaN    6702348950   \n",
       "\n",
       "             READM_30_AMI_score  READM_30_CABG_score  READM_30_COPD_score  \\\n",
       "Provider ID                                                                 \n",
       "10001                  0.408730            -0.615156            -0.866907   \n",
       "10005                  0.199974                  NaN             1.574551   \n",
       "10006                  0.826243            -0.703937             0.156930   \n",
       "10007                       NaN                  NaN             0.078174   \n",
       "10008                       NaN                  NaN             0.629471   \n",
       "...                         ...                  ...                  ...   \n",
       "670112                      NaN                  NaN                  NaN   \n",
       "640001                      NaN                  NaN                  NaN   \n",
       "650001                -0.739430                  NaN            -0.315610   \n",
       "650003                      NaN                  NaN                  NaN   \n",
       "660001                -1.156944                  NaN            -0.236853   \n",
       "\n",
       "             READM_30_HF_score  READM_30_HIP_KNEE_score  \\\n",
       "Provider ID                                               \n",
       "10001                 0.370423                -0.884170   \n",
       "10005                 0.036453                -1.968440   \n",
       "10006                 0.904776                -0.703459   \n",
       "10007                 0.570805                      NaN   \n",
       "10008                -0.765075                      NaN   \n",
       "...                        ...                      ...   \n",
       "670112                     NaN                      NaN   \n",
       "640001                     NaN                      NaN   \n",
       "650001                0.504011                      NaN   \n",
       "650003                     NaN                      NaN   \n",
       "660001               -0.297517                      NaN   \n",
       "\n",
       "             READM_30_HOSP_WIDE_score  READM_30_PN_score  READM_30_STK_score  \n",
       "Provider ID                                                                   \n",
       "10001                        0.215408          -1.105482           -0.124569  \n",
       "10005                        0.820649           0.495640           -0.777118  \n",
       "10006                        0.215408          -0.548570            0.527980  \n",
       "10007                       -1.237171          -0.130886           -0.124569  \n",
       "10008                       -0.147737           0.774096                 NaN  \n",
       "...                               ...                ...                 ...  \n",
       "670112                            NaN                NaN                 NaN  \n",
       "640001                            NaN                NaN                 NaN  \n",
       "650001                       0.578553           0.634868            0.621201  \n",
       "650003                            NaN                NaN                 NaN  \n",
       "660001                      -2.326604          -1.175096                 NaN  \n",
       "\n",
       "[4818 rows x 15 columns]"
      ]
     },
     "execution_count": 81,
     "metadata": {},
     "output_type": "execute_result"
    }
   ],
   "source": [
    "read_master = pd.merge(read_hosp, readmission, on=\"Provider ID\").set_index('Provider ID')\n",
    "read_master.to_csv(\"read_master_data.csv\")\n",
    "\n",
    "read_master\n"
   ]
  },
  {
   "cell_type": "markdown",
   "metadata": {
    "pycharm": {
     "name": "#%% md\n"
    }
   },
   "source": [
    "## 2. Mortality - Load 2 Files \"Readmissions and Deaths - Hospital.csv + Complications - Hospital.csv\" into morality dataframe\n"
   ]
  },
  {
   "cell_type": "code",
   "execution_count": 82,
   "metadata": {
    "pycharm": {
     "is_executing": false,
     "name": "#%%\n"
    }
   },
   "outputs": [
    {
     "name": "stdout",
     "output_type": "stream",
     "text": [
      "Measure ID   MORT_30_AMI_score  MORT_30_CABG_score  MORT_30_COPD_score  \\\n",
      "Provider ID                                                              \n",
      "10001                     12.5                 4.2                 9.3   \n",
      "10005                     16.0                 NaN                 7.6   \n",
      "10006                     16.7                 4.1                 7.1   \n",
      "10007                      NaN                 NaN                 9.3   \n",
      "10008                      NaN                 NaN                 8.2   \n",
      "...                        ...                 ...                 ...   \n",
      "670107                     NaN                 NaN                 NaN   \n",
      "670108                     NaN                 NaN                 NaN   \n",
      "670109                     NaN                 NaN                 NaN   \n",
      "670111                     NaN                 NaN                 NaN   \n",
      "670112                     NaN                 NaN                 NaN   \n",
      "\n",
      "Measure ID   MORT_30_HF_score  MORT_30_PN_score  MORT_30_STK_score  \\\n",
      "Provider ID                                                          \n",
      "10001                    12.4              15.5               15.4   \n",
      "10005                    15.5              20.8               15.5   \n",
      "10006                    15.6              18.2               17.9   \n",
      "10007                    14.4              18.8               16.6   \n",
      "10008                    12.7              15.7                NaN   \n",
      "...                       ...               ...                ...   \n",
      "670107                    NaN               NaN                NaN   \n",
      "670108                    NaN               NaN                NaN   \n",
      "670109                    NaN               NaN                NaN   \n",
      "670111                    NaN               NaN                NaN   \n",
      "670112                    NaN               NaN                NaN   \n",
      "\n",
      "Measure ID   PSI_4_SURG_COMP_score  \n",
      "Provider ID                         \n",
      "10001                       168.26  \n",
      "10005                       179.05  \n",
      "10006                       198.33  \n",
      "10007                          NaN  \n",
      "10008                          NaN  \n",
      "...                            ...  \n",
      "670107                         NaN  \n",
      "670108                         NaN  \n",
      "670109                         NaN  \n",
      "670111                         NaN  \n",
      "670112                         NaN  \n",
      "\n",
      "[4818 rows x 7 columns]\n"
     ]
    }
   ],
   "source": [
    "mort_rawdata1 = read_rawdata\n",
    "mort_rawdata2 = pd.read_csv(\"Complications - Hospital.csv\", encoding=\"ISO-8859-1\", na_values=[\"Not Available\", \"Not Applicable\"])\n",
    "mort_rawdata = pd.concat([mort_rawdata1, mort_rawdata2])\n",
    "mort_meas_list =   [\"MORT_30_AMI\", \"MORT_30_CABG\", \"MORT_30_COPD\", \"MORT_30_HF\", \"MORT_30_PN\", \"MORT_30_STK\", \"PSI_4_SURG_COMP\"]\n",
    "mort_hosp = mort_rawdata.iloc[:,0:8]\n",
    "mort_hosp = mort_hosp.drop_duplicates(keep='first')\n",
    "mort_meas = mort_rawdata.iloc[: , [0,9,12]]\n",
    "mort_meas = mort_meas.loc[mort_meas['Measure ID'].isin(mort_meas_list)]\n",
    "mort_meas = func_numeric(mort_meas, 'Score')\n",
    "mort_meas_score = mort_meas.pivot(index='Provider ID', columns='Measure ID', values='Score')\n",
    "mort_meas_score = func_rename(mort_meas_score)\n",
    "mortality = mort_meas_score\n",
    "print(mortality)\n",
    "\n",
    "# Mortality indicates the death rate, higher the number worser is the hospital or provider.\n",
    "# Since it is related to death rate we will use negative z-score formula.\n",
    "mortality = negative_zscore(mortality)\n",
    "\n",
    "\n",
    "mortality = treat_outliers(mortality)\n",
    "mortality.to_csv(\"cleaned_mortality_data.csv\")\n",
    "\n",
    "mort_master = pd.merge(mort_hosp, mortality, on=\"Provider ID\").set_index('Provider ID')\n",
    "mort_master.to_csv(\"mort_master_data.csv\")\n"
   ]
  },
  {
   "cell_type": "markdown",
   "metadata": {
    "pycharm": {
     "name": "#%% md\n"
    }
   },
   "source": [
    "## 3. Safety - Load 2 files \"Healthcare Associated Infections - Hospital.csv + Complications - Hospital.csv\" into safety dataframe\n"
   ]
  },
  {
   "cell_type": "code",
   "execution_count": 83,
   "metadata": {
    "pycharm": {
     "is_executing": false,
     "name": "#%%\n"
    }
   },
   "outputs": [],
   "source": [
    "safe_rawdata1 = mort_rawdata\n",
    "safe_rawdata2 = pd.read_csv(\"Healthcare Associated Infections - Hospital.csv\", encoding=\"ISO-8859-1\", na_values=[\"Not Available\", \"Not Applicable\"])\n",
    "safe_rawdata1 = safe_rawdata1.iloc[: , [0,1, 2, 3, 4, 5, 6, 7, 9, 12]]\n",
    "safe_rawdata2 = safe_rawdata2.iloc[: , [0,1, 2, 3, 4, 5, 6, 7, 9, 11]]\n",
    "safe_rawdata = pd.concat([safe_rawdata1, safe_rawdata2])\n",
    "safe_meas_list =   [\"HAI_1_SIR\", \"HAI_2_SIR\", \"HAI_3_SIR\", \"HAI_4_SIR\", \"HAI_5_SIR\", \"HAI_6_SIR\", \"COMP_HIP_KNEE\", \"PSI_90_SAFETY\"]\n",
    "safe_hosp = safe_rawdata.iloc[:,0:8]\n",
    "safe_hosp = safe_hosp.drop_duplicates(keep='first')\n",
    "safe_meas = safe_rawdata.iloc[: , [0,8,9]]\n",
    "safe_meas = safe_meas.loc[safe_meas['Measure ID'].isin(safe_meas_list)]\n",
    "safe_meas = func_numeric(safe_meas, 'Score')\n",
    "\n",
    "safe_meas_score = safe_meas.pivot(index='Provider ID', columns='Measure ID', values='Score')\n",
    "safe_meas_score = func_rename(safe_meas_score)\n",
    "safety = safe_meas_score\n",
    "\n",
    "# The HAI measures are related to infections contracted by the patients during their stay in the hospital\n",
    "# we will negative zscore here as well\n",
    "safety = negative_zscore(safety)\n",
    "safety = treat_outliers(safety)\n",
    "safety.to_csv(\"cleaned_safety_data.csv\")\n",
    "safety\n",
    "safe_master = pd.merge(mort_hosp, safety, on=\"Provider ID\").set_index('Provider ID')\n",
    "safe_master.to_csv(\"safe_master_data.csv\")"
   ]
  },
  {
   "cell_type": "markdown",
   "metadata": {
    "pycharm": {
     "name": "#%% md\n"
    }
   },
   "source": [
    "## 4. Experience - Load file \"HCAHPS - Hospital.csv\" into experience data rame"
   ]
  },
  {
   "cell_type": "code",
   "execution_count": 84,
   "metadata": {
    "pycharm": {
     "is_executing": false,
     "name": "#%%\n"
    }
   },
   "outputs": [],
   "source": [
    "\n",
    "expe_rawdata = pd.read_csv(\"HCAHPS - Hospital.csv\", encoding=\"ISO-8859-1\",\n",
    "                           na_values=[\"Not Available\", \"Not Applicable\"])\n",
    "\n",
    "\n",
    "expe_new_col_names = {\"HCAHPS Question\": \"Measure Name\",\n",
    "                      \"HCAHPS Measure ID\": \"Measure ID\",\n",
    "                      \"HCAHPS Linear Mean Value\": \"Score\"}\n",
    "\n",
    "expe_rawdata = expe_rawdata.rename(columns=expe_new_col_names)\n",
    "\n",
    "\n",
    "\n",
    "expe_meas_list = [\"H_CLEAN_LINEAR_SCORE\", \"H_COMP_1_LINEAR_SCORE\", \"H_COMP_2_LINEAR_SCORE\", \"H_COMP_3_LINEAR_SCORE\",\n",
    "                  \"H_COMP_4_LINEAR_SCORE\", \"H_COMP_5_LINEAR_SCORE\", \"H_COMP_6_LINEAR_SCORE\", \"H_COMP_7_LINEAR_SCORE\",\n",
    "                  \"H_HSP_RATING_LINEAR_SCORE\", \"H_QUIET_LINEAR_SCORE\", \"H_RECMND_LINEAR_SCORE\"]\n",
    "\n",
    "\n",
    "expe_hosp = expe_rawdata.iloc[:, 0:8]\n",
    "\n",
    "\n",
    "\n",
    "expe_hosp = expe_hosp.drop_duplicates(keep='first')\n",
    "\n",
    "\n",
    "expe_meas = expe_rawdata.iloc[:, [0, 8, 15]]\n",
    "\n",
    "\n",
    "expe_meas = expe_meas.loc[expe_meas['Measure ID'].isin(expe_meas_list)]\n",
    "\n",
    "\n",
    "expe_meas = func_numeric(expe_meas, 'Score')\n",
    "\n",
    "\n",
    "expe_meas_score = expe_meas.pivot(index='Provider ID', columns='Measure ID', values='Score')\n",
    "\n",
    "\n",
    "expe_meas_score = func_rename(expe_meas_score)\n",
    "\n",
    "\n",
    "experience = expe_meas_score\n",
    "\n",
    "\n",
    "# It measures cleanliness, patient hospitality and doctors/staff communication,\n",
    "# hospital environment etc. We will use positive zscore here\n",
    "experience = positive_zscore(experience)\n",
    "\n",
    "experience = treat_outliers(experience)\n",
    "experience.to_csv(\"cleaned_experience_data.csv\")\n",
    "\n",
    "\n",
    "expe_master = pd.merge(expe_hosp, experience, on=\"Provider ID\").set_index('Provider ID')\n",
    "expe_master.to_csv(\"expe_master_data.csv\")\n"
   ]
  },
  {
   "cell_type": "markdown",
   "metadata": {
    "pycharm": {
     "name": "#%% md\n"
    }
   },
   "source": [
    "# 5. Medical - Load file \"Outpatient Imaging Efficiency - Hopital.csv\" into medical data frame\n"
   ]
  },
  {
   "cell_type": "code",
   "execution_count": 85,
   "metadata": {
    "pycharm": {
     "is_executing": false,
     "name": "#%% \n"
    }
   },
   "outputs": [],
   "source": [
    "medi_rawdata = pd.read_csv(\"Outpatient Imaging Efficiency - Hospital.csv\", encoding=\"ISO-8859-1\",\n",
    "                           na_values=[\"Not Available\", \"Not Applicable\"])\n",
    "\n",
    "medi_meas_list = [\"OP_10\", \"OP_11\", \"OP_13\", \"OP_14\", \"OP_8\"]\n",
    "\n",
    "medi_hosp = medi_rawdata.iloc[:, 0:8]\n",
    "\n",
    "medi_hosp = medi_hosp.drop_duplicates(keep='first')\n",
    "\n",
    "medi_meas = medi_rawdata.iloc[:, [0, 8, 10]]\n",
    "\n",
    "medi_meas = subset(medi_meas, 'Measure ID', medi_meas_list)\n",
    "\n",
    "medi_meas = func_numeric(medi_meas, 'Score')\n",
    "\n",
    "medi_meas_score = medi_meas.pivot(index='Provider ID', columns='Measure ID', values='Score')\n",
    "\n",
    "medi_meas_score = func_rename(medi_meas_score)\n",
    "\n",
    "medical = medi_meas_score\n",
    "\n",
    "# Unecessary usage of imaging tests, lower the better. We will use the negative zscore\n",
    "\n",
    "medical = negative_zscore(medical)\n",
    "\n",
    "medical = treat_outliers(medical)\n",
    "medical.to_csv(\"cleaned_medical_data.csv\")\n",
    "\n",
    "medi_master = pd.merge(medi_hosp, medical, on=\"Provider ID\").set_index('Provider ID')\n",
    "medi_master.to_csv('medi_master_data.csv')\n"
   ]
  },
  {
   "cell_type": "markdown",
   "metadata": {},
   "source": [
    "# 6. Timeliness - Load file \"Timely and Effective Care - Hospital.csv\" into timeliness data frame\n"
   ]
  },
  {
   "cell_type": "code",
   "execution_count": 86,
   "metadata": {
    "pycharm": {
     "is_executing": false,
     "name": "#%%\n"
    }
   },
   "outputs": [],
   "source": [
    "time_rawdata = pd.read_csv(\"Timely and Effective Care - Hospital.csv\", encoding=\"ISO-8859-1\",\n",
    "                           na_values=[\"Not Available\", \"Not Applicable\"])\n",
    "\n",
    "\n",
    "time_meas_list = [\"ED_1b\", \"ED_2b\", \"OP_18b\", \"OP_20\", \"OP_21\", \"OP_3b\", \"OP_5\"]\n",
    "\n",
    "time_hosp = time_rawdata.iloc[:, 0:8]\n",
    "\n",
    "\n",
    "time_hosp = time_hosp.drop_duplicates(keep='first')\n",
    "\n",
    "time_meas = time_rawdata.iloc[:, [0, 9, 11]]\n",
    "\n",
    "\n",
    "time_meas = subset(time_meas, 'Measure ID', time_meas_list)\n",
    "\n",
    "time_meas = func_numeric(time_meas, 'Score')\n",
    "\n",
    "time_meas_score = time_meas.pivot(index='Provider ID', columns='Measure ID', values='Score')\n",
    "\n",
    "time_meas_score = func_rename(time_meas_score)\n",
    "\n",
    "timeliness = time_meas_score\n",
    "\n",
    "# All the measures in timeliness indicate the average time the patient had to wait\n",
    "# before being attended by the doctors or concerned specialists. We will use negative zscore\n",
    "\n",
    "timeliness = negative_zscore(timeliness)\n",
    "\n",
    "timeliness = treat_outliers(timeliness)\n",
    "timeliness.to_csv(\"cleaned_timeliness_data.csv\")\n",
    "\n",
    "time_master = pd.merge(time_hosp, timeliness, on=\"Provider ID\")\n",
    "time_master.to_csv('time_master_data.csv')\n",
    "\n"
   ]
  },
  {
   "cell_type": "markdown",
   "metadata": {
    "pycharm": {
     "name": "#%% md\n"
    }
   },
   "source": [
    "## 7. Effectiveness - Load file \"Timely and Effective Care - Hospital.csv\" into timeliness data frame\n"
   ]
  },
  {
   "cell_type": "code",
   "execution_count": 87,
   "metadata": {
    "pycharm": {
     "is_executing": false,
     "name": "#%%\n"
    }
   },
   "outputs": [],
   "source": [
    "\n",
    "effe_rawdata = time_rawdata\n",
    "\n",
    "\n",
    "effe_meas_list = [\"CAC_3\", \"IMM_2\", \"IMM_3_OP_27_FAC_ADHPCT\", \"OP_22\", \"OP_23\", \"OP_29\", \"OP_30\", \"OP_4\", \"PC_01\", \"STK_4\", \"STK_5\", \"STK_6\", \"STK_8\", \"VTE_1\", \"VTE_2\", \"VTE_3\", \"VTE_5\", \"VTE_6\"]\n",
    "\n",
    "effe_hosp = effe_rawdata.iloc[:, 0:8]\n",
    "\n",
    "\n",
    "effe_hosp = effe_hosp.drop_duplicates(keep='first')\n",
    "\n",
    "effe_meas = effe_rawdata.iloc[:, [0, 9, 11]]\n",
    "\n",
    "\n",
    "effe_meas = subset(effe_meas, 'Measure ID', effe_meas_list)\n",
    "\n",
    "effe_meas = func_numeric(effe_meas, 'Score')\n",
    "\n",
    "effe_meas_score = effe_meas.pivot(index='Provider ID', columns='Measure ID', values='Score')\n",
    "\n",
    "\n",
    "effe_meas_score = func_rename(effe_meas_score)\n",
    "\n",
    "effectiveness = effe_meas_score\n",
    "\n",
    "\n",
    "# Effectiveness has some columns for which the value higher is better, and few the score lower is better\n",
    "# We will both postive and negative zscores here for the filtered columns\n",
    "\n",
    "positive_measures = [0, 1, 2, 4, 5, 6, 7, 9, 10, 11, 12, 13, 14, 15, 16]\n",
    "effectiveness.iloc[:, positive_measures] = positive_zscore(effectiveness.iloc[:, positive_measures])\n",
    "\n",
    "negative_measures = [3, 8, 17]\n",
    "effectiveness.iloc[:, negative_measures] = negative_zscore(effectiveness.iloc[:, negative_measures])\n",
    "\n",
    "effectiveness = treat_outliers(effectiveness)\n",
    "effectiveness.to_csv(\"cleaned_effectiveness_data.csv\")\n",
    "\n",
    "\n",
    "effe_master = pd.merge(effe_hosp, effectiveness, on=\"Provider ID\").set_index('Provider ID')\n",
    "effe_master.to_csv('effe_master_data.csv')\n"
   ]
  },
  {
   "cell_type": "code",
   "execution_count": 88,
   "metadata": {
    "pycharm": {
     "is_executing": false,
     "name": "#%%\n"
    }
   },
   "outputs": [
    {
     "name": "stdout",
     "output_type": "stream",
     "text": [
      "<bound method IndexOpsMixin.tolist of Index(['Hospital Name', 'Address', 'City', 'State', 'ZIP Code', 'County Name',\n",
      "       'Phone Number', 'READM_30_AMI_score', 'READM_30_CABG_score',\n",
      "       'READM_30_COPD_score', 'READM_30_HF_score', 'READM_30_HIP_KNEE_score',\n",
      "       'READM_30_HOSP_WIDE_score', 'READM_30_PN_score', 'READM_30_STK_score',\n",
      "       'MORT_30_AMI_score', 'MORT_30_CABG_score', 'MORT_30_COPD_score',\n",
      "       'MORT_30_HF_score', 'MORT_30_PN_score', 'MORT_30_STK_score',\n",
      "       'PSI_4_SURG_COMP_score', 'COMP_HIP_KNEE_score', 'HAI_1_SIR_score',\n",
      "       'HAI_2_SIR_score', 'HAI_3_SIR_score', 'HAI_4_SIR_score',\n",
      "       'HAI_5_SIR_score', 'HAI_6_SIR_score', 'PSI_90_SAFETY_score',\n",
      "       'H_CLEAN_LINEAR_SCORE_score', 'H_COMP_1_LINEAR_SCORE_score',\n",
      "       'H_COMP_2_LINEAR_SCORE_score', 'H_COMP_3_LINEAR_SCORE_score',\n",
      "       'H_COMP_4_LINEAR_SCORE_score', 'H_COMP_5_LINEAR_SCORE_score',\n",
      "       'H_COMP_6_LINEAR_SCORE_score', 'H_COMP_7_LINEAR_SCORE_score',\n",
      "       'H_HSP_RATING_LINEAR_SCORE_score', 'H_QUIET_LINEAR_SCORE_score',\n",
      "       'H_RECMND_LINEAR_SCORE_score', 'OP_10_score', 'OP_11_score',\n",
      "       'OP_13_score', 'OP_14_score', 'OP_8_score', 'Provider ID',\n",
      "       'ED_1b_score', 'ED_2b_score', 'OP_18b_score', 'OP_20_score',\n",
      "       'OP_21_score', 'OP_3b_score', 'OP_5_score', 'CAC_3_score',\n",
      "       'IMM_2_score', 'IMM_3_OP_27_FAC_ADHPCT_score', 'OP_22_score',\n",
      "       'OP_23_score', 'OP_29_score', 'OP_30_score', 'OP_4_score',\n",
      "       'PC_01_score', 'STK_4_score', 'STK_5_score', 'STK_6_score',\n",
      "       'STK_8_score', 'VTE_1_score', 'VTE_2_score', 'VTE_3_score',\n",
      "       'VTE_5_score', 'VTE_6_score'],\n",
      "      dtype='object')>\n"
     ]
    }
   ],
   "source": [
    "\n",
    "merge1 = pd.merge(read_master, mort_master)\n",
    "merge2 = pd.merge(merge1, safe_master)\n",
    "merge3 = pd.merge(merge2, expe_master)\n",
    "merge4 = pd.merge(merge3, medi_master)\n",
    "merge5 = pd.merge(merge4, time_master)\n",
    "merge6 = pd.merge(merge5, effe_master)\n",
    "\n",
    "print(merge6.columns.to_list)\n",
    "\n"
   ]
  },
  {
   "cell_type": "code",
   "execution_count": 89,
   "metadata": {},
   "outputs": [
    {
     "data": {
      "text/html": [
       "<div>\n",
       "<style scoped>\n",
       "    .dataframe tbody tr th:only-of-type {\n",
       "        vertical-align: middle;\n",
       "    }\n",
       "\n",
       "    .dataframe tbody tr th {\n",
       "        vertical-align: top;\n",
       "    }\n",
       "\n",
       "    .dataframe thead th {\n",
       "        text-align: right;\n",
       "    }\n",
       "</style>\n",
       "<table border=\"1\" class=\"dataframe\">\n",
       "  <thead>\n",
       "    <tr style=\"text-align: right;\">\n",
       "      <th></th>\n",
       "      <th>Hospital Name</th>\n",
       "      <th>Address</th>\n",
       "      <th>City</th>\n",
       "      <th>State</th>\n",
       "      <th>ZIP Code</th>\n",
       "      <th>County Name</th>\n",
       "      <th>Phone Number</th>\n",
       "      <th>READM_30_AMI_score</th>\n",
       "      <th>READM_30_CABG_score</th>\n",
       "      <th>READM_30_COPD_score</th>\n",
       "      <th>...</th>\n",
       "      <th>PC_01_score</th>\n",
       "      <th>STK_4_score</th>\n",
       "      <th>STK_5_score</th>\n",
       "      <th>STK_6_score</th>\n",
       "      <th>STK_8_score</th>\n",
       "      <th>VTE_1_score</th>\n",
       "      <th>VTE_2_score</th>\n",
       "      <th>VTE_3_score</th>\n",
       "      <th>VTE_5_score</th>\n",
       "      <th>VTE_6_score</th>\n",
       "    </tr>\n",
       "  </thead>\n",
       "  <tbody>\n",
       "    <tr>\n",
       "      <th>0</th>\n",
       "      <td>SOUTHEAST ALABAMA MEDICAL CENTER</td>\n",
       "      <td>1108 ROSS CLARK CIRCLE</td>\n",
       "      <td>DOTHAN</td>\n",
       "      <td>AL</td>\n",
       "      <td>36301</td>\n",
       "      <td>HOUSTON</td>\n",
       "      <td>3347938701</td>\n",
       "      <td>0.408730</td>\n",
       "      <td>-0.615156</td>\n",
       "      <td>-0.866907</td>\n",
       "      <td>...</td>\n",
       "      <td>0.538880</td>\n",
       "      <td>-1.228236</td>\n",
       "      <td>-0.024906</td>\n",
       "      <td>0.446005</td>\n",
       "      <td>-0.570074</td>\n",
       "      <td>0.333841</td>\n",
       "      <td>0.381176</td>\n",
       "      <td>-0.277730</td>\n",
       "      <td>-0.253670</td>\n",
       "      <td>0.416331</td>\n",
       "    </tr>\n",
       "    <tr>\n",
       "      <th>1</th>\n",
       "      <td>MARSHALL MEDICAL CENTER SOUTH</td>\n",
       "      <td>2505 U S HIGHWAY 431 NORTH</td>\n",
       "      <td>BOAZ</td>\n",
       "      <td>AL</td>\n",
       "      <td>35957</td>\n",
       "      <td>MARSHALL</td>\n",
       "      <td>2565938310</td>\n",
       "      <td>0.199974</td>\n",
       "      <td>NaN</td>\n",
       "      <td>1.574551</td>\n",
       "      <td>...</td>\n",
       "      <td>0.324044</td>\n",
       "      <td>NaN</td>\n",
       "      <td>0.193305</td>\n",
       "      <td>-0.915528</td>\n",
       "      <td>0.618334</td>\n",
       "      <td>0.178342</td>\n",
       "      <td>-0.450362</td>\n",
       "      <td>0.819555</td>\n",
       "      <td>0.635329</td>\n",
       "      <td>NaN</td>\n",
       "    </tr>\n",
       "    <tr>\n",
       "      <th>2</th>\n",
       "      <td>ELIZA COFFEE MEMORIAL HOSPITAL</td>\n",
       "      <td>205 MARENGO STREET</td>\n",
       "      <td>FLORENCE</td>\n",
       "      <td>AL</td>\n",
       "      <td>35631</td>\n",
       "      <td>LAUDERDALE</td>\n",
       "      <td>2567688400</td>\n",
       "      <td>0.826243</td>\n",
       "      <td>-0.703937</td>\n",
       "      <td>0.156930</td>\n",
       "      <td>...</td>\n",
       "      <td>0.538880</td>\n",
       "      <td>NaN</td>\n",
       "      <td>0.193305</td>\n",
       "      <td>0.198454</td>\n",
       "      <td>-0.295826</td>\n",
       "      <td>0.411590</td>\n",
       "      <td>-1.281900</td>\n",
       "      <td>-0.887332</td>\n",
       "      <td>-0.075870</td>\n",
       "      <td>0.416331</td>\n",
       "    </tr>\n",
       "    <tr>\n",
       "      <th>3</th>\n",
       "      <td>MIZELL MEMORIAL HOSPITAL</td>\n",
       "      <td>702 N MAIN ST</td>\n",
       "      <td>OPP</td>\n",
       "      <td>AL</td>\n",
       "      <td>36467</td>\n",
       "      <td>COVINGTON</td>\n",
       "      <td>3344933541</td>\n",
       "      <td>NaN</td>\n",
       "      <td>NaN</td>\n",
       "      <td>0.078174</td>\n",
       "      <td>...</td>\n",
       "      <td>NaN</td>\n",
       "      <td>NaN</td>\n",
       "      <td>0.411517</td>\n",
       "      <td>-3.019716</td>\n",
       "      <td>NaN</td>\n",
       "      <td>0.333841</td>\n",
       "      <td>0.381176</td>\n",
       "      <td>NaN</td>\n",
       "      <td>NaN</td>\n",
       "      <td>NaN</td>\n",
       "    </tr>\n",
       "    <tr>\n",
       "      <th>4</th>\n",
       "      <td>CRENSHAW COMMUNITY HOSPITAL</td>\n",
       "      <td>101 HOSPITAL CIRCLE</td>\n",
       "      <td>LUVERNE</td>\n",
       "      <td>AL</td>\n",
       "      <td>36049</td>\n",
       "      <td>CRENSHAW</td>\n",
       "      <td>3343353374</td>\n",
       "      <td>NaN</td>\n",
       "      <td>NaN</td>\n",
       "      <td>0.629471</td>\n",
       "      <td>...</td>\n",
       "      <td>NaN</td>\n",
       "      <td>NaN</td>\n",
       "      <td>NaN</td>\n",
       "      <td>NaN</td>\n",
       "      <td>NaN</td>\n",
       "      <td>0.489340</td>\n",
       "      <td>NaN</td>\n",
       "      <td>NaN</td>\n",
       "      <td>NaN</td>\n",
       "      <td>NaN</td>\n",
       "    </tr>\n",
       "  </tbody>\n",
       "</table>\n",
       "<p>5 rows × 72 columns</p>\n",
       "</div>"
      ],
      "text/plain": [
       "                      Hospital Name                     Address      City  \\\n",
       "0  SOUTHEAST ALABAMA MEDICAL CENTER      1108 ROSS CLARK CIRCLE    DOTHAN   \n",
       "1     MARSHALL MEDICAL CENTER SOUTH  2505 U S HIGHWAY 431 NORTH      BOAZ   \n",
       "2    ELIZA COFFEE MEMORIAL HOSPITAL          205 MARENGO STREET  FLORENCE   \n",
       "3          MIZELL MEMORIAL HOSPITAL               702 N MAIN ST       OPP   \n",
       "4       CRENSHAW COMMUNITY HOSPITAL         101 HOSPITAL CIRCLE   LUVERNE   \n",
       "\n",
       "  State  ZIP Code County Name  Phone Number  READM_30_AMI_score  \\\n",
       "0    AL     36301     HOUSTON    3347938701            0.408730   \n",
       "1    AL     35957    MARSHALL    2565938310            0.199974   \n",
       "2    AL     35631  LAUDERDALE    2567688400            0.826243   \n",
       "3    AL     36467   COVINGTON    3344933541                 NaN   \n",
       "4    AL     36049    CRENSHAW    3343353374                 NaN   \n",
       "\n",
       "   READM_30_CABG_score  READM_30_COPD_score  ...  PC_01_score  STK_4_score  \\\n",
       "0            -0.615156            -0.866907  ...     0.538880    -1.228236   \n",
       "1                  NaN             1.574551  ...     0.324044          NaN   \n",
       "2            -0.703937             0.156930  ...     0.538880          NaN   \n",
       "3                  NaN             0.078174  ...          NaN          NaN   \n",
       "4                  NaN             0.629471  ...          NaN          NaN   \n",
       "\n",
       "   STK_5_score  STK_6_score  STK_8_score  VTE_1_score  VTE_2_score  \\\n",
       "0    -0.024906     0.446005    -0.570074     0.333841     0.381176   \n",
       "1     0.193305    -0.915528     0.618334     0.178342    -0.450362   \n",
       "2     0.193305     0.198454    -0.295826     0.411590    -1.281900   \n",
       "3     0.411517    -3.019716          NaN     0.333841     0.381176   \n",
       "4          NaN          NaN          NaN     0.489340          NaN   \n",
       "\n",
       "   VTE_3_score  VTE_5_score  VTE_6_score  \n",
       "0    -0.277730    -0.253670     0.416331  \n",
       "1     0.819555     0.635329          NaN  \n",
       "2    -0.887332    -0.075870     0.416331  \n",
       "3          NaN          NaN          NaN  \n",
       "4          NaN          NaN          NaN  \n",
       "\n",
       "[5 rows x 72 columns]"
      ]
     },
     "execution_count": 89,
     "metadata": {},
     "output_type": "execute_result"
    }
   ],
   "source": [
    "\n",
    "master_data_x = merge6\n",
    "\n",
    "# Raw data is ready with all required 64 measures and 8 general columns \n",
    "master_data_x.to_csv(\"cleaned_master_data_x.csv\")\n",
    "master_data_x.head()"
   ]
  },
  {
   "cell_type": "markdown",
   "metadata": {
    "pycharm": {
     "name": "#%% md\n"
    }
   },
   "source": [
    "\n",
    "# 2. Data Cleaning"
   ]
  },
  {
   "cell_type": "code",
   "execution_count": 90,
   "metadata": {
    "pycharm": {
     "is_executing": false,
     "name": "#%%\n"
    }
   },
   "outputs": [
    {
     "data": {
      "text/html": [
       "<div>\n",
       "<style scoped>\n",
       "    .dataframe tbody tr th:only-of-type {\n",
       "        vertical-align: middle;\n",
       "    }\n",
       "\n",
       "    .dataframe tbody tr th {\n",
       "        vertical-align: top;\n",
       "    }\n",
       "\n",
       "    .dataframe thead th {\n",
       "        text-align: right;\n",
       "    }\n",
       "</style>\n",
       "<table border=\"1\" class=\"dataframe\">\n",
       "  <thead>\n",
       "    <tr style=\"text-align: right;\">\n",
       "      <th></th>\n",
       "      <th>Hospital Name</th>\n",
       "      <th>Address</th>\n",
       "      <th>City</th>\n",
       "      <th>State</th>\n",
       "      <th>ZIP Code</th>\n",
       "      <th>County Name</th>\n",
       "      <th>Phone Number</th>\n",
       "      <th>READM_30_AMI_score</th>\n",
       "      <th>READM_30_CABG_score</th>\n",
       "      <th>READM_30_COPD_score</th>\n",
       "      <th>...</th>\n",
       "      <th>PC_01_score</th>\n",
       "      <th>STK_4_score</th>\n",
       "      <th>STK_5_score</th>\n",
       "      <th>STK_6_score</th>\n",
       "      <th>STK_8_score</th>\n",
       "      <th>VTE_1_score</th>\n",
       "      <th>VTE_2_score</th>\n",
       "      <th>VTE_3_score</th>\n",
       "      <th>VTE_5_score</th>\n",
       "      <th>VTE_6_score</th>\n",
       "    </tr>\n",
       "  </thead>\n",
       "  <tbody>\n",
       "    <tr>\n",
       "      <th>0</th>\n",
       "      <td>SOUTHEAST ALABAMA MEDICAL CENTER</td>\n",
       "      <td>1108 ROSS CLARK CIRCLE</td>\n",
       "      <td>DOTHAN</td>\n",
       "      <td>AL</td>\n",
       "      <td>36301</td>\n",
       "      <td>HOUSTON</td>\n",
       "      <td>3347938701</td>\n",
       "      <td>0.408730</td>\n",
       "      <td>-0.615156</td>\n",
       "      <td>-0.866907</td>\n",
       "      <td>...</td>\n",
       "      <td>0.538880</td>\n",
       "      <td>-1.228236</td>\n",
       "      <td>-0.024906</td>\n",
       "      <td>0.446005</td>\n",
       "      <td>-0.570074</td>\n",
       "      <td>0.333841</td>\n",
       "      <td>0.381176</td>\n",
       "      <td>-0.277730</td>\n",
       "      <td>-0.253670</td>\n",
       "      <td>0.416331</td>\n",
       "    </tr>\n",
       "    <tr>\n",
       "      <th>1</th>\n",
       "      <td>MARSHALL MEDICAL CENTER SOUTH</td>\n",
       "      <td>2505 U S HIGHWAY 431 NORTH</td>\n",
       "      <td>BOAZ</td>\n",
       "      <td>AL</td>\n",
       "      <td>35957</td>\n",
       "      <td>MARSHALL</td>\n",
       "      <td>2565938310</td>\n",
       "      <td>0.199974</td>\n",
       "      <td>NaN</td>\n",
       "      <td>1.574551</td>\n",
       "      <td>...</td>\n",
       "      <td>0.324044</td>\n",
       "      <td>NaN</td>\n",
       "      <td>0.193305</td>\n",
       "      <td>-0.915528</td>\n",
       "      <td>0.618334</td>\n",
       "      <td>0.178342</td>\n",
       "      <td>-0.450362</td>\n",
       "      <td>0.819555</td>\n",
       "      <td>0.635329</td>\n",
       "      <td>NaN</td>\n",
       "    </tr>\n",
       "    <tr>\n",
       "      <th>2</th>\n",
       "      <td>ELIZA COFFEE MEMORIAL HOSPITAL</td>\n",
       "      <td>205 MARENGO STREET</td>\n",
       "      <td>FLORENCE</td>\n",
       "      <td>AL</td>\n",
       "      <td>35631</td>\n",
       "      <td>LAUDERDALE</td>\n",
       "      <td>2567688400</td>\n",
       "      <td>0.826243</td>\n",
       "      <td>-0.703937</td>\n",
       "      <td>0.156930</td>\n",
       "      <td>...</td>\n",
       "      <td>0.538880</td>\n",
       "      <td>NaN</td>\n",
       "      <td>0.193305</td>\n",
       "      <td>0.198454</td>\n",
       "      <td>-0.295826</td>\n",
       "      <td>0.411590</td>\n",
       "      <td>-1.281900</td>\n",
       "      <td>-0.887332</td>\n",
       "      <td>-0.075870</td>\n",
       "      <td>0.416331</td>\n",
       "    </tr>\n",
       "    <tr>\n",
       "      <th>3</th>\n",
       "      <td>MIZELL MEMORIAL HOSPITAL</td>\n",
       "      <td>702 N MAIN ST</td>\n",
       "      <td>OPP</td>\n",
       "      <td>AL</td>\n",
       "      <td>36467</td>\n",
       "      <td>COVINGTON</td>\n",
       "      <td>3344933541</td>\n",
       "      <td>NaN</td>\n",
       "      <td>NaN</td>\n",
       "      <td>0.078174</td>\n",
       "      <td>...</td>\n",
       "      <td>NaN</td>\n",
       "      <td>NaN</td>\n",
       "      <td>0.411517</td>\n",
       "      <td>-3.019716</td>\n",
       "      <td>NaN</td>\n",
       "      <td>0.333841</td>\n",
       "      <td>0.381176</td>\n",
       "      <td>NaN</td>\n",
       "      <td>NaN</td>\n",
       "      <td>NaN</td>\n",
       "    </tr>\n",
       "    <tr>\n",
       "      <th>4</th>\n",
       "      <td>CRENSHAW COMMUNITY HOSPITAL</td>\n",
       "      <td>101 HOSPITAL CIRCLE</td>\n",
       "      <td>LUVERNE</td>\n",
       "      <td>AL</td>\n",
       "      <td>36049</td>\n",
       "      <td>CRENSHAW</td>\n",
       "      <td>3343353374</td>\n",
       "      <td>NaN</td>\n",
       "      <td>NaN</td>\n",
       "      <td>0.629471</td>\n",
       "      <td>...</td>\n",
       "      <td>NaN</td>\n",
       "      <td>NaN</td>\n",
       "      <td>NaN</td>\n",
       "      <td>NaN</td>\n",
       "      <td>NaN</td>\n",
       "      <td>0.489340</td>\n",
       "      <td>NaN</td>\n",
       "      <td>NaN</td>\n",
       "      <td>NaN</td>\n",
       "      <td>NaN</td>\n",
       "    </tr>\n",
       "  </tbody>\n",
       "</table>\n",
       "<p>5 rows × 72 columns</p>\n",
       "</div>"
      ],
      "text/plain": [
       "                      Hospital Name                     Address      City  \\\n",
       "0  SOUTHEAST ALABAMA MEDICAL CENTER      1108 ROSS CLARK CIRCLE    DOTHAN   \n",
       "1     MARSHALL MEDICAL CENTER SOUTH  2505 U S HIGHWAY 431 NORTH      BOAZ   \n",
       "2    ELIZA COFFEE MEMORIAL HOSPITAL          205 MARENGO STREET  FLORENCE   \n",
       "3          MIZELL MEMORIAL HOSPITAL               702 N MAIN ST       OPP   \n",
       "4       CRENSHAW COMMUNITY HOSPITAL         101 HOSPITAL CIRCLE   LUVERNE   \n",
       "\n",
       "  State  ZIP Code County Name  Phone Number  READM_30_AMI_score  \\\n",
       "0    AL     36301     HOUSTON    3347938701            0.408730   \n",
       "1    AL     35957    MARSHALL    2565938310            0.199974   \n",
       "2    AL     35631  LAUDERDALE    2567688400            0.826243   \n",
       "3    AL     36467   COVINGTON    3344933541                 NaN   \n",
       "4    AL     36049    CRENSHAW    3343353374                 NaN   \n",
       "\n",
       "   READM_30_CABG_score  READM_30_COPD_score  ...  PC_01_score  STK_4_score  \\\n",
       "0            -0.615156            -0.866907  ...     0.538880    -1.228236   \n",
       "1                  NaN             1.574551  ...     0.324044          NaN   \n",
       "2            -0.703937             0.156930  ...     0.538880          NaN   \n",
       "3                  NaN             0.078174  ...          NaN          NaN   \n",
       "4                  NaN             0.629471  ...          NaN          NaN   \n",
       "\n",
       "   STK_5_score  STK_6_score  STK_8_score  VTE_1_score  VTE_2_score  \\\n",
       "0    -0.024906     0.446005    -0.570074     0.333841     0.381176   \n",
       "1     0.193305    -0.915528     0.618334     0.178342    -0.450362   \n",
       "2     0.193305     0.198454    -0.295826     0.411590    -1.281900   \n",
       "3     0.411517    -3.019716          NaN     0.333841     0.381176   \n",
       "4          NaN          NaN          NaN     0.489340          NaN   \n",
       "\n",
       "   VTE_3_score  VTE_5_score  VTE_6_score  \n",
       "0    -0.277730    -0.253670     0.416331  \n",
       "1     0.819555     0.635329          NaN  \n",
       "2    -0.887332    -0.075870     0.416331  \n",
       "3          NaN          NaN          NaN  \n",
       "4          NaN          NaN          NaN  \n",
       "\n",
       "[5 rows x 72 columns]"
      ]
     },
     "execution_count": 90,
     "metadata": {},
     "output_type": "execute_result"
    }
   ],
   "source": [
    "## Remove duplicate Data\n",
    "\n",
    "master_data_x = master_data_x.drop_duplicates(keep='first')\n",
    "\n",
    "master_data_x.head()\n",
    "\n"
   ]
  },
  {
   "cell_type": "code",
   "execution_count": 91,
   "metadata": {},
   "outputs": [
    {
     "name": "stdout",
     "output_type": "stream",
     "text": [
      "Hospital Name       0\n",
      "Address             0\n",
      "City                0\n",
      "State               0\n",
      "ZIP Code            0\n",
      "                 ... \n",
      "VTE_1_score      1200\n",
      "VTE_2_score      1887\n",
      "VTE_3_score      2336\n",
      "VTE_5_score      2590\n",
      "VTE_6_score      3562\n",
      "Length: 72, dtype: int64\n"
     ]
    }
   ],
   "source": [
    "print(master_data_x.isnull().sum())\n"
   ]
  },
  {
   "cell_type": "code",
   "execution_count": 92,
   "metadata": {},
   "outputs": [
    {
     "data": {
      "image/png": "[encoded data removed]",
      "text/plain": [
       "<Figure size 432x288 with 1 Axes>"
      ]
     },
     "metadata": {},
     "output_type": "display_data"
    }
   ],
   "source": [
    "\n",
    "columns_with_missing_data = round(100 * (master_data_x.isnull().sum() / len(master_data_x.index)), 2)\n",
    "columns_with_missing_data[columns_with_missing_data > 30].plot(kind='bar')\n",
    "plt.show()"
   ]
  },
  {
   "cell_type": "code",
   "execution_count": 93,
   "metadata": {},
   "outputs": [
    {
     "name": "stdout",
     "output_type": "stream",
     "text": [
      "131507\n"
     ]
    }
   ],
   "source": [
    "print(np.sum(master_data_x.isnull().sum().to_list()))\n"
   ]
  },
  {
   "cell_type": "code",
   "execution_count": 94,
   "metadata": {
    "pycharm": {
     "is_executing": false,
     "name": "#%%\n"
    }
   },
   "outputs": [
    {
     "data": {
      "text/html": [
       "<div>\n",
       "<style scoped>\n",
       "    .dataframe tbody tr th:only-of-type {\n",
       "        vertical-align: middle;\n",
       "    }\n",
       "\n",
       "    .dataframe tbody tr th {\n",
       "        vertical-align: top;\n",
       "    }\n",
       "\n",
       "    .dataframe thead th {\n",
       "        text-align: right;\n",
       "    }\n",
       "</style>\n",
       "<table border=\"1\" class=\"dataframe\">\n",
       "  <thead>\n",
       "    <tr style=\"text-align: right;\">\n",
       "      <th></th>\n",
       "      <th>Hospital Name</th>\n",
       "      <th>Address</th>\n",
       "      <th>City</th>\n",
       "      <th>State</th>\n",
       "      <th>ZIP Code</th>\n",
       "      <th>County Name</th>\n",
       "      <th>Phone Number</th>\n",
       "      <th>READM_30_AMI_score</th>\n",
       "      <th>READM_30_CABG_score</th>\n",
       "      <th>READM_30_COPD_score</th>\n",
       "      <th>...</th>\n",
       "      <th>PC_01_score</th>\n",
       "      <th>STK_4_score</th>\n",
       "      <th>STK_5_score</th>\n",
       "      <th>STK_6_score</th>\n",
       "      <th>STK_8_score</th>\n",
       "      <th>VTE_1_score</th>\n",
       "      <th>VTE_2_score</th>\n",
       "      <th>VTE_3_score</th>\n",
       "      <th>VTE_5_score</th>\n",
       "      <th>VTE_6_score</th>\n",
       "    </tr>\n",
       "  </thead>\n",
       "  <tbody>\n",
       "    <tr>\n",
       "      <th>0</th>\n",
       "      <td>SOUTHEAST ALABAMA MEDICAL CENTER</td>\n",
       "      <td>1108 ROSS CLARK CIRCLE</td>\n",
       "      <td>DOTHAN</td>\n",
       "      <td>AL</td>\n",
       "      <td>36301</td>\n",
       "      <td>HOUSTON</td>\n",
       "      <td>3347938701</td>\n",
       "      <td>0.408730</td>\n",
       "      <td>-0.615156</td>\n",
       "      <td>-0.866907</td>\n",
       "      <td>...</td>\n",
       "      <td>0.538880</td>\n",
       "      <td>-1.228236</td>\n",
       "      <td>-0.024906</td>\n",
       "      <td>0.446005</td>\n",
       "      <td>-0.570074</td>\n",
       "      <td>0.333841</td>\n",
       "      <td>0.381176</td>\n",
       "      <td>-0.277730</td>\n",
       "      <td>-0.253670</td>\n",
       "      <td>0.416331</td>\n",
       "    </tr>\n",
       "    <tr>\n",
       "      <th>1</th>\n",
       "      <td>MARSHALL MEDICAL CENTER SOUTH</td>\n",
       "      <td>2505 U S HIGHWAY 431 NORTH</td>\n",
       "      <td>BOAZ</td>\n",
       "      <td>AL</td>\n",
       "      <td>35957</td>\n",
       "      <td>MARSHALL</td>\n",
       "      <td>2565938310</td>\n",
       "      <td>0.199974</td>\n",
       "      <td>NaN</td>\n",
       "      <td>1.574551</td>\n",
       "      <td>...</td>\n",
       "      <td>0.324044</td>\n",
       "      <td>NaN</td>\n",
       "      <td>0.193305</td>\n",
       "      <td>-0.915528</td>\n",
       "      <td>0.618334</td>\n",
       "      <td>0.178342</td>\n",
       "      <td>-0.450362</td>\n",
       "      <td>0.819555</td>\n",
       "      <td>0.635329</td>\n",
       "      <td>NaN</td>\n",
       "    </tr>\n",
       "    <tr>\n",
       "      <th>2</th>\n",
       "      <td>ELIZA COFFEE MEMORIAL HOSPITAL</td>\n",
       "      <td>205 MARENGO STREET</td>\n",
       "      <td>FLORENCE</td>\n",
       "      <td>AL</td>\n",
       "      <td>35631</td>\n",
       "      <td>LAUDERDALE</td>\n",
       "      <td>2567688400</td>\n",
       "      <td>0.826243</td>\n",
       "      <td>-0.703937</td>\n",
       "      <td>0.156930</td>\n",
       "      <td>...</td>\n",
       "      <td>0.538880</td>\n",
       "      <td>NaN</td>\n",
       "      <td>0.193305</td>\n",
       "      <td>0.198454</td>\n",
       "      <td>-0.295826</td>\n",
       "      <td>0.411590</td>\n",
       "      <td>-1.281900</td>\n",
       "      <td>-0.887332</td>\n",
       "      <td>-0.075870</td>\n",
       "      <td>0.416331</td>\n",
       "    </tr>\n",
       "    <tr>\n",
       "      <th>3</th>\n",
       "      <td>MIZELL MEMORIAL HOSPITAL</td>\n",
       "      <td>702 N MAIN ST</td>\n",
       "      <td>OPP</td>\n",
       "      <td>AL</td>\n",
       "      <td>36467</td>\n",
       "      <td>COVINGTON</td>\n",
       "      <td>3344933541</td>\n",
       "      <td>NaN</td>\n",
       "      <td>NaN</td>\n",
       "      <td>0.078174</td>\n",
       "      <td>...</td>\n",
       "      <td>NaN</td>\n",
       "      <td>NaN</td>\n",
       "      <td>0.411517</td>\n",
       "      <td>-3.019716</td>\n",
       "      <td>NaN</td>\n",
       "      <td>0.333841</td>\n",
       "      <td>0.381176</td>\n",
       "      <td>NaN</td>\n",
       "      <td>NaN</td>\n",
       "      <td>NaN</td>\n",
       "    </tr>\n",
       "    <tr>\n",
       "      <th>4</th>\n",
       "      <td>CRENSHAW COMMUNITY HOSPITAL</td>\n",
       "      <td>101 HOSPITAL CIRCLE</td>\n",
       "      <td>LUVERNE</td>\n",
       "      <td>AL</td>\n",
       "      <td>36049</td>\n",
       "      <td>CRENSHAW</td>\n",
       "      <td>3343353374</td>\n",
       "      <td>NaN</td>\n",
       "      <td>NaN</td>\n",
       "      <td>0.629471</td>\n",
       "      <td>...</td>\n",
       "      <td>NaN</td>\n",
       "      <td>NaN</td>\n",
       "      <td>NaN</td>\n",
       "      <td>NaN</td>\n",
       "      <td>NaN</td>\n",
       "      <td>0.489340</td>\n",
       "      <td>NaN</td>\n",
       "      <td>NaN</td>\n",
       "      <td>NaN</td>\n",
       "      <td>NaN</td>\n",
       "    </tr>\n",
       "  </tbody>\n",
       "</table>\n",
       "<p>5 rows × 72 columns</p>\n",
       "</div>"
      ],
      "text/plain": [
       "                      Hospital Name                     Address      City  \\\n",
       "0  SOUTHEAST ALABAMA MEDICAL CENTER      1108 ROSS CLARK CIRCLE    DOTHAN   \n",
       "1     MARSHALL MEDICAL CENTER SOUTH  2505 U S HIGHWAY 431 NORTH      BOAZ   \n",
       "2    ELIZA COFFEE MEMORIAL HOSPITAL          205 MARENGO STREET  FLORENCE   \n",
       "3          MIZELL MEMORIAL HOSPITAL               702 N MAIN ST       OPP   \n",
       "4       CRENSHAW COMMUNITY HOSPITAL         101 HOSPITAL CIRCLE   LUVERNE   \n",
       "\n",
       "  State  ZIP Code County Name  Phone Number  READM_30_AMI_score  \\\n",
       "0    AL     36301     HOUSTON    3347938701            0.408730   \n",
       "1    AL     35957    MARSHALL    2565938310            0.199974   \n",
       "2    AL     35631  LAUDERDALE    2567688400            0.826243   \n",
       "3    AL     36467   COVINGTON    3344933541                 NaN   \n",
       "4    AL     36049    CRENSHAW    3343353374                 NaN   \n",
       "\n",
       "   READM_30_CABG_score  READM_30_COPD_score  ...  PC_01_score  STK_4_score  \\\n",
       "0            -0.615156            -0.866907  ...     0.538880    -1.228236   \n",
       "1                  NaN             1.574551  ...     0.324044          NaN   \n",
       "2            -0.703937             0.156930  ...     0.538880          NaN   \n",
       "3                  NaN             0.078174  ...          NaN          NaN   \n",
       "4                  NaN             0.629471  ...          NaN          NaN   \n",
       "\n",
       "   STK_5_score  STK_6_score  STK_8_score  VTE_1_score  VTE_2_score  \\\n",
       "0    -0.024906     0.446005    -0.570074     0.333841     0.381176   \n",
       "1     0.193305    -0.915528     0.618334     0.178342    -0.450362   \n",
       "2     0.193305     0.198454    -0.295826     0.411590    -1.281900   \n",
       "3     0.411517    -3.019716          NaN     0.333841     0.381176   \n",
       "4          NaN          NaN          NaN     0.489340          NaN   \n",
       "\n",
       "   VTE_3_score  VTE_5_score  VTE_6_score  \n",
       "0    -0.277730    -0.253670     0.416331  \n",
       "1     0.819555     0.635329          NaN  \n",
       "2    -0.887332    -0.075870     0.416331  \n",
       "3          NaN          NaN          NaN  \n",
       "4          NaN          NaN          NaN  \n",
       "\n",
       "[5 rows x 72 columns]"
      ]
     },
     "execution_count": 94,
     "metadata": {},
     "output_type": "execute_result"
    }
   ],
   "source": [
    "\n",
    "## The Score columns are having 131127 NA values, score columns are very important for our further analysis. As these are all independent(X) variables\n",
    "## we will deal with the NA cleaning after merging with Dependent variable (ratings- y) in later phase\n",
    "\n",
    "master_data_x.head()\n",
    "\n"
   ]
  },
  {
   "cell_type": "markdown",
   "metadata": {
    "pycharm": {
     "name": "#%% md\n"
    }
   },
   "source": [
    "## Load the dependent variable i.e. the `rating` from the  `Hospital Genral Information.csv` file\n"
   ]
  },
  {
   "cell_type": "code",
   "execution_count": 111,
   "metadata": {
    "pycharm": {
     "is_executing": false,
     "name": "#%%\n"
    }
   },
   "outputs": [
    {
     "data": {
      "text/html": [
       "<div>\n",
       "<style scoped>\n",
       "    .dataframe tbody tr th:only-of-type {\n",
       "        vertical-align: middle;\n",
       "    }\n",
       "\n",
       "    .dataframe tbody tr th {\n",
       "        vertical-align: top;\n",
       "    }\n",
       "\n",
       "    .dataframe thead th {\n",
       "        text-align: right;\n",
       "    }\n",
       "</style>\n",
       "<table border=\"1\" class=\"dataframe\">\n",
       "  <thead>\n",
       "    <tr style=\"text-align: right;\">\n",
       "      <th></th>\n",
       "      <th>Hospital Name</th>\n",
       "      <th>Address</th>\n",
       "      <th>City</th>\n",
       "      <th>State</th>\n",
       "      <th>ZIP Code</th>\n",
       "      <th>County Name</th>\n",
       "      <th>Phone Number</th>\n",
       "      <th>Hospital Type</th>\n",
       "      <th>Hospital Ownership</th>\n",
       "      <th>Emergency Services</th>\n",
       "      <th>...</th>\n",
       "      <th>Readmission national comparison</th>\n",
       "      <th>Readmission national comparison footnote</th>\n",
       "      <th>Patient experience national comparison</th>\n",
       "      <th>Patient experience national comparison footnote</th>\n",
       "      <th>Effectiveness of care national comparison</th>\n",
       "      <th>Effectiveness of care national comparison footnote</th>\n",
       "      <th>Timeliness of care national comparison</th>\n",
       "      <th>Timeliness of care national comparison footnote</th>\n",
       "      <th>Efficient use of medical imaging national comparison</th>\n",
       "      <th>Efficient use of medical imaging national comparison footnote</th>\n",
       "    </tr>\n",
       "    <tr>\n",
       "      <th>Provider ID</th>\n",
       "      <th></th>\n",
       "      <th></th>\n",
       "      <th></th>\n",
       "      <th></th>\n",
       "      <th></th>\n",
       "      <th></th>\n",
       "      <th></th>\n",
       "      <th></th>\n",
       "      <th></th>\n",
       "      <th></th>\n",
       "      <th></th>\n",
       "      <th></th>\n",
       "      <th></th>\n",
       "      <th></th>\n",
       "      <th></th>\n",
       "      <th></th>\n",
       "      <th></th>\n",
       "      <th></th>\n",
       "      <th></th>\n",
       "      <th></th>\n",
       "      <th></th>\n",
       "    </tr>\n",
       "  </thead>\n",
       "  <tbody>\n",
       "    <tr>\n",
       "      <th>10001</th>\n",
       "      <td>SOUTHEAST ALABAMA MEDICAL CENTER</td>\n",
       "      <td>1108 ROSS CLARK CIRCLE</td>\n",
       "      <td>DOTHAN</td>\n",
       "      <td>AL</td>\n",
       "      <td>36301</td>\n",
       "      <td>HOUSTON</td>\n",
       "      <td>3347938701</td>\n",
       "      <td>Acute Care Hospitals</td>\n",
       "      <td>Government - Hospital District or Authority</td>\n",
       "      <td>Yes</td>\n",
       "      <td>...</td>\n",
       "      <td>Same as the National average</td>\n",
       "      <td>NaN</td>\n",
       "      <td>Below the National average</td>\n",
       "      <td>NaN</td>\n",
       "      <td>Same as the National average</td>\n",
       "      <td>NaN</td>\n",
       "      <td>Same as the National average</td>\n",
       "      <td>NaN</td>\n",
       "      <td>Same as the National average</td>\n",
       "      <td>NaN</td>\n",
       "    </tr>\n",
       "    <tr>\n",
       "      <th>10005</th>\n",
       "      <td>MARSHALL MEDICAL CENTER SOUTH</td>\n",
       "      <td>2505 U S HIGHWAY 431 NORTH</td>\n",
       "      <td>BOAZ</td>\n",
       "      <td>AL</td>\n",
       "      <td>35957</td>\n",
       "      <td>MARSHALL</td>\n",
       "      <td>2565938310</td>\n",
       "      <td>Acute Care Hospitals</td>\n",
       "      <td>Government - Hospital District or Authority</td>\n",
       "      <td>Yes</td>\n",
       "      <td>...</td>\n",
       "      <td>Above the National average</td>\n",
       "      <td>NaN</td>\n",
       "      <td>Same as the National average</td>\n",
       "      <td>NaN</td>\n",
       "      <td>Same as the National average</td>\n",
       "      <td>NaN</td>\n",
       "      <td>Above the National average</td>\n",
       "      <td>NaN</td>\n",
       "      <td>Below the National average</td>\n",
       "      <td>NaN</td>\n",
       "    </tr>\n",
       "    <tr>\n",
       "      <th>10006</th>\n",
       "      <td>ELIZA COFFEE MEMORIAL HOSPITAL</td>\n",
       "      <td>205 MARENGO STREET</td>\n",
       "      <td>FLORENCE</td>\n",
       "      <td>AL</td>\n",
       "      <td>35631</td>\n",
       "      <td>LAUDERDALE</td>\n",
       "      <td>2567688400</td>\n",
       "      <td>Acute Care Hospitals</td>\n",
       "      <td>Government - Hospital District or Authority</td>\n",
       "      <td>Yes</td>\n",
       "      <td>...</td>\n",
       "      <td>Same as the National average</td>\n",
       "      <td>NaN</td>\n",
       "      <td>Below the National average</td>\n",
       "      <td>NaN</td>\n",
       "      <td>Same as the National average</td>\n",
       "      <td>NaN</td>\n",
       "      <td>Above the National average</td>\n",
       "      <td>NaN</td>\n",
       "      <td>Same as the National average</td>\n",
       "      <td>NaN</td>\n",
       "    </tr>\n",
       "    <tr>\n",
       "      <th>10007</th>\n",
       "      <td>MIZELL MEMORIAL HOSPITAL</td>\n",
       "      <td>702 N MAIN ST</td>\n",
       "      <td>OPP</td>\n",
       "      <td>AL</td>\n",
       "      <td>36467</td>\n",
       "      <td>COVINGTON</td>\n",
       "      <td>3344933541</td>\n",
       "      <td>Acute Care Hospitals</td>\n",
       "      <td>Voluntary non-profit - Private</td>\n",
       "      <td>Yes</td>\n",
       "      <td>...</td>\n",
       "      <td>Below the National average</td>\n",
       "      <td>NaN</td>\n",
       "      <td>Same as the National average</td>\n",
       "      <td>NaN</td>\n",
       "      <td>Same as the National average</td>\n",
       "      <td>NaN</td>\n",
       "      <td>Above the National average</td>\n",
       "      <td>NaN</td>\n",
       "      <td>NaN</td>\n",
       "      <td>Results are not available for this reporting p...</td>\n",
       "    </tr>\n",
       "    <tr>\n",
       "      <th>10008</th>\n",
       "      <td>CRENSHAW COMMUNITY HOSPITAL</td>\n",
       "      <td>101 HOSPITAL CIRCLE</td>\n",
       "      <td>LUVERNE</td>\n",
       "      <td>AL</td>\n",
       "      <td>36049</td>\n",
       "      <td>CRENSHAW</td>\n",
       "      <td>3343353374</td>\n",
       "      <td>Acute Care Hospitals</td>\n",
       "      <td>Proprietary</td>\n",
       "      <td>Yes</td>\n",
       "      <td>...</td>\n",
       "      <td>Same as the National average</td>\n",
       "      <td>NaN</td>\n",
       "      <td>NaN</td>\n",
       "      <td>Results are not available for this reporting p...</td>\n",
       "      <td>Same as the National average</td>\n",
       "      <td>NaN</td>\n",
       "      <td>Above the National average</td>\n",
       "      <td>NaN</td>\n",
       "      <td>NaN</td>\n",
       "      <td>Results are not available for this reporting p...</td>\n",
       "    </tr>\n",
       "  </tbody>\n",
       "</table>\n",
       "<p>5 rows × 27 columns</p>\n",
       "</div>"
      ],
      "text/plain": [
       "                                Hospital Name                     Address  \\\n",
       "Provider ID                                                                 \n",
       "10001        SOUTHEAST ALABAMA MEDICAL CENTER      1108 ROSS CLARK CIRCLE   \n",
       "10005           MARSHALL MEDICAL CENTER SOUTH  2505 U S HIGHWAY 431 NORTH   \n",
       "10006          ELIZA COFFEE MEMORIAL HOSPITAL          205 MARENGO STREET   \n",
       "10007                MIZELL MEMORIAL HOSPITAL               702 N MAIN ST   \n",
       "10008             CRENSHAW COMMUNITY HOSPITAL         101 HOSPITAL CIRCLE   \n",
       "\n",
       "                 City State  ZIP Code County Name  Phone Number  \\\n",
       "Provider ID                                                       \n",
       "10001          DOTHAN    AL     36301     HOUSTON    3347938701   \n",
       "10005            BOAZ    AL     35957    MARSHALL    2565938310   \n",
       "10006        FLORENCE    AL     35631  LAUDERDALE    2567688400   \n",
       "10007             OPP    AL     36467   COVINGTON    3344933541   \n",
       "10008         LUVERNE    AL     36049    CRENSHAW    3343353374   \n",
       "\n",
       "                    Hospital Type  \\\n",
       "Provider ID                         \n",
       "10001        Acute Care Hospitals   \n",
       "10005        Acute Care Hospitals   \n",
       "10006        Acute Care Hospitals   \n",
       "10007        Acute Care Hospitals   \n",
       "10008        Acute Care Hospitals   \n",
       "\n",
       "                                      Hospital Ownership Emergency Services  \\\n",
       "Provider ID                                                                   \n",
       "10001        Government - Hospital District or Authority                Yes   \n",
       "10005        Government - Hospital District or Authority                Yes   \n",
       "10006        Government - Hospital District or Authority                Yes   \n",
       "10007                     Voluntary non-profit - Private                Yes   \n",
       "10008                                        Proprietary                Yes   \n",
       "\n",
       "             ... Readmission national comparison  \\\n",
       "Provider ID  ...                                   \n",
       "10001        ...    Same as the National average   \n",
       "10005        ...      Above the National average   \n",
       "10006        ...    Same as the National average   \n",
       "10007        ...      Below the National average   \n",
       "10008        ...    Same as the National average   \n",
       "\n",
       "             Readmission national comparison footnote  \\\n",
       "Provider ID                                             \n",
       "10001                                             NaN   \n",
       "10005                                             NaN   \n",
       "10006                                             NaN   \n",
       "10007                                             NaN   \n",
       "10008                                             NaN   \n",
       "\n",
       "            Patient experience national comparison  \\\n",
       "Provider ID                                          \n",
       "10001                   Below the National average   \n",
       "10005                 Same as the National average   \n",
       "10006                   Below the National average   \n",
       "10007                 Same as the National average   \n",
       "10008                                          NaN   \n",
       "\n",
       "               Patient experience national comparison footnote  \\\n",
       "Provider ID                                                      \n",
       "10001                                                      NaN   \n",
       "10005                                                      NaN   \n",
       "10006                                                      NaN   \n",
       "10007                                                      NaN   \n",
       "10008        Results are not available for this reporting p...   \n",
       "\n",
       "            Effectiveness of care national comparison  \\\n",
       "Provider ID                                             \n",
       "10001                    Same as the National average   \n",
       "10005                    Same as the National average   \n",
       "10006                    Same as the National average   \n",
       "10007                    Same as the National average   \n",
       "10008                    Same as the National average   \n",
       "\n",
       "            Effectiveness of care national comparison footnote  \\\n",
       "Provider ID                                                      \n",
       "10001                                                      NaN   \n",
       "10005                                                      NaN   \n",
       "10006                                                      NaN   \n",
       "10007                                                      NaN   \n",
       "10008                                                      NaN   \n",
       "\n",
       "            Timeliness of care national comparison  \\\n",
       "Provider ID                                          \n",
       "10001                 Same as the National average   \n",
       "10005                   Above the National average   \n",
       "10006                   Above the National average   \n",
       "10007                   Above the National average   \n",
       "10008                   Above the National average   \n",
       "\n",
       "            Timeliness of care national comparison footnote  \\\n",
       "Provider ID                                                   \n",
       "10001                                                   NaN   \n",
       "10005                                                   NaN   \n",
       "10006                                                   NaN   \n",
       "10007                                                   NaN   \n",
       "10008                                                   NaN   \n",
       "\n",
       "            Efficient use of medical imaging national comparison  \\\n",
       "Provider ID                                                        \n",
       "10001                             Same as the National average     \n",
       "10005                               Below the National average     \n",
       "10006                             Same as the National average     \n",
       "10007                                                      NaN     \n",
       "10008                                                      NaN     \n",
       "\n",
       "            Efficient use of medical imaging national comparison footnote  \n",
       "Provider ID                                                                \n",
       "10001                                                      NaN             \n",
       "10005                                                      NaN             \n",
       "10006                                                      NaN             \n",
       "10007        Results are not available for this reporting p...             \n",
       "10008        Results are not available for this reporting p...             \n",
       "\n",
       "[5 rows x 27 columns]"
      ]
     },
     "execution_count": 111,
     "metadata": {},
     "output_type": "execute_result"
    }
   ],
   "source": [
    "hospital_ratings = pd.read_csv(\"Hospital General Information.csv\", encoding=\"ISO-8859-1\", na_values=[\"Not Available\", \"Not Applicable\"]).set_index('Provider ID')\n",
    "\n",
    "hospital_ratings.to_csv('cleaned_hospital_ratings_data.csv')\n",
    "\n",
    "hospital_ratings.head()\n"
   ]
  },
  {
   "cell_type": "code",
   "execution_count": 96,
   "metadata": {},
   "outputs": [
    {
     "data": {
      "text/plain": [
       "Hospital overall rating    1170\n",
       "dtype: int64"
      ]
     },
     "execution_count": 96,
     "metadata": {},
     "output_type": "execute_result"
    }
   ],
   "source": [
    "master_data_y = hospital_ratings\n",
    "\n",
    "hospital_ratings[['Hospital overall rating']].isnull().sum()\n",
    "\n"
   ]
  },
  {
   "cell_type": "code",
   "execution_count": 97,
   "metadata": {},
   "outputs": [
    {
     "data": {
      "text/html": [
       "<div>\n",
       "<style scoped>\n",
       "    .dataframe tbody tr th:only-of-type {\n",
       "        vertical-align: middle;\n",
       "    }\n",
       "\n",
       "    .dataframe tbody tr th {\n",
       "        vertical-align: top;\n",
       "    }\n",
       "\n",
       "    .dataframe thead th {\n",
       "        text-align: right;\n",
       "    }\n",
       "</style>\n",
       "<table border=\"1\" class=\"dataframe\">\n",
       "  <thead>\n",
       "    <tr style=\"text-align: right;\">\n",
       "      <th></th>\n",
       "      <th>Provider ID</th>\n",
       "      <th>Hospital overall rating</th>\n",
       "    </tr>\n",
       "  </thead>\n",
       "  <tbody>\n",
       "    <tr>\n",
       "      <th>0</th>\n",
       "      <td>10001</td>\n",
       "      <td>3.0</td>\n",
       "    </tr>\n",
       "    <tr>\n",
       "      <th>1</th>\n",
       "      <td>10005</td>\n",
       "      <td>3.0</td>\n",
       "    </tr>\n",
       "    <tr>\n",
       "      <th>2</th>\n",
       "      <td>10006</td>\n",
       "      <td>2.0</td>\n",
       "    </tr>\n",
       "    <tr>\n",
       "      <th>3</th>\n",
       "      <td>10007</td>\n",
       "      <td>3.0</td>\n",
       "    </tr>\n",
       "    <tr>\n",
       "      <th>4</th>\n",
       "      <td>10008</td>\n",
       "      <td>3.0</td>\n",
       "    </tr>\n",
       "  </tbody>\n",
       "</table>\n",
       "</div>"
      ],
      "text/plain": [
       "   Provider ID  Hospital overall rating\n",
       "0        10001                      3.0\n",
       "1        10005                      3.0\n",
       "2        10006                      2.0\n",
       "3        10007                      3.0\n",
       "4        10008                      3.0"
      ]
     },
     "execution_count": 97,
     "metadata": {},
     "output_type": "execute_result"
    }
   ],
   "source": [
    "master_data_y = master_data_y.iloc[:,[0, 12]]\n",
    "master_data_y.head()"
   ]
  },
  {
   "cell_type": "code",
   "execution_count": 98,
   "metadata": {
    "pycharm": {
     "is_executing": false,
     "name": "#%%\n"
    }
   },
   "outputs": [
    {
     "name": "stdout",
     "output_type": "stream",
     "text": [
      "Index(['Provider ID', 'Hospital overall rating'], dtype='object')\n"
     ]
    }
   ],
   "source": [
    "print(master_data_y.columns)"
   ]
  },
  {
   "cell_type": "markdown",
   "metadata": {
    "pycharm": {
     "name": "#%% md\n"
    }
   },
   "source": [
    "## Merge X (independent) & Y (dependent) variables to one using Provider id"
   ]
  },
  {
   "cell_type": "code",
   "execution_count": 99,
   "metadata": {
    "pycharm": {
     "is_executing": false,
     "name": "#%%\n"
    }
   },
   "outputs": [
    {
     "data": {
      "text/html": [
       "<div>\n",
       "<style scoped>\n",
       "    .dataframe tbody tr th:only-of-type {\n",
       "        vertical-align: middle;\n",
       "    }\n",
       "\n",
       "    .dataframe tbody tr th {\n",
       "        vertical-align: top;\n",
       "    }\n",
       "\n",
       "    .dataframe thead th {\n",
       "        text-align: right;\n",
       "    }\n",
       "</style>\n",
       "<table border=\"1\" class=\"dataframe\">\n",
       "  <thead>\n",
       "    <tr style=\"text-align: right;\">\n",
       "      <th></th>\n",
       "      <th>Hospital Name</th>\n",
       "      <th>Address</th>\n",
       "      <th>City</th>\n",
       "      <th>State</th>\n",
       "      <th>ZIP Code</th>\n",
       "      <th>County Name</th>\n",
       "      <th>Phone Number</th>\n",
       "      <th>READM_30_AMI_score</th>\n",
       "      <th>READM_30_CABG_score</th>\n",
       "      <th>READM_30_COPD_score</th>\n",
       "      <th>...</th>\n",
       "      <th>STK_4_score</th>\n",
       "      <th>STK_5_score</th>\n",
       "      <th>STK_6_score</th>\n",
       "      <th>STK_8_score</th>\n",
       "      <th>VTE_1_score</th>\n",
       "      <th>VTE_2_score</th>\n",
       "      <th>VTE_3_score</th>\n",
       "      <th>VTE_5_score</th>\n",
       "      <th>VTE_6_score</th>\n",
       "      <th>Hospital overall rating</th>\n",
       "    </tr>\n",
       "  </thead>\n",
       "  <tbody>\n",
       "    <tr>\n",
       "      <th>0</th>\n",
       "      <td>SOUTHEAST ALABAMA MEDICAL CENTER</td>\n",
       "      <td>1108 ROSS CLARK CIRCLE</td>\n",
       "      <td>DOTHAN</td>\n",
       "      <td>AL</td>\n",
       "      <td>36301</td>\n",
       "      <td>HOUSTON</td>\n",
       "      <td>3347938701</td>\n",
       "      <td>0.408730</td>\n",
       "      <td>-0.615156</td>\n",
       "      <td>-0.866907</td>\n",
       "      <td>...</td>\n",
       "      <td>-1.228236</td>\n",
       "      <td>-0.024906</td>\n",
       "      <td>0.446005</td>\n",
       "      <td>-0.570074</td>\n",
       "      <td>0.333841</td>\n",
       "      <td>0.381176</td>\n",
       "      <td>-0.277730</td>\n",
       "      <td>-0.253670</td>\n",
       "      <td>0.416331</td>\n",
       "      <td>3.0</td>\n",
       "    </tr>\n",
       "    <tr>\n",
       "      <th>1</th>\n",
       "      <td>MARSHALL MEDICAL CENTER SOUTH</td>\n",
       "      <td>2505 U S HIGHWAY 431 NORTH</td>\n",
       "      <td>BOAZ</td>\n",
       "      <td>AL</td>\n",
       "      <td>35957</td>\n",
       "      <td>MARSHALL</td>\n",
       "      <td>2565938310</td>\n",
       "      <td>0.199974</td>\n",
       "      <td>NaN</td>\n",
       "      <td>1.574551</td>\n",
       "      <td>...</td>\n",
       "      <td>NaN</td>\n",
       "      <td>0.193305</td>\n",
       "      <td>-0.915528</td>\n",
       "      <td>0.618334</td>\n",
       "      <td>0.178342</td>\n",
       "      <td>-0.450362</td>\n",
       "      <td>0.819555</td>\n",
       "      <td>0.635329</td>\n",
       "      <td>NaN</td>\n",
       "      <td>3.0</td>\n",
       "    </tr>\n",
       "    <tr>\n",
       "      <th>2</th>\n",
       "      <td>ELIZA COFFEE MEMORIAL HOSPITAL</td>\n",
       "      <td>205 MARENGO STREET</td>\n",
       "      <td>FLORENCE</td>\n",
       "      <td>AL</td>\n",
       "      <td>35631</td>\n",
       "      <td>LAUDERDALE</td>\n",
       "      <td>2567688400</td>\n",
       "      <td>0.826243</td>\n",
       "      <td>-0.703937</td>\n",
       "      <td>0.156930</td>\n",
       "      <td>...</td>\n",
       "      <td>NaN</td>\n",
       "      <td>0.193305</td>\n",
       "      <td>0.198454</td>\n",
       "      <td>-0.295826</td>\n",
       "      <td>0.411590</td>\n",
       "      <td>-1.281900</td>\n",
       "      <td>-0.887332</td>\n",
       "      <td>-0.075870</td>\n",
       "      <td>0.416331</td>\n",
       "      <td>2.0</td>\n",
       "    </tr>\n",
       "    <tr>\n",
       "      <th>3</th>\n",
       "      <td>MIZELL MEMORIAL HOSPITAL</td>\n",
       "      <td>702 N MAIN ST</td>\n",
       "      <td>OPP</td>\n",
       "      <td>AL</td>\n",
       "      <td>36467</td>\n",
       "      <td>COVINGTON</td>\n",
       "      <td>3344933541</td>\n",
       "      <td>NaN</td>\n",
       "      <td>NaN</td>\n",
       "      <td>0.078174</td>\n",
       "      <td>...</td>\n",
       "      <td>NaN</td>\n",
       "      <td>0.411517</td>\n",
       "      <td>-3.019716</td>\n",
       "      <td>NaN</td>\n",
       "      <td>0.333841</td>\n",
       "      <td>0.381176</td>\n",
       "      <td>NaN</td>\n",
       "      <td>NaN</td>\n",
       "      <td>NaN</td>\n",
       "      <td>3.0</td>\n",
       "    </tr>\n",
       "    <tr>\n",
       "      <th>4</th>\n",
       "      <td>CRENSHAW COMMUNITY HOSPITAL</td>\n",
       "      <td>101 HOSPITAL CIRCLE</td>\n",
       "      <td>LUVERNE</td>\n",
       "      <td>AL</td>\n",
       "      <td>36049</td>\n",
       "      <td>CRENSHAW</td>\n",
       "      <td>3343353374</td>\n",
       "      <td>NaN</td>\n",
       "      <td>NaN</td>\n",
       "      <td>0.629471</td>\n",
       "      <td>...</td>\n",
       "      <td>NaN</td>\n",
       "      <td>NaN</td>\n",
       "      <td>NaN</td>\n",
       "      <td>NaN</td>\n",
       "      <td>0.489340</td>\n",
       "      <td>NaN</td>\n",
       "      <td>NaN</td>\n",
       "      <td>NaN</td>\n",
       "      <td>NaN</td>\n",
       "      <td>3.0</td>\n",
       "    </tr>\n",
       "  </tbody>\n",
       "</table>\n",
       "<p>5 rows × 73 columns</p>\n",
       "</div>"
      ],
      "text/plain": [
       "                      Hospital Name                     Address      City  \\\n",
       "0  SOUTHEAST ALABAMA MEDICAL CENTER      1108 ROSS CLARK CIRCLE    DOTHAN   \n",
       "1     MARSHALL MEDICAL CENTER SOUTH  2505 U S HIGHWAY 431 NORTH      BOAZ   \n",
       "2    ELIZA COFFEE MEMORIAL HOSPITAL          205 MARENGO STREET  FLORENCE   \n",
       "3          MIZELL MEMORIAL HOSPITAL               702 N MAIN ST       OPP   \n",
       "4       CRENSHAW COMMUNITY HOSPITAL         101 HOSPITAL CIRCLE   LUVERNE   \n",
       "\n",
       "  State  ZIP Code County Name  Phone Number  READM_30_AMI_score  \\\n",
       "0    AL     36301     HOUSTON    3347938701            0.408730   \n",
       "1    AL     35957    MARSHALL    2565938310            0.199974   \n",
       "2    AL     35631  LAUDERDALE    2567688400            0.826243   \n",
       "3    AL     36467   COVINGTON    3344933541                 NaN   \n",
       "4    AL     36049    CRENSHAW    3343353374                 NaN   \n",
       "\n",
       "   READM_30_CABG_score  READM_30_COPD_score  ...  STK_4_score  STK_5_score  \\\n",
       "0            -0.615156            -0.866907  ...    -1.228236    -0.024906   \n",
       "1                  NaN             1.574551  ...          NaN     0.193305   \n",
       "2            -0.703937             0.156930  ...          NaN     0.193305   \n",
       "3                  NaN             0.078174  ...          NaN     0.411517   \n",
       "4                  NaN             0.629471  ...          NaN          NaN   \n",
       "\n",
       "   STK_6_score  STK_8_score  VTE_1_score  VTE_2_score  VTE_3_score  \\\n",
       "0     0.446005    -0.570074     0.333841     0.381176    -0.277730   \n",
       "1    -0.915528     0.618334     0.178342    -0.450362     0.819555   \n",
       "2     0.198454    -0.295826     0.411590    -1.281900    -0.887332   \n",
       "3    -3.019716          NaN     0.333841     0.381176          NaN   \n",
       "4          NaN          NaN     0.489340          NaN          NaN   \n",
       "\n",
       "   VTE_5_score  VTE_6_score  Hospital overall rating  \n",
       "0    -0.253670     0.416331                      3.0  \n",
       "1     0.635329          NaN                      3.0  \n",
       "2    -0.075870     0.416331                      2.0  \n",
       "3          NaN          NaN                      3.0  \n",
       "4          NaN          NaN                      3.0  \n",
       "\n",
       "[5 rows x 73 columns]"
      ]
     },
     "execution_count": 99,
     "metadata": {},
     "output_type": "execute_result"
    }
   ],
   "source": [
    "master_data = pd.merge(master_data_x, master_data_y, on= \"Provider ID\")\n",
    "master_data.head()\n"
   ]
  },
  {
   "cell_type": "code",
   "execution_count": 100,
   "metadata": {
    "pycharm": {
     "name": "#%%\n"
    }
   },
   "outputs": [
    {
     "data": {
      "text/html": [
       "<div>\n",
       "<style scoped>\n",
       "    .dataframe tbody tr th:only-of-type {\n",
       "        vertical-align: middle;\n",
       "    }\n",
       "\n",
       "    .dataframe tbody tr th {\n",
       "        vertical-align: top;\n",
       "    }\n",
       "\n",
       "    .dataframe thead th {\n",
       "        text-align: right;\n",
       "    }\n",
       "</style>\n",
       "<table border=\"1\" class=\"dataframe\">\n",
       "  <thead>\n",
       "    <tr style=\"text-align: right;\">\n",
       "      <th></th>\n",
       "      <th>Hospital Name</th>\n",
       "      <th>Address</th>\n",
       "      <th>City</th>\n",
       "      <th>State</th>\n",
       "      <th>ZIP Code</th>\n",
       "      <th>County Name</th>\n",
       "      <th>Phone Number</th>\n",
       "      <th>READM_30_AMI_score</th>\n",
       "      <th>READM_30_CABG_score</th>\n",
       "      <th>READM_30_COPD_score</th>\n",
       "      <th>...</th>\n",
       "      <th>STK_4_score</th>\n",
       "      <th>STK_5_score</th>\n",
       "      <th>STK_6_score</th>\n",
       "      <th>STK_8_score</th>\n",
       "      <th>VTE_1_score</th>\n",
       "      <th>VTE_2_score</th>\n",
       "      <th>VTE_3_score</th>\n",
       "      <th>VTE_5_score</th>\n",
       "      <th>VTE_6_score</th>\n",
       "      <th>Hospital overall rating</th>\n",
       "    </tr>\n",
       "  </thead>\n",
       "  <tbody>\n",
       "    <tr>\n",
       "      <th>0</th>\n",
       "      <td>SOUTHEAST ALABAMA MEDICAL CENTER</td>\n",
       "      <td>1108 ROSS CLARK CIRCLE</td>\n",
       "      <td>DOTHAN</td>\n",
       "      <td>AL</td>\n",
       "      <td>36301</td>\n",
       "      <td>HOUSTON</td>\n",
       "      <td>3347938701</td>\n",
       "      <td>0.408730</td>\n",
       "      <td>-0.615156</td>\n",
       "      <td>-0.866907</td>\n",
       "      <td>...</td>\n",
       "      <td>-1.228236</td>\n",
       "      <td>-0.024906</td>\n",
       "      <td>0.446005</td>\n",
       "      <td>-0.570074</td>\n",
       "      <td>0.333841</td>\n",
       "      <td>0.381176</td>\n",
       "      <td>-0.277730</td>\n",
       "      <td>-0.253670</td>\n",
       "      <td>0.416331</td>\n",
       "      <td>3.0</td>\n",
       "    </tr>\n",
       "    <tr>\n",
       "      <th>1</th>\n",
       "      <td>MARSHALL MEDICAL CENTER SOUTH</td>\n",
       "      <td>2505 U S HIGHWAY 431 NORTH</td>\n",
       "      <td>BOAZ</td>\n",
       "      <td>AL</td>\n",
       "      <td>35957</td>\n",
       "      <td>MARSHALL</td>\n",
       "      <td>2565938310</td>\n",
       "      <td>0.199974</td>\n",
       "      <td>NaN</td>\n",
       "      <td>1.574551</td>\n",
       "      <td>...</td>\n",
       "      <td>NaN</td>\n",
       "      <td>0.193305</td>\n",
       "      <td>-0.915528</td>\n",
       "      <td>0.618334</td>\n",
       "      <td>0.178342</td>\n",
       "      <td>-0.450362</td>\n",
       "      <td>0.819555</td>\n",
       "      <td>0.635329</td>\n",
       "      <td>NaN</td>\n",
       "      <td>3.0</td>\n",
       "    </tr>\n",
       "    <tr>\n",
       "      <th>2</th>\n",
       "      <td>ELIZA COFFEE MEMORIAL HOSPITAL</td>\n",
       "      <td>205 MARENGO STREET</td>\n",
       "      <td>FLORENCE</td>\n",
       "      <td>AL</td>\n",
       "      <td>35631</td>\n",
       "      <td>LAUDERDALE</td>\n",
       "      <td>2567688400</td>\n",
       "      <td>0.826243</td>\n",
       "      <td>-0.703937</td>\n",
       "      <td>0.156930</td>\n",
       "      <td>...</td>\n",
       "      <td>NaN</td>\n",
       "      <td>0.193305</td>\n",
       "      <td>0.198454</td>\n",
       "      <td>-0.295826</td>\n",
       "      <td>0.411590</td>\n",
       "      <td>-1.281900</td>\n",
       "      <td>-0.887332</td>\n",
       "      <td>-0.075870</td>\n",
       "      <td>0.416331</td>\n",
       "      <td>2.0</td>\n",
       "    </tr>\n",
       "    <tr>\n",
       "      <th>3</th>\n",
       "      <td>MIZELL MEMORIAL HOSPITAL</td>\n",
       "      <td>702 N MAIN ST</td>\n",
       "      <td>OPP</td>\n",
       "      <td>AL</td>\n",
       "      <td>36467</td>\n",
       "      <td>COVINGTON</td>\n",
       "      <td>3344933541</td>\n",
       "      <td>NaN</td>\n",
       "      <td>NaN</td>\n",
       "      <td>0.078174</td>\n",
       "      <td>...</td>\n",
       "      <td>NaN</td>\n",
       "      <td>0.411517</td>\n",
       "      <td>-3.019716</td>\n",
       "      <td>NaN</td>\n",
       "      <td>0.333841</td>\n",
       "      <td>0.381176</td>\n",
       "      <td>NaN</td>\n",
       "      <td>NaN</td>\n",
       "      <td>NaN</td>\n",
       "      <td>3.0</td>\n",
       "    </tr>\n",
       "    <tr>\n",
       "      <th>4</th>\n",
       "      <td>CRENSHAW COMMUNITY HOSPITAL</td>\n",
       "      <td>101 HOSPITAL CIRCLE</td>\n",
       "      <td>LUVERNE</td>\n",
       "      <td>AL</td>\n",
       "      <td>36049</td>\n",
       "      <td>CRENSHAW</td>\n",
       "      <td>3343353374</td>\n",
       "      <td>NaN</td>\n",
       "      <td>NaN</td>\n",
       "      <td>0.629471</td>\n",
       "      <td>...</td>\n",
       "      <td>NaN</td>\n",
       "      <td>NaN</td>\n",
       "      <td>NaN</td>\n",
       "      <td>NaN</td>\n",
       "      <td>0.489340</td>\n",
       "      <td>NaN</td>\n",
       "      <td>NaN</td>\n",
       "      <td>NaN</td>\n",
       "      <td>NaN</td>\n",
       "      <td>3.0</td>\n",
       "    </tr>\n",
       "  </tbody>\n",
       "</table>\n",
       "<p>5 rows × 73 columns</p>\n",
       "</div>"
      ],
      "text/plain": [
       "                      Hospital Name                     Address      City  \\\n",
       "0  SOUTHEAST ALABAMA MEDICAL CENTER      1108 ROSS CLARK CIRCLE    DOTHAN   \n",
       "1     MARSHALL MEDICAL CENTER SOUTH  2505 U S HIGHWAY 431 NORTH      BOAZ   \n",
       "2    ELIZA COFFEE MEMORIAL HOSPITAL          205 MARENGO STREET  FLORENCE   \n",
       "3          MIZELL MEMORIAL HOSPITAL               702 N MAIN ST       OPP   \n",
       "4       CRENSHAW COMMUNITY HOSPITAL         101 HOSPITAL CIRCLE   LUVERNE   \n",
       "\n",
       "  State  ZIP Code County Name  Phone Number  READM_30_AMI_score  \\\n",
       "0    AL     36301     HOUSTON    3347938701            0.408730   \n",
       "1    AL     35957    MARSHALL    2565938310            0.199974   \n",
       "2    AL     35631  LAUDERDALE    2567688400            0.826243   \n",
       "3    AL     36467   COVINGTON    3344933541                 NaN   \n",
       "4    AL     36049    CRENSHAW    3343353374                 NaN   \n",
       "\n",
       "   READM_30_CABG_score  READM_30_COPD_score  ...  STK_4_score  STK_5_score  \\\n",
       "0            -0.615156            -0.866907  ...    -1.228236    -0.024906   \n",
       "1                  NaN             1.574551  ...          NaN     0.193305   \n",
       "2            -0.703937             0.156930  ...          NaN     0.193305   \n",
       "3                  NaN             0.078174  ...          NaN     0.411517   \n",
       "4                  NaN             0.629471  ...          NaN          NaN   \n",
       "\n",
       "   STK_6_score  STK_8_score  VTE_1_score  VTE_2_score  VTE_3_score  \\\n",
       "0     0.446005    -0.570074     0.333841     0.381176    -0.277730   \n",
       "1    -0.915528     0.618334     0.178342    -0.450362     0.819555   \n",
       "2     0.198454    -0.295826     0.411590    -1.281900    -0.887332   \n",
       "3    -3.019716          NaN     0.333841     0.381176          NaN   \n",
       "4          NaN          NaN     0.489340          NaN          NaN   \n",
       "\n",
       "   VTE_5_score  VTE_6_score  Hospital overall rating  \n",
       "0    -0.253670     0.416331                      3.0  \n",
       "1     0.635329          NaN                      3.0  \n",
       "2    -0.075870     0.416331                      2.0  \n",
       "3          NaN          NaN                      3.0  \n",
       "4          NaN          NaN                      3.0  \n",
       "\n",
       "[5 rows x 73 columns]"
      ]
     },
     "execution_count": 100,
     "metadata": {},
     "output_type": "execute_result"
    }
   ],
   "source": [
    "master_data_without_na = master_data[master_data['Hospital overall rating'].notnull()]\n",
    "master_data_without_na.head()\n"
   ]
  },
  {
   "cell_type": "code",
   "execution_count": 101,
   "metadata": {},
   "outputs": [
    {
     "data": {
      "text/html": [
       "<div>\n",
       "<style scoped>\n",
       "    .dataframe tbody tr th:only-of-type {\n",
       "        vertical-align: middle;\n",
       "    }\n",
       "\n",
       "    .dataframe tbody tr th {\n",
       "        vertical-align: top;\n",
       "    }\n",
       "\n",
       "    .dataframe thead th {\n",
       "        text-align: right;\n",
       "    }\n",
       "</style>\n",
       "<table border=\"1\" class=\"dataframe\">\n",
       "  <thead>\n",
       "    <tr style=\"text-align: right;\">\n",
       "      <th></th>\n",
       "      <th>Hospital Name</th>\n",
       "      <th>Address</th>\n",
       "      <th>City</th>\n",
       "      <th>State</th>\n",
       "      <th>ZIP Code</th>\n",
       "      <th>County Name</th>\n",
       "      <th>Phone Number</th>\n",
       "      <th>READM_30_AMI_score</th>\n",
       "      <th>READM_30_CABG_score</th>\n",
       "      <th>READM_30_COPD_score</th>\n",
       "      <th>...</th>\n",
       "      <th>STK_4_score</th>\n",
       "      <th>STK_5_score</th>\n",
       "      <th>STK_6_score</th>\n",
       "      <th>STK_8_score</th>\n",
       "      <th>VTE_1_score</th>\n",
       "      <th>VTE_2_score</th>\n",
       "      <th>VTE_3_score</th>\n",
       "      <th>VTE_5_score</th>\n",
       "      <th>VTE_6_score</th>\n",
       "      <th>Hospital overall rating</th>\n",
       "    </tr>\n",
       "  </thead>\n",
       "  <tbody>\n",
       "    <tr>\n",
       "      <th>8</th>\n",
       "      <td>CALLAHAN EYE HOSPITAL</td>\n",
       "      <td>1720 UNIVERSITY BLVD</td>\n",
       "      <td>BIRMINGHAM</td>\n",
       "      <td>AL</td>\n",
       "      <td>35233</td>\n",
       "      <td>JEFFERSON</td>\n",
       "      <td>2053258100</td>\n",
       "      <td>NaN</td>\n",
       "      <td>NaN</td>\n",
       "      <td>NaN</td>\n",
       "      <td>...</td>\n",
       "      <td>NaN</td>\n",
       "      <td>NaN</td>\n",
       "      <td>NaN</td>\n",
       "      <td>NaN</td>\n",
       "      <td>-7.207848</td>\n",
       "      <td>NaN</td>\n",
       "      <td>NaN</td>\n",
       "      <td>NaN</td>\n",
       "      <td>NaN</td>\n",
       "      <td>NaN</td>\n",
       "    </tr>\n",
       "    <tr>\n",
       "      <th>32</th>\n",
       "      <td>BIBB MEDICAL CENTER</td>\n",
       "      <td>208 PIERSON AVE</td>\n",
       "      <td>CENTREVILLE</td>\n",
       "      <td>AL</td>\n",
       "      <td>35042</td>\n",
       "      <td>BIBB</td>\n",
       "      <td>2059264881</td>\n",
       "      <td>NaN</td>\n",
       "      <td>NaN</td>\n",
       "      <td>NaN</td>\n",
       "      <td>...</td>\n",
       "      <td>NaN</td>\n",
       "      <td>NaN</td>\n",
       "      <td>NaN</td>\n",
       "      <td>NaN</td>\n",
       "      <td>-0.987898</td>\n",
       "      <td>NaN</td>\n",
       "      <td>NaN</td>\n",
       "      <td>NaN</td>\n",
       "      <td>NaN</td>\n",
       "      <td>NaN</td>\n",
       "    </tr>\n",
       "    <tr>\n",
       "      <th>49</th>\n",
       "      <td>HALE COUNTY HOSPITAL</td>\n",
       "      <td>508 GREEN STREET</td>\n",
       "      <td>GREENSBORO</td>\n",
       "      <td>AL</td>\n",
       "      <td>36744</td>\n",
       "      <td>HALE</td>\n",
       "      <td>3346243024</td>\n",
       "      <td>NaN</td>\n",
       "      <td>NaN</td>\n",
       "      <td>NaN</td>\n",
       "      <td>...</td>\n",
       "      <td>NaN</td>\n",
       "      <td>NaN</td>\n",
       "      <td>NaN</td>\n",
       "      <td>NaN</td>\n",
       "      <td>-0.910149</td>\n",
       "      <td>NaN</td>\n",
       "      <td>NaN</td>\n",
       "      <td>NaN</td>\n",
       "      <td>NaN</td>\n",
       "      <td>NaN</td>\n",
       "    </tr>\n",
       "    <tr>\n",
       "      <th>54</th>\n",
       "      <td>J PAUL JONES HOSPITAL</td>\n",
       "      <td>317 MCWILLIAMS AVENUE</td>\n",
       "      <td>CAMDEN</td>\n",
       "      <td>AL</td>\n",
       "      <td>36726</td>\n",
       "      <td>WILCOX</td>\n",
       "      <td>3346824131</td>\n",
       "      <td>NaN</td>\n",
       "      <td>NaN</td>\n",
       "      <td>NaN</td>\n",
       "      <td>...</td>\n",
       "      <td>NaN</td>\n",
       "      <td>NaN</td>\n",
       "      <td>NaN</td>\n",
       "      <td>NaN</td>\n",
       "      <td>-5.730610</td>\n",
       "      <td>NaN</td>\n",
       "      <td>NaN</td>\n",
       "      <td>NaN</td>\n",
       "      <td>NaN</td>\n",
       "      <td>NaN</td>\n",
       "    </tr>\n",
       "    <tr>\n",
       "      <th>71</th>\n",
       "      <td>HILL HOSPITAL OF SUMTER COUNTY</td>\n",
       "      <td>751 DERBY DRIVE</td>\n",
       "      <td>YORK</td>\n",
       "      <td>AL</td>\n",
       "      <td>36925</td>\n",
       "      <td>SUMTER</td>\n",
       "      <td>2053925263</td>\n",
       "      <td>NaN</td>\n",
       "      <td>NaN</td>\n",
       "      <td>NaN</td>\n",
       "      <td>...</td>\n",
       "      <td>NaN</td>\n",
       "      <td>NaN</td>\n",
       "      <td>NaN</td>\n",
       "      <td>NaN</td>\n",
       "      <td>-3.475878</td>\n",
       "      <td>NaN</td>\n",
       "      <td>NaN</td>\n",
       "      <td>NaN</td>\n",
       "      <td>NaN</td>\n",
       "      <td>NaN</td>\n",
       "    </tr>\n",
       "  </tbody>\n",
       "</table>\n",
       "<p>5 rows × 73 columns</p>\n",
       "</div>"
      ],
      "text/plain": [
       "                     Hospital Name                Address         City State  \\\n",
       "8            CALLAHAN EYE HOSPITAL   1720 UNIVERSITY BLVD   BIRMINGHAM    AL   \n",
       "32             BIBB MEDICAL CENTER        208 PIERSON AVE  CENTREVILLE    AL   \n",
       "49            HALE COUNTY HOSPITAL       508 GREEN STREET   GREENSBORO    AL   \n",
       "54           J PAUL JONES HOSPITAL  317 MCWILLIAMS AVENUE       CAMDEN    AL   \n",
       "71  HILL HOSPITAL OF SUMTER COUNTY        751 DERBY DRIVE         YORK    AL   \n",
       "\n",
       "    ZIP Code County Name  Phone Number  READM_30_AMI_score  \\\n",
       "8      35233   JEFFERSON    2053258100                 NaN   \n",
       "32     35042        BIBB    2059264881                 NaN   \n",
       "49     36744        HALE    3346243024                 NaN   \n",
       "54     36726      WILCOX    3346824131                 NaN   \n",
       "71     36925      SUMTER    2053925263                 NaN   \n",
       "\n",
       "    READM_30_CABG_score  READM_30_COPD_score  ...  STK_4_score  STK_5_score  \\\n",
       "8                   NaN                  NaN  ...          NaN          NaN   \n",
       "32                  NaN                  NaN  ...          NaN          NaN   \n",
       "49                  NaN                  NaN  ...          NaN          NaN   \n",
       "54                  NaN                  NaN  ...          NaN          NaN   \n",
       "71                  NaN                  NaN  ...          NaN          NaN   \n",
       "\n",
       "    STK_6_score  STK_8_score  VTE_1_score  VTE_2_score  VTE_3_score  \\\n",
       "8           NaN          NaN    -7.207848          NaN          NaN   \n",
       "32          NaN          NaN    -0.987898          NaN          NaN   \n",
       "49          NaN          NaN    -0.910149          NaN          NaN   \n",
       "54          NaN          NaN    -5.730610          NaN          NaN   \n",
       "71          NaN          NaN    -3.475878          NaN          NaN   \n",
       "\n",
       "    VTE_5_score  VTE_6_score  Hospital overall rating  \n",
       "8           NaN          NaN                      NaN  \n",
       "32          NaN          NaN                      NaN  \n",
       "49          NaN          NaN                      NaN  \n",
       "54          NaN          NaN                      NaN  \n",
       "71          NaN          NaN                      NaN  \n",
       "\n",
       "[5 rows x 73 columns]"
      ]
     },
     "execution_count": 101,
     "metadata": {},
     "output_type": "execute_result"
    }
   ],
   "source": [
    "master_data_with_na = master_data[~master_data['Hospital overall rating'].notnull()]\n",
    "master_data_with_na.head()\n"
   ]
  },
  {
   "cell_type": "code",
   "execution_count": 102,
   "metadata": {},
   "outputs": [
    {
     "data": {
      "text/plain": [
       "65783"
      ]
     },
     "execution_count": 102,
     "metadata": {},
     "output_type": "execute_result"
    }
   ],
   "source": [
    "np.sum(master_data_without_na.isnull().sum().to_list())\n"
   ]
  },
  {
   "cell_type": "code",
   "execution_count": 103,
   "metadata": {
    "pycharm": {
     "is_executing": false,
     "name": "#%%\n"
    }
   },
   "outputs": [
    {
     "data": {
      "text/plain": [
       "['Hospital Name',\n",
       " 'Address',\n",
       " 'City',\n",
       " 'State',\n",
       " 'ZIP Code',\n",
       " 'County Name',\n",
       " 'Phone Number',\n",
       " 'READM_30_AMI_score',\n",
       " 'READM_30_COPD_score',\n",
       " 'READM_30_HF_score',\n",
       " 'READM_30_HIP_KNEE_score',\n",
       " 'READM_30_HOSP_WIDE_score',\n",
       " 'READM_30_PN_score',\n",
       " 'READM_30_STK_score',\n",
       " 'MORT_30_AMI_score',\n",
       " 'MORT_30_COPD_score',\n",
       " 'MORT_30_HF_score',\n",
       " 'MORT_30_PN_score',\n",
       " 'MORT_30_STK_score',\n",
       " 'COMP_HIP_KNEE_score',\n",
       " 'HAI_1_SIR_score',\n",
       " 'HAI_2_SIR_score',\n",
       " 'HAI_3_SIR_score',\n",
       " 'HAI_6_SIR_score',\n",
       " 'PSI_90_SAFETY_score',\n",
       " 'H_CLEAN_LINEAR_SCORE_score',\n",
       " 'H_COMP_1_LINEAR_SCORE_score',\n",
       " 'H_COMP_2_LINEAR_SCORE_score',\n",
       " 'H_COMP_3_LINEAR_SCORE_score',\n",
       " 'H_COMP_4_LINEAR_SCORE_score',\n",
       " 'H_COMP_5_LINEAR_SCORE_score',\n",
       " 'H_COMP_6_LINEAR_SCORE_score',\n",
       " 'H_COMP_7_LINEAR_SCORE_score',\n",
       " 'H_HSP_RATING_LINEAR_SCORE_score',\n",
       " 'H_QUIET_LINEAR_SCORE_score',\n",
       " 'H_RECMND_LINEAR_SCORE_score',\n",
       " 'OP_10_score',\n",
       " 'OP_11_score',\n",
       " 'OP_13_score',\n",
       " 'OP_14_score',\n",
       " 'Provider ID',\n",
       " 'ED_1b_score',\n",
       " 'ED_2b_score',\n",
       " 'OP_18b_score',\n",
       " 'OP_20_score',\n",
       " 'OP_21_score',\n",
       " 'OP_5_score',\n",
       " 'IMM_2_score',\n",
       " 'IMM_3_OP_27_FAC_ADHPCT_score',\n",
       " 'OP_22_score',\n",
       " 'OP_29_score',\n",
       " 'OP_30_score',\n",
       " 'OP_4_score',\n",
       " 'PC_01_score',\n",
       " 'STK_6_score',\n",
       " 'STK_8_score',\n",
       " 'VTE_1_score',\n",
       " 'VTE_2_score',\n",
       " 'VTE_3_score',\n",
       " 'VTE_5_score',\n",
       " 'Hospital overall rating']"
      ]
     },
     "execution_count": 103,
     "metadata": {},
     "output_type": "execute_result"
    }
   ],
   "source": [
    "columns_with_missing_data = round(100 * (master_data_without_na.isnull().sum() / len(master_data_without_na.index)), 2)\n",
    "\n",
    "\n",
    "# Remove all columns having more than 50% NA in the dataset .. which are not going to yield any outcome\n",
    "# which is close to 1824 NA values in any x measure.. will remove the measure\n",
    "## The following measures having >50% of its data as NA\n",
    "## READM_30_CABG - 2623 | PSI_4_SURG_COMP - 1831 | HAI_4_SIR - 2804 | HAI_5_SIR - 1860 | OP_3b - 3267 |\n",
    "## STK_4 - 2762 | STK_5 - 2133 | VTE_6 - 2417\n",
    "\n",
    "output = columns_with_missing_data[columns_with_missing_data < 50]\n",
    "output = list(output.to_dict().keys())\n",
    "output\n",
    "\n"
   ]
  },
  {
   "cell_type": "code",
   "execution_count": 104,
   "metadata": {},
   "outputs": [
    {
     "data": {
      "text/html": [
       "<div>\n",
       "<style scoped>\n",
       "    .dataframe tbody tr th:only-of-type {\n",
       "        vertical-align: middle;\n",
       "    }\n",
       "\n",
       "    .dataframe tbody tr th {\n",
       "        vertical-align: top;\n",
       "    }\n",
       "\n",
       "    .dataframe thead th {\n",
       "        text-align: right;\n",
       "    }\n",
       "</style>\n",
       "<table border=\"1\" class=\"dataframe\">\n",
       "  <thead>\n",
       "    <tr style=\"text-align: right;\">\n",
       "      <th></th>\n",
       "      <th>Hospital Name</th>\n",
       "      <th>Address</th>\n",
       "      <th>City</th>\n",
       "      <th>State</th>\n",
       "      <th>ZIP Code</th>\n",
       "      <th>County Name</th>\n",
       "      <th>Phone Number</th>\n",
       "      <th>READM_30_AMI_score</th>\n",
       "      <th>READM_30_COPD_score</th>\n",
       "      <th>READM_30_HF_score</th>\n",
       "      <th>...</th>\n",
       "      <th>OP_30_score</th>\n",
       "      <th>OP_4_score</th>\n",
       "      <th>PC_01_score</th>\n",
       "      <th>STK_6_score</th>\n",
       "      <th>STK_8_score</th>\n",
       "      <th>VTE_1_score</th>\n",
       "      <th>VTE_2_score</th>\n",
       "      <th>VTE_3_score</th>\n",
       "      <th>VTE_5_score</th>\n",
       "      <th>Hospital overall rating</th>\n",
       "    </tr>\n",
       "  </thead>\n",
       "  <tbody>\n",
       "    <tr>\n",
       "      <th>0</th>\n",
       "      <td>SOUTHEAST ALABAMA MEDICAL CENTER</td>\n",
       "      <td>1108 ROSS CLARK CIRCLE</td>\n",
       "      <td>DOTHAN</td>\n",
       "      <td>AL</td>\n",
       "      <td>36301</td>\n",
       "      <td>HOUSTON</td>\n",
       "      <td>3347938701</td>\n",
       "      <td>0.408730</td>\n",
       "      <td>-0.866907</td>\n",
       "      <td>0.370423</td>\n",
       "      <td>...</td>\n",
       "      <td>0.071075</td>\n",
       "      <td>NaN</td>\n",
       "      <td>0.538880</td>\n",
       "      <td>0.446005</td>\n",
       "      <td>-0.570074</td>\n",
       "      <td>0.333841</td>\n",
       "      <td>0.381176</td>\n",
       "      <td>-0.277730</td>\n",
       "      <td>-0.253670</td>\n",
       "      <td>3.0</td>\n",
       "    </tr>\n",
       "    <tr>\n",
       "      <th>1</th>\n",
       "      <td>MARSHALL MEDICAL CENTER SOUTH</td>\n",
       "      <td>2505 U S HIGHWAY 431 NORTH</td>\n",
       "      <td>BOAZ</td>\n",
       "      <td>AL</td>\n",
       "      <td>35957</td>\n",
       "      <td>MARSHALL</td>\n",
       "      <td>2565938310</td>\n",
       "      <td>0.199974</td>\n",
       "      <td>1.574551</td>\n",
       "      <td>0.036453</td>\n",
       "      <td>...</td>\n",
       "      <td>0.500302</td>\n",
       "      <td>0.545870</td>\n",
       "      <td>0.324044</td>\n",
       "      <td>-0.915528</td>\n",
       "      <td>0.618334</td>\n",
       "      <td>0.178342</td>\n",
       "      <td>-0.450362</td>\n",
       "      <td>0.819555</td>\n",
       "      <td>0.635329</td>\n",
       "      <td>3.0</td>\n",
       "    </tr>\n",
       "    <tr>\n",
       "      <th>2</th>\n",
       "      <td>ELIZA COFFEE MEMORIAL HOSPITAL</td>\n",
       "      <td>205 MARENGO STREET</td>\n",
       "      <td>FLORENCE</td>\n",
       "      <td>AL</td>\n",
       "      <td>35631</td>\n",
       "      <td>LAUDERDALE</td>\n",
       "      <td>2567688400</td>\n",
       "      <td>0.826243</td>\n",
       "      <td>0.156930</td>\n",
       "      <td>0.904776</td>\n",
       "      <td>...</td>\n",
       "      <td>0.328611</td>\n",
       "      <td>NaN</td>\n",
       "      <td>0.538880</td>\n",
       "      <td>0.198454</td>\n",
       "      <td>-0.295826</td>\n",
       "      <td>0.411590</td>\n",
       "      <td>-1.281900</td>\n",
       "      <td>-0.887332</td>\n",
       "      <td>-0.075870</td>\n",
       "      <td>2.0</td>\n",
       "    </tr>\n",
       "    <tr>\n",
       "      <th>3</th>\n",
       "      <td>MIZELL MEMORIAL HOSPITAL</td>\n",
       "      <td>702 N MAIN ST</td>\n",
       "      <td>OPP</td>\n",
       "      <td>AL</td>\n",
       "      <td>36467</td>\n",
       "      <td>COVINGTON</td>\n",
       "      <td>3344933541</td>\n",
       "      <td>NaN</td>\n",
       "      <td>0.078174</td>\n",
       "      <td>0.570805</td>\n",
       "      <td>...</td>\n",
       "      <td>-3.448585</td>\n",
       "      <td>-1.232556</td>\n",
       "      <td>NaN</td>\n",
       "      <td>-3.019716</td>\n",
       "      <td>NaN</td>\n",
       "      <td>0.333841</td>\n",
       "      <td>0.381176</td>\n",
       "      <td>NaN</td>\n",
       "      <td>NaN</td>\n",
       "      <td>3.0</td>\n",
       "    </tr>\n",
       "    <tr>\n",
       "      <th>4</th>\n",
       "      <td>CRENSHAW COMMUNITY HOSPITAL</td>\n",
       "      <td>101 HOSPITAL CIRCLE</td>\n",
       "      <td>LUVERNE</td>\n",
       "      <td>AL</td>\n",
       "      <td>36049</td>\n",
       "      <td>CRENSHAW</td>\n",
       "      <td>3343353374</td>\n",
       "      <td>NaN</td>\n",
       "      <td>0.629471</td>\n",
       "      <td>-0.765075</td>\n",
       "      <td>...</td>\n",
       "      <td>0.714915</td>\n",
       "      <td>NaN</td>\n",
       "      <td>NaN</td>\n",
       "      <td>NaN</td>\n",
       "      <td>NaN</td>\n",
       "      <td>0.489340</td>\n",
       "      <td>NaN</td>\n",
       "      <td>NaN</td>\n",
       "      <td>NaN</td>\n",
       "      <td>3.0</td>\n",
       "    </tr>\n",
       "  </tbody>\n",
       "</table>\n",
       "<p>5 rows × 61 columns</p>\n",
       "</div>"
      ],
      "text/plain": [
       "                      Hospital Name                     Address      City  \\\n",
       "0  SOUTHEAST ALABAMA MEDICAL CENTER      1108 ROSS CLARK CIRCLE    DOTHAN   \n",
       "1     MARSHALL MEDICAL CENTER SOUTH  2505 U S HIGHWAY 431 NORTH      BOAZ   \n",
       "2    ELIZA COFFEE MEMORIAL HOSPITAL          205 MARENGO STREET  FLORENCE   \n",
       "3          MIZELL MEMORIAL HOSPITAL               702 N MAIN ST       OPP   \n",
       "4       CRENSHAW COMMUNITY HOSPITAL         101 HOSPITAL CIRCLE   LUVERNE   \n",
       "\n",
       "  State  ZIP Code County Name  Phone Number  READM_30_AMI_score  \\\n",
       "0    AL     36301     HOUSTON    3347938701            0.408730   \n",
       "1    AL     35957    MARSHALL    2565938310            0.199974   \n",
       "2    AL     35631  LAUDERDALE    2567688400            0.826243   \n",
       "3    AL     36467   COVINGTON    3344933541                 NaN   \n",
       "4    AL     36049    CRENSHAW    3343353374                 NaN   \n",
       "\n",
       "   READM_30_COPD_score  READM_30_HF_score  ...  OP_30_score  OP_4_score  \\\n",
       "0            -0.866907           0.370423  ...     0.071075         NaN   \n",
       "1             1.574551           0.036453  ...     0.500302    0.545870   \n",
       "2             0.156930           0.904776  ...     0.328611         NaN   \n",
       "3             0.078174           0.570805  ...    -3.448585   -1.232556   \n",
       "4             0.629471          -0.765075  ...     0.714915         NaN   \n",
       "\n",
       "   PC_01_score  STK_6_score  STK_8_score  VTE_1_score  VTE_2_score  \\\n",
       "0     0.538880     0.446005    -0.570074     0.333841     0.381176   \n",
       "1     0.324044    -0.915528     0.618334     0.178342    -0.450362   \n",
       "2     0.538880     0.198454    -0.295826     0.411590    -1.281900   \n",
       "3          NaN    -3.019716          NaN     0.333841     0.381176   \n",
       "4          NaN          NaN          NaN     0.489340          NaN   \n",
       "\n",
       "   VTE_3_score  VTE_5_score  Hospital overall rating  \n",
       "0    -0.277730    -0.253670                      3.0  \n",
       "1     0.819555     0.635329                      3.0  \n",
       "2    -0.887332    -0.075870                      2.0  \n",
       "3          NaN          NaN                      3.0  \n",
       "4          NaN          NaN                      3.0  \n",
       "\n",
       "[5 rows x 61 columns]"
      ]
     },
     "execution_count": 104,
     "metadata": {},
     "output_type": "execute_result"
    }
   ],
   "source": [
    "master_data_without_na = master_data_without_na[output]\n",
    "master_data_without_na.head()"
   ]
  },
  {
   "cell_type": "code",
   "execution_count": 105,
   "metadata": {
    "pycharm": {
     "is_executing": false,
     "name": "#%%\n"
    }
   },
   "outputs": [
    {
     "data": {
      "text/plain": [
       "Hospital Name                 0\n",
       "Address                       0\n",
       "City                          0\n",
       "State                         0\n",
       "ZIP Code                      0\n",
       "                           ... \n",
       "VTE_1_score                 327\n",
       "VTE_2_score                 780\n",
       "VTE_3_score                1212\n",
       "VTE_5_score                1461\n",
       "Hospital overall rating       0\n",
       "Length: 61, dtype: int64"
      ]
     },
     "execution_count": 105,
     "metadata": {},
     "output_type": "execute_result"
    }
   ],
   "source": [
    "master_data_without_na.isnull().sum()\n"
   ]
  },
  {
   "cell_type": "code",
   "execution_count": 106,
   "metadata": {
    "pycharm": {
     "name": "#%%\n"
    }
   },
   "outputs": [
    {
     "data": {
      "text/html": [
       "<div>\n",
       "<style scoped>\n",
       "    .dataframe tbody tr th:only-of-type {\n",
       "        vertical-align: middle;\n",
       "    }\n",
       "\n",
       "    .dataframe tbody tr th {\n",
       "        vertical-align: top;\n",
       "    }\n",
       "\n",
       "    .dataframe thead th {\n",
       "        text-align: right;\n",
       "    }\n",
       "</style>\n",
       "<table border=\"1\" class=\"dataframe\">\n",
       "  <thead>\n",
       "    <tr style=\"text-align: right;\">\n",
       "      <th></th>\n",
       "      <th>Hospital Name</th>\n",
       "      <th>Address</th>\n",
       "      <th>City</th>\n",
       "      <th>State</th>\n",
       "      <th>ZIP Code</th>\n",
       "      <th>County Name</th>\n",
       "      <th>Phone Number</th>\n",
       "      <th>READM_30_AMI_score</th>\n",
       "      <th>READM_30_COPD_score</th>\n",
       "      <th>READM_30_HF_score</th>\n",
       "      <th>...</th>\n",
       "      <th>OP_30_score</th>\n",
       "      <th>OP_4_score</th>\n",
       "      <th>PC_01_score</th>\n",
       "      <th>STK_6_score</th>\n",
       "      <th>STK_8_score</th>\n",
       "      <th>VTE_1_score</th>\n",
       "      <th>VTE_2_score</th>\n",
       "      <th>VTE_3_score</th>\n",
       "      <th>VTE_5_score</th>\n",
       "      <th>Hospital overall rating</th>\n",
       "    </tr>\n",
       "  </thead>\n",
       "  <tbody>\n",
       "    <tr>\n",
       "      <th>0</th>\n",
       "      <td>SOUTHEAST ALABAMA MEDICAL CENTER</td>\n",
       "      <td>1108 ROSS CLARK CIRCLE</td>\n",
       "      <td>DOTHAN</td>\n",
       "      <td>AL</td>\n",
       "      <td>36301</td>\n",
       "      <td>HOUSTON</td>\n",
       "      <td>3347938701</td>\n",
       "      <td>0.408730</td>\n",
       "      <td>-0.866907</td>\n",
       "      <td>0.370423</td>\n",
       "      <td>...</td>\n",
       "      <td>0.071075</td>\n",
       "      <td>0.368028</td>\n",
       "      <td>0.538880</td>\n",
       "      <td>0.446005</td>\n",
       "      <td>-0.570074</td>\n",
       "      <td>0.333841</td>\n",
       "      <td>0.381176</td>\n",
       "      <td>-0.277730</td>\n",
       "      <td>-0.253670</td>\n",
       "      <td>3.0</td>\n",
       "    </tr>\n",
       "    <tr>\n",
       "      <th>1</th>\n",
       "      <td>MARSHALL MEDICAL CENTER SOUTH</td>\n",
       "      <td>2505 U S HIGHWAY 431 NORTH</td>\n",
       "      <td>BOAZ</td>\n",
       "      <td>AL</td>\n",
       "      <td>35957</td>\n",
       "      <td>MARSHALL</td>\n",
       "      <td>2565938310</td>\n",
       "      <td>0.199974</td>\n",
       "      <td>1.574551</td>\n",
       "      <td>0.036453</td>\n",
       "      <td>...</td>\n",
       "      <td>0.500302</td>\n",
       "      <td>0.545870</td>\n",
       "      <td>0.324044</td>\n",
       "      <td>-0.915528</td>\n",
       "      <td>0.618334</td>\n",
       "      <td>0.178342</td>\n",
       "      <td>-0.450362</td>\n",
       "      <td>0.819555</td>\n",
       "      <td>0.635329</td>\n",
       "      <td>3.0</td>\n",
       "    </tr>\n",
       "    <tr>\n",
       "      <th>2</th>\n",
       "      <td>ELIZA COFFEE MEMORIAL HOSPITAL</td>\n",
       "      <td>205 MARENGO STREET</td>\n",
       "      <td>FLORENCE</td>\n",
       "      <td>AL</td>\n",
       "      <td>35631</td>\n",
       "      <td>LAUDERDALE</td>\n",
       "      <td>2567688400</td>\n",
       "      <td>0.826243</td>\n",
       "      <td>0.156930</td>\n",
       "      <td>0.904776</td>\n",
       "      <td>...</td>\n",
       "      <td>0.328611</td>\n",
       "      <td>0.368028</td>\n",
       "      <td>0.538880</td>\n",
       "      <td>0.198454</td>\n",
       "      <td>-0.295826</td>\n",
       "      <td>0.411590</td>\n",
       "      <td>-1.281900</td>\n",
       "      <td>-0.887332</td>\n",
       "      <td>-0.075870</td>\n",
       "      <td>2.0</td>\n",
       "    </tr>\n",
       "    <tr>\n",
       "      <th>3</th>\n",
       "      <td>MIZELL MEMORIAL HOSPITAL</td>\n",
       "      <td>702 N MAIN ST</td>\n",
       "      <td>OPP</td>\n",
       "      <td>AL</td>\n",
       "      <td>36467</td>\n",
       "      <td>COVINGTON</td>\n",
       "      <td>3344933541</td>\n",
       "      <td>NaN</td>\n",
       "      <td>0.078174</td>\n",
       "      <td>0.570805</td>\n",
       "      <td>...</td>\n",
       "      <td>-3.448585</td>\n",
       "      <td>-1.232556</td>\n",
       "      <td>0.324044</td>\n",
       "      <td>-3.019716</td>\n",
       "      <td>0.344086</td>\n",
       "      <td>0.333841</td>\n",
       "      <td>0.381176</td>\n",
       "      <td>0.331873</td>\n",
       "      <td>0.457530</td>\n",
       "      <td>3.0</td>\n",
       "    </tr>\n",
       "    <tr>\n",
       "      <th>4</th>\n",
       "      <td>CRENSHAW COMMUNITY HOSPITAL</td>\n",
       "      <td>101 HOSPITAL CIRCLE</td>\n",
       "      <td>LUVERNE</td>\n",
       "      <td>AL</td>\n",
       "      <td>36049</td>\n",
       "      <td>CRENSHAW</td>\n",
       "      <td>3343353374</td>\n",
       "      <td>NaN</td>\n",
       "      <td>0.629471</td>\n",
       "      <td>-0.765075</td>\n",
       "      <td>...</td>\n",
       "      <td>0.714915</td>\n",
       "      <td>0.368028</td>\n",
       "      <td>0.324044</td>\n",
       "      <td>0.322230</td>\n",
       "      <td>0.344086</td>\n",
       "      <td>0.489340</td>\n",
       "      <td>0.381176</td>\n",
       "      <td>0.331873</td>\n",
       "      <td>0.457530</td>\n",
       "      <td>3.0</td>\n",
       "    </tr>\n",
       "  </tbody>\n",
       "</table>\n",
       "<p>5 rows × 61 columns</p>\n",
       "</div>"
      ],
      "text/plain": [
       "                      Hospital Name                     Address      City  \\\n",
       "0  SOUTHEAST ALABAMA MEDICAL CENTER      1108 ROSS CLARK CIRCLE    DOTHAN   \n",
       "1     MARSHALL MEDICAL CENTER SOUTH  2505 U S HIGHWAY 431 NORTH      BOAZ   \n",
       "2    ELIZA COFFEE MEMORIAL HOSPITAL          205 MARENGO STREET  FLORENCE   \n",
       "3          MIZELL MEMORIAL HOSPITAL               702 N MAIN ST       OPP   \n",
       "4       CRENSHAW COMMUNITY HOSPITAL         101 HOSPITAL CIRCLE   LUVERNE   \n",
       "\n",
       "  State  ZIP Code County Name  Phone Number  READM_30_AMI_score  \\\n",
       "0    AL     36301     HOUSTON    3347938701            0.408730   \n",
       "1    AL     35957    MARSHALL    2565938310            0.199974   \n",
       "2    AL     35631  LAUDERDALE    2567688400            0.826243   \n",
       "3    AL     36467   COVINGTON    3344933541                 NaN   \n",
       "4    AL     36049    CRENSHAW    3343353374                 NaN   \n",
       "\n",
       "   READM_30_COPD_score  READM_30_HF_score  ...  OP_30_score  OP_4_score  \\\n",
       "0            -0.866907           0.370423  ...     0.071075    0.368028   \n",
       "1             1.574551           0.036453  ...     0.500302    0.545870   \n",
       "2             0.156930           0.904776  ...     0.328611    0.368028   \n",
       "3             0.078174           0.570805  ...    -3.448585   -1.232556   \n",
       "4             0.629471          -0.765075  ...     0.714915    0.368028   \n",
       "\n",
       "   PC_01_score  STK_6_score  STK_8_score  VTE_1_score  VTE_2_score  \\\n",
       "0     0.538880     0.446005    -0.570074     0.333841     0.381176   \n",
       "1     0.324044    -0.915528     0.618334     0.178342    -0.450362   \n",
       "2     0.538880     0.198454    -0.295826     0.411590    -1.281900   \n",
       "3     0.324044    -3.019716     0.344086     0.333841     0.381176   \n",
       "4     0.324044     0.322230     0.344086     0.489340     0.381176   \n",
       "\n",
       "   VTE_3_score  VTE_5_score  Hospital overall rating  \n",
       "0    -0.277730    -0.253670                      3.0  \n",
       "1     0.819555     0.635329                      3.0  \n",
       "2    -0.887332    -0.075870                      2.0  \n",
       "3     0.331873     0.457530                      3.0  \n",
       "4     0.331873     0.457530                      3.0  \n",
       "\n",
       "[5 rows x 61 columns]"
      ]
     },
     "execution_count": 106,
     "metadata": {},
     "output_type": "execute_result"
    }
   ],
   "source": [
    "# Impute only relevant numerical columns\n",
    "master_data_without_na.iloc[ : , 8:] =  master_data_without_na.iloc[ : , 8:].apply(lambda x: x.fillna(x.median()), axis=0)\n",
    "\n",
    "master_data_without_na.head()\n",
    "\n"
   ]
  },
  {
   "cell_type": "code",
   "execution_count": 107,
   "metadata": {
    "pycharm": {
     "name": "#%%\n"
    }
   },
   "outputs": [
    {
     "data": {
      "text/html": [
       "<div>\n",
       "<style scoped>\n",
       "    .dataframe tbody tr th:only-of-type {\n",
       "        vertical-align: middle;\n",
       "    }\n",
       "\n",
       "    .dataframe tbody tr th {\n",
       "        vertical-align: top;\n",
       "    }\n",
       "\n",
       "    .dataframe thead th {\n",
       "        text-align: right;\n",
       "    }\n",
       "</style>\n",
       "<table border=\"1\" class=\"dataframe\">\n",
       "  <thead>\n",
       "    <tr style=\"text-align: right;\">\n",
       "      <th></th>\n",
       "      <th>Hospital Name</th>\n",
       "      <th>READM_30_COPD_score</th>\n",
       "      <th>READM_30_HF_score</th>\n",
       "      <th>READM_30_HIP_KNEE_score</th>\n",
       "      <th>READM_30_HOSP_WIDE_score</th>\n",
       "      <th>READM_30_PN_score</th>\n",
       "      <th>READM_30_STK_score</th>\n",
       "      <th>MORT_30_AMI_score</th>\n",
       "      <th>MORT_30_COPD_score</th>\n",
       "      <th>MORT_30_HF_score</th>\n",
       "      <th>...</th>\n",
       "      <th>OP_30_score</th>\n",
       "      <th>OP_4_score</th>\n",
       "      <th>PC_01_score</th>\n",
       "      <th>STK_6_score</th>\n",
       "      <th>STK_8_score</th>\n",
       "      <th>VTE_1_score</th>\n",
       "      <th>VTE_2_score</th>\n",
       "      <th>VTE_3_score</th>\n",
       "      <th>VTE_5_score</th>\n",
       "      <th>Hospital overall rating</th>\n",
       "    </tr>\n",
       "    <tr>\n",
       "      <th>Provider ID</th>\n",
       "      <th></th>\n",
       "      <th></th>\n",
       "      <th></th>\n",
       "      <th></th>\n",
       "      <th></th>\n",
       "      <th></th>\n",
       "      <th></th>\n",
       "      <th></th>\n",
       "      <th></th>\n",
       "      <th></th>\n",
       "      <th></th>\n",
       "      <th></th>\n",
       "      <th></th>\n",
       "      <th></th>\n",
       "      <th></th>\n",
       "      <th></th>\n",
       "      <th></th>\n",
       "      <th></th>\n",
       "      <th></th>\n",
       "      <th></th>\n",
       "      <th></th>\n",
       "    </tr>\n",
       "  </thead>\n",
       "  <tbody>\n",
       "    <tr>\n",
       "      <th>10001</th>\n",
       "      <td>SOUTHEAST ALABAMA MEDICAL CENTER</td>\n",
       "      <td>-0.866907</td>\n",
       "      <td>0.370423</td>\n",
       "      <td>-0.884170</td>\n",
       "      <td>0.215408</td>\n",
       "      <td>-1.105482</td>\n",
       "      <td>-0.124569</td>\n",
       "      <td>1.249515</td>\n",
       "      <td>-1.094132</td>\n",
       "      <td>-0.165556</td>\n",
       "      <td>...</td>\n",
       "      <td>0.071075</td>\n",
       "      <td>0.368028</td>\n",
       "      <td>0.538880</td>\n",
       "      <td>0.446005</td>\n",
       "      <td>-0.570074</td>\n",
       "      <td>0.333841</td>\n",
       "      <td>0.381176</td>\n",
       "      <td>-0.277730</td>\n",
       "      <td>-0.253670</td>\n",
       "      <td>0</td>\n",
       "    </tr>\n",
       "    <tr>\n",
       "      <th>10005</th>\n",
       "      <td>MARSHALL MEDICAL CENTER SOUTH</td>\n",
       "      <td>1.574551</td>\n",
       "      <td>0.036453</td>\n",
       "      <td>-1.968440</td>\n",
       "      <td>0.820649</td>\n",
       "      <td>0.495640</td>\n",
       "      <td>-0.777118</td>\n",
       "      <td>-1.546065</td>\n",
       "      <td>0.434008</td>\n",
       "      <td>-2.286446</td>\n",
       "      <td>...</td>\n",
       "      <td>0.500302</td>\n",
       "      <td>0.545870</td>\n",
       "      <td>0.324044</td>\n",
       "      <td>-0.915528</td>\n",
       "      <td>0.618334</td>\n",
       "      <td>0.178342</td>\n",
       "      <td>-0.450362</td>\n",
       "      <td>0.819555</td>\n",
       "      <td>0.635329</td>\n",
       "      <td>0</td>\n",
       "    </tr>\n",
       "    <tr>\n",
       "      <th>10006</th>\n",
       "      <td>ELIZA COFFEE MEMORIAL HOSPITAL</td>\n",
       "      <td>0.156930</td>\n",
       "      <td>0.904776</td>\n",
       "      <td>-0.703459</td>\n",
       "      <td>0.215408</td>\n",
       "      <td>-0.548570</td>\n",
       "      <td>0.527980</td>\n",
       "      <td>-2.105181</td>\n",
       "      <td>0.883461</td>\n",
       "      <td>-2.354862</td>\n",
       "      <td>...</td>\n",
       "      <td>0.328611</td>\n",
       "      <td>0.368028</td>\n",
       "      <td>0.538880</td>\n",
       "      <td>0.198454</td>\n",
       "      <td>-0.295826</td>\n",
       "      <td>0.411590</td>\n",
       "      <td>-1.281900</td>\n",
       "      <td>-0.887332</td>\n",
       "      <td>-0.075870</td>\n",
       "      <td>1</td>\n",
       "    </tr>\n",
       "    <tr>\n",
       "      <th>10007</th>\n",
       "      <td>MIZELL MEMORIAL HOSPITAL</td>\n",
       "      <td>0.078174</td>\n",
       "      <td>0.570805</td>\n",
       "      <td>0.019388</td>\n",
       "      <td>-1.237171</td>\n",
       "      <td>-0.130886</td>\n",
       "      <td>-0.124569</td>\n",
       "      <td>0.051410</td>\n",
       "      <td>-1.094132</td>\n",
       "      <td>-1.533872</td>\n",
       "      <td>...</td>\n",
       "      <td>-3.448585</td>\n",
       "      <td>-1.232556</td>\n",
       "      <td>0.324044</td>\n",
       "      <td>-3.019716</td>\n",
       "      <td>0.344086</td>\n",
       "      <td>0.333841</td>\n",
       "      <td>0.381176</td>\n",
       "      <td>0.331873</td>\n",
       "      <td>0.457530</td>\n",
       "      <td>0</td>\n",
       "    </tr>\n",
       "    <tr>\n",
       "      <th>10008</th>\n",
       "      <td>CRENSHAW COMMUNITY HOSPITAL</td>\n",
       "      <td>0.629471</td>\n",
       "      <td>-0.765075</td>\n",
       "      <td>0.019388</td>\n",
       "      <td>-0.147737</td>\n",
       "      <td>0.774096</td>\n",
       "      <td>0.061873</td>\n",
       "      <td>0.051410</td>\n",
       "      <td>-0.105335</td>\n",
       "      <td>-0.370803</td>\n",
       "      <td>...</td>\n",
       "      <td>0.714915</td>\n",
       "      <td>0.368028</td>\n",
       "      <td>0.324044</td>\n",
       "      <td>0.322230</td>\n",
       "      <td>0.344086</td>\n",
       "      <td>0.489340</td>\n",
       "      <td>0.381176</td>\n",
       "      <td>0.331873</td>\n",
       "      <td>0.457530</td>\n",
       "      <td>0</td>\n",
       "    </tr>\n",
       "  </tbody>\n",
       "</table>\n",
       "<p>5 rows × 53 columns</p>\n",
       "</div>"
      ],
      "text/plain": [
       "                                Hospital Name  READM_30_COPD_score  \\\n",
       "Provider ID                                                          \n",
       "10001        SOUTHEAST ALABAMA MEDICAL CENTER            -0.866907   \n",
       "10005           MARSHALL MEDICAL CENTER SOUTH             1.574551   \n",
       "10006          ELIZA COFFEE MEMORIAL HOSPITAL             0.156930   \n",
       "10007                MIZELL MEMORIAL HOSPITAL             0.078174   \n",
       "10008             CRENSHAW COMMUNITY HOSPITAL             0.629471   \n",
       "\n",
       "             READM_30_HF_score  READM_30_HIP_KNEE_score  \\\n",
       "Provider ID                                               \n",
       "10001                 0.370423                -0.884170   \n",
       "10005                 0.036453                -1.968440   \n",
       "10006                 0.904776                -0.703459   \n",
       "10007                 0.570805                 0.019388   \n",
       "10008                -0.765075                 0.019388   \n",
       "\n",
       "             READM_30_HOSP_WIDE_score  READM_30_PN_score  READM_30_STK_score  \\\n",
       "Provider ID                                                                    \n",
       "10001                        0.215408          -1.105482           -0.124569   \n",
       "10005                        0.820649           0.495640           -0.777118   \n",
       "10006                        0.215408          -0.548570            0.527980   \n",
       "10007                       -1.237171          -0.130886           -0.124569   \n",
       "10008                       -0.147737           0.774096            0.061873   \n",
       "\n",
       "             MORT_30_AMI_score  MORT_30_COPD_score  MORT_30_HF_score  ...  \\\n",
       "Provider ID                                                           ...   \n",
       "10001                 1.249515           -1.094132         -0.165556  ...   \n",
       "10005                -1.546065            0.434008         -2.286446  ...   \n",
       "10006                -2.105181            0.883461         -2.354862  ...   \n",
       "10007                 0.051410           -1.094132         -1.533872  ...   \n",
       "10008                 0.051410           -0.105335         -0.370803  ...   \n",
       "\n",
       "             OP_30_score  OP_4_score  PC_01_score  STK_6_score  STK_8_score  \\\n",
       "Provider ID                                                                   \n",
       "10001           0.071075    0.368028     0.538880     0.446005    -0.570074   \n",
       "10005           0.500302    0.545870     0.324044    -0.915528     0.618334   \n",
       "10006           0.328611    0.368028     0.538880     0.198454    -0.295826   \n",
       "10007          -3.448585   -1.232556     0.324044    -3.019716     0.344086   \n",
       "10008           0.714915    0.368028     0.324044     0.322230     0.344086   \n",
       "\n",
       "             VTE_1_score  VTE_2_score  VTE_3_score  VTE_5_score  \\\n",
       "Provider ID                                                       \n",
       "10001           0.333841     0.381176    -0.277730    -0.253670   \n",
       "10005           0.178342    -0.450362     0.819555     0.635329   \n",
       "10006           0.411590    -1.281900    -0.887332    -0.075870   \n",
       "10007           0.333841     0.381176     0.331873     0.457530   \n",
       "10008           0.489340     0.381176     0.331873     0.457530   \n",
       "\n",
       "             Hospital overall rating  \n",
       "Provider ID                           \n",
       "10001                              0  \n",
       "10005                              0  \n",
       "10006                              1  \n",
       "10007                              0  \n",
       "10008                              0  \n",
       "\n",
       "[5 rows x 53 columns]"
      ]
     },
     "execution_count": 107,
     "metadata": {},
     "output_type": "execute_result"
    }
   ],
   "source": [
    "master_data_without_na = master_data_without_na.drop(master_data_without_na.iloc[:, 1:8],  axis = 1)\n",
    "\n",
    "master_data_without_na['Hospital overall rating'], factors_hospital_overall_rating =  pd.factorize(master_data_without_na['Hospital overall rating'])\n",
    "\n",
    "cleaned_master_data = master_data_without_na.set_index('Provider ID')\n",
    "\n",
    "cleaned_master_data.to_csv(\"cleaned_master_data.csv\")\n",
    "\n",
    "cleaned_master_data.head()\n"
   ]
  },
  {
   "cell_type": "code",
   "execution_count": null,
   "metadata": {
    "pycharm": {
     "name": "#%%\n"
    }
   },
   "outputs": [],
   "source": []
  },
  {
   "cell_type": "code",
   "execution_count": null,
   "metadata": {
    "pycharm": {
     "name": "#%%\n"
    }
   },
   "outputs": [],
   "source": []
  },
  {
   "cell_type": "code",
   "execution_count": null,
   "metadata": {
    "pycharm": {
     "name": "#%%\n"
    }
   },
   "outputs": [],
   "source": []
  },
  {
   "cell_type": "code",
   "execution_count": null,
   "metadata": {
    "pycharm": {
     "name": "#%%\n"
    }
   },
   "outputs": [],
   "source": []
  },
  {
   "cell_type": "code",
   "execution_count": null,
   "metadata": {
    "pycharm": {
     "name": "#%%\n"
    }
   },
   "outputs": [],
   "source": []
  },
  {
   "cell_type": "code",
   "execution_count": null,
   "metadata": {
    "pycharm": {
     "name": "#%%\n"
    }
   },
   "outputs": [],
   "source": []
  },
  {
   "cell_type": "code",
   "execution_count": null,
   "metadata": {
    "pycharm": {
     "name": "#%%\n"
    }
   },
   "outputs": [],
   "source": []
  },
  {
   "cell_type": "code",
   "execution_count": null,
   "metadata": {
    "pycharm": {
     "name": "#%%\n"
    }
   },
   "outputs": [],
   "source": []
  },
  {
   "cell_type": "code",
   "execution_count": null,
   "metadata": {
    "pycharm": {
     "name": "#%%\n"
    }
   },
   "outputs": [],
   "source": []
  },
  {
   "cell_type": "code",
   "execution_count": null,
   "metadata": {
    "pycharm": {
     "name": "#%%\n"
    }
   },
   "outputs": [],
   "source": []
  },
  {
   "cell_type": "code",
   "execution_count": null,
   "metadata": {
    "pycharm": {
     "name": "#%%\n"
    }
   },
   "outputs": [],
   "source": []
  },
  {
   "cell_type": "code",
   "execution_count": null,
   "metadata": {
    "pycharm": {
     "name": "#%%\n"
    }
   },
   "outputs": [],
   "source": []
  },
  {
   "cell_type": "code",
   "execution_count": null,
   "metadata": {
    "pycharm": {
     "name": "#%%\n"
    }
   },
   "outputs": [],
   "source": []
  },
  {
   "cell_type": "code",
   "execution_count": null,
   "metadata": {
    "pycharm": {
     "name": "#%%\n"
    }
   },
   "outputs": [],
   "source": []
  },
  {
   "cell_type": "code",
   "execution_count": null,
   "metadata": {
    "pycharm": {
     "name": "#%%\n"
    }
   },
   "outputs": [],
   "source": []
  },
  {
   "cell_type": "code",
   "execution_count": null,
   "metadata": {
    "pycharm": {
     "name": "#%%\n"
    }
   },
   "outputs": [],
   "source": []
  },
  {
   "cell_type": "code",
   "execution_count": null,
   "metadata": {
    "pycharm": {
     "name": "#%%\n"
    }
   },
   "outputs": [],
   "source": []
  },
  {
   "cell_type": "code",
   "execution_count": null,
   "metadata": {
    "pycharm": {
     "name": "#%%\n"
    }
   },
   "outputs": [],
   "source": []
  },
  {
   "cell_type": "code",
   "execution_count": null,
   "metadata": {
    "pycharm": {
     "name": "#%%\n"
    }
   },
   "outputs": [],
   "source": []
  },
  {
   "cell_type": "code",
   "execution_count": null,
   "metadata": {
    "pycharm": {
     "name": "#%%\n"
    }
   },
   "outputs": [],
   "source": []
  },
  {
   "cell_type": "code",
   "execution_count": null,
   "metadata": {
    "pycharm": {
     "name": "#%%\n"
    }
   },
   "outputs": [],
   "source": []
  },
  {
   "cell_type": "code",
   "execution_count": null,
   "metadata": {
    "pycharm": {
     "name": "#%%\n"
    }
   },
   "outputs": [],
   "source": []
  },
  {
   "cell_type": "code",
   "execution_count": null,
   "metadata": {
    "pycharm": {
     "name": "#%%\n"
    }
   },
   "outputs": [],
   "source": []
  },
  {
   "cell_type": "code",
   "execution_count": null,
   "metadata": {
    "pycharm": {
     "name": "#%%\n"
    }
   },
   "outputs": [],
   "source": []
  },
  {
   "cell_type": "code",
   "execution_count": null,
   "metadata": {
    "pycharm": {
     "name": "#%%\n"
    }
   },
   "outputs": [],
   "source": []
  },
  {
   "cell_type": "code",
   "execution_count": null,
   "metadata": {
    "pycharm": {
     "name": "#%%\n"
    }
   },
   "outputs": [],
   "source": []
  },
  {
   "cell_type": "code",
   "execution_count": null,
   "metadata": {
    "pycharm": {
     "name": "#%%\n"
    }
   },
   "outputs": [],
   "source": []
  },
  {
   "cell_type": "code",
   "execution_count": null,
   "metadata": {
    "pycharm": {
     "name": "#%%\n"
    }
   },
   "outputs": [],
   "source": []
  },
  {
   "cell_type": "code",
   "execution_count": null,
   "metadata": {
    "pycharm": {
     "name": "#%%\n"
    }
   },
   "outputs": [],
   "source": []
  },
  {
   "cell_type": "code",
   "execution_count": null,
   "metadata": {
    "pycharm": {
     "name": "#%%\n"
    }
   },
   "outputs": [],
   "source": []
  },
  {
   "cell_type": "code",
   "execution_count": null,
   "metadata": {
    "pycharm": {
     "name": "#%%\n"
    }
   },
   "outputs": [],
   "source": []
  },
  {
   "cell_type": "code",
   "execution_count": null,
   "metadata": {
    "pycharm": {
     "name": "#%%\n"
    }
   },
   "outputs": [],
   "source": []
  },
  {
   "cell_type": "code",
   "execution_count": null,
   "metadata": {
    "pycharm": {
     "name": "#%%\n"
    }
   },
   "outputs": [],
   "source": []
  },
  {
   "cell_type": "code",
   "execution_count": null,
   "metadata": {
    "pycharm": {
     "name": "#%%\n"
    }
   },
   "outputs": [],
   "source": []
  },
  {
   "cell_type": "code",
   "execution_count": null,
   "metadata": {
    "pycharm": {
     "name": "#%%\n"
    }
   },
   "outputs": [],
   "source": []
  },
  {
   "cell_type": "code",
   "execution_count": null,
   "metadata": {
    "pycharm": {
     "name": "#%%\n"
    }
   },
   "outputs": [],
   "source": []
  },
  {
   "cell_type": "code",
   "execution_count": null,
   "metadata": {
    "pycharm": {
     "name": "#%%\n"
    }
   },
   "outputs": [],
   "source": []
  },
  {
   "cell_type": "code",
   "execution_count": null,
   "metadata": {
    "pycharm": {
     "name": "#%%\n"
    }
   },
   "outputs": [],
   "source": []
  },
  {
   "cell_type": "code",
   "execution_count": null,
   "metadata": {
    "pycharm": {
     "name": "#%%\n"
    }
   },
   "outputs": [],
   "source": []
  },
  {
   "cell_type": "code",
   "execution_count": null,
   "metadata": {
    "pycharm": {
     "name": "#%%\n"
    }
   },
   "outputs": [],
   "source": []
  },
  {
   "cell_type": "code",
   "execution_count": null,
   "metadata": {
    "pycharm": {
     "name": "#%%\n"
    }
   },
   "outputs": [],
   "source": []
  },
  {
   "cell_type": "code",
   "execution_count": null,
   "metadata": {
    "pycharm": {
     "name": "#%%\n"
    }
   },
   "outputs": [],
   "source": []
  },
  {
   "cell_type": "code",
   "execution_count": null,
   "metadata": {
    "pycharm": {
     "name": "#%%\n"
    }
   },
   "outputs": [],
   "source": []
  },
  {
   "cell_type": "code",
   "execution_count": null,
   "metadata": {
    "pycharm": {
     "name": "#%%\n"
    }
   },
   "outputs": [],
   "source": []
  },
  {
   "cell_type": "code",
   "execution_count": null,
   "metadata": {
    "pycharm": {
     "name": "#%%\n"
    }
   },
   "outputs": [],
   "source": []
  },
  {
   "cell_type": "code",
   "execution_count": null,
   "metadata": {
    "pycharm": {
     "name": "#%%\n"
    }
   },
   "outputs": [],
   "source": []
  },
  {
   "cell_type": "code",
   "execution_count": null,
   "metadata": {
    "pycharm": {
     "name": "#%%\n"
    }
   },
   "outputs": [],
   "source": []
  },
  {
   "cell_type": "code",
   "execution_count": null,
   "metadata": {
    "pycharm": {
     "name": "#%%\n"
    }
   },
   "outputs": [],
   "source": []
  },
  {
   "cell_type": "code",
   "execution_count": null,
   "metadata": {
    "pycharm": {
     "name": "#%%\n"
    }
   },
   "outputs": [],
   "source": []
  },
  {
   "cell_type": "code",
   "execution_count": null,
   "metadata": {
    "pycharm": {
     "name": "#%%\n"
    }
   },
   "outputs": [],
   "source": []
  },
  {
   "cell_type": "code",
   "execution_count": null,
   "metadata": {
    "pycharm": {
     "name": "#%%\n"
    }
   },
   "outputs": [],
   "source": []
  },
  {
   "cell_type": "code",
   "execution_count": null,
   "metadata": {
    "pycharm": {
     "name": "#%%\n"
    }
   },
   "outputs": [],
   "source": []
  },
  {
   "cell_type": "code",
   "execution_count": null,
   "metadata": {
    "pycharm": {
     "name": "#%%\n"
    }
   },
   "outputs": [],
   "source": []
  },
  {
   "cell_type": "code",
   "execution_count": null,
   "metadata": {
    "pycharm": {
     "name": "#%%\n"
    }
   },
   "outputs": [],
   "source": []
  },
  {
   "cell_type": "code",
   "execution_count": null,
   "metadata": {
    "pycharm": {
     "name": "#%%\n"
    }
   },
   "outputs": [],
   "source": []
  },
  {
   "cell_type": "code",
   "execution_count": null,
   "metadata": {
    "pycharm": {
     "name": "#%%\n"
    }
   },
   "outputs": [],
   "source": []
  },
  {
   "cell_type": "code",
   "execution_count": null,
   "metadata": {
    "pycharm": {
     "name": "#%%\n"
    }
   },
   "outputs": [],
   "source": []
  },
  {
   "cell_type": "code",
   "execution_count": null,
   "metadata": {
    "pycharm": {
     "name": "#%%\n"
    }
   },
   "outputs": [],
   "source": []
  },
  {
   "cell_type": "code",
   "execution_count": null,
   "metadata": {
    "pycharm": {
     "name": "#%%\n"
    }
   },
   "outputs": [],
   "source": []
  },
  {
   "cell_type": "code",
   "execution_count": null,
   "metadata": {
    "pycharm": {
     "name": "#%%\n"
    }
   },
   "outputs": [],
   "source": []
  },
  {
   "cell_type": "code",
   "execution_count": null,
   "metadata": {
    "pycharm": {
     "name": "#%%\n"
    }
   },
   "outputs": [],
   "source": []
  },
  {
   "cell_type": "code",
   "execution_count": null,
   "metadata": {
    "pycharm": {
     "name": "#%%\n"
    }
   },
   "outputs": [],
   "source": []
  },
  {
   "cell_type": "code",
   "execution_count": null,
   "metadata": {
    "pycharm": {
     "name": "#%%\n"
    }
   },
   "outputs": [],
   "source": []
  },
  {
   "cell_type": "code",
   "execution_count": null,
   "metadata": {
    "pycharm": {
     "name": "#%%\n"
    }
   },
   "outputs": [],
   "source": []
  },
  {
   "cell_type": "code",
   "execution_count": null,
   "metadata": {
    "pycharm": {
     "name": "#%%\n"
    }
   },
   "outputs": [],
   "source": []
  },
  {
   "cell_type": "code",
   "execution_count": null,
   "metadata": {
    "pycharm": {
     "name": "#%%\n"
    }
   },
   "outputs": [],
   "source": []
  },
  {
   "cell_type": "code",
   "execution_count": null,
   "metadata": {
    "pycharm": {
     "name": "#%%\n"
    }
   },
   "outputs": [],
   "source": []
  },
  {
   "cell_type": "code",
   "execution_count": null,
   "metadata": {
    "pycharm": {
     "name": "#%%\n"
    }
   },
   "outputs": [],
   "source": []
  },
  {
   "cell_type": "code",
   "execution_count": null,
   "metadata": {
    "pycharm": {
     "name": "#%%\n"
    }
   },
   "outputs": [],
   "source": []
  },
  {
   "cell_type": "code",
   "execution_count": null,
   "metadata": {
    "pycharm": {
     "name": "#%%\n"
    }
   },
   "outputs": [],
   "source": []
  },
  {
   "cell_type": "code",
   "execution_count": null,
   "metadata": {
    "pycharm": {
     "name": "#%%\n"
    }
   },
   "outputs": [],
   "source": []
  },
  {
   "cell_type": "code",
   "execution_count": null,
   "metadata": {
    "pycharm": {
     "name": "#%%\n"
    }
   },
   "outputs": [],
   "source": []
  },
  {
   "cell_type": "code",
   "execution_count": null,
   "metadata": {
    "pycharm": {
     "name": "#%%\n"
    }
   },
   "outputs": [],
   "source": []
  },
  {
   "cell_type": "code",
   "execution_count": null,
   "metadata": {
    "pycharm": {
     "name": "#%%\n"
    }
   },
   "outputs": [],
   "source": []
  },
  {
   "cell_type": "code",
   "execution_count": null,
   "metadata": {
    "pycharm": {
     "name": "#%%\n"
    }
   },
   "outputs": [],
   "source": []
  },
  {
   "cell_type": "code",
   "execution_count": null,
   "metadata": {
    "pycharm": {
     "name": "#%%\n"
    }
   },
   "outputs": [],
   "source": []
  },
  {
   "cell_type": "code",
   "execution_count": null,
   "metadata": {
    "pycharm": {
     "name": "#%%\n"
    }
   },
   "outputs": [],
   "source": []
  },
  {
   "cell_type": "code",
   "execution_count": null,
   "metadata": {
    "pycharm": {
     "name": "#%%\n"
    }
   },
   "outputs": [],
   "source": []
  },
  {
   "cell_type": "code",
   "execution_count": null,
   "metadata": {
    "pycharm": {
     "name": "#%%\n"
    }
   },
   "outputs": [],
   "source": []
  },
  {
   "cell_type": "code",
   "execution_count": null,
   "metadata": {
    "pycharm": {
     "name": "#%%\n"
    }
   },
   "outputs": [],
   "source": []
  },
  {
   "cell_type": "code",
   "execution_count": null,
   "metadata": {
    "pycharm": {
     "name": "#%%\n"
    }
   },
   "outputs": [],
   "source": []
  },
  {
   "cell_type": "code",
   "execution_count": null,
   "metadata": {
    "pycharm": {
     "name": "#%%\n"
    }
   },
   "outputs": [],
   "source": []
  },
  {
   "cell_type": "code",
   "execution_count": null,
   "metadata": {
    "pycharm": {
     "name": "#%%\n"
    }
   },
   "outputs": [],
   "source": []
  },
  {
   "cell_type": "code",
   "execution_count": null,
   "metadata": {
    "pycharm": {
     "name": "#%%\n"
    }
   },
   "outputs": [],
   "source": []
  },
  {
   "cell_type": "code",
   "execution_count": null,
   "metadata": {
    "pycharm": {
     "name": "#%%\n"
    }
   },
   "outputs": [],
   "source": []
  },
  {
   "cell_type": "code",
   "execution_count": null,
   "metadata": {
    "pycharm": {
     "name": "#%%\n"
    }
   },
   "outputs": [],
   "source": []
  },
  {
   "cell_type": "code",
   "execution_count": null,
   "metadata": {
    "pycharm": {
     "name": "#%%\n"
    }
   },
   "outputs": [],
   "source": []
  },
  {
   "cell_type": "code",
   "execution_count": null,
   "metadata": {
    "pycharm": {
     "name": "#%%\n"
    }
   },
   "outputs": [],
   "source": []
  },
  {
   "cell_type": "code",
   "execution_count": null,
   "metadata": {
    "pycharm": {
     "name": "#%%\n"
    }
   },
   "outputs": [],
   "source": []
  },
  {
   "cell_type": "code",
   "execution_count": null,
   "metadata": {
    "pycharm": {
     "name": "#%%\n"
    }
   },
   "outputs": [],
   "source": []
  },
  {
   "cell_type": "code",
   "execution_count": null,
   "metadata": {
    "pycharm": {
     "name": "#%%\n"
    }
   },
   "outputs": [],
   "source": []
  },
  {
   "cell_type": "code",
   "execution_count": null,
   "metadata": {
    "pycharm": {
     "name": "#%%\n"
    }
   },
   "outputs": [],
   "source": []
  },
  {
   "cell_type": "code",
   "execution_count": null,
   "metadata": {
    "pycharm": {
     "name": "#%%\n"
    }
   },
   "outputs": [],
   "source": []
  },
  {
   "cell_type": "code",
   "execution_count": null,
   "metadata": {
    "pycharm": {
     "name": "#%%\n"
    }
   },
   "outputs": [],
   "source": []
  },
  {
   "cell_type": "code",
   "execution_count": null,
   "metadata": {
    "pycharm": {
     "name": "#%%\n"
    }
   },
   "outputs": [],
   "source": []
  },
  {
   "cell_type": "code",
   "execution_count": null,
   "metadata": {
    "pycharm": {
     "name": "#%%\n"
    }
   },
   "outputs": [],
   "source": []
  },
  {
   "cell_type": "code",
   "execution_count": null,
   "metadata": {
    "pycharm": {
     "name": "#%%\n"
    }
   },
   "outputs": [],
   "source": []
  },
  {
   "cell_type": "code",
   "execution_count": null,
   "metadata": {
    "pycharm": {
     "name": "#%%\n"
    }
   },
   "outputs": [],
   "source": []
  },
  {
   "cell_type": "code",
   "execution_count": null,
   "metadata": {
    "pycharm": {
     "name": "#%%\n"
    }
   },
   "outputs": [],
   "source": []
  },
  {
   "cell_type": "code",
   "execution_count": null,
   "metadata": {
    "pycharm": {
     "name": "#%%\n"
    }
   },
   "outputs": [],
   "source": []
  },
  {
   "cell_type": "code",
   "execution_count": null,
   "metadata": {
    "pycharm": {
     "name": "#%%\n"
    }
   },
   "outputs": [],
   "source": []
  },
  {
   "cell_type": "code",
   "execution_count": null,
   "metadata": {
    "pycharm": {
     "name": "#%%\n"
    }
   },
   "outputs": [],
   "source": []
  },
  {
   "cell_type": "code",
   "execution_count": null,
   "metadata": {
    "pycharm": {
     "name": "#%%\n"
    }
   },
   "outputs": [],
   "source": []
  },
  {
   "cell_type": "code",
   "execution_count": null,
   "metadata": {
    "pycharm": {
     "name": "#%%\n"
    }
   },
   "outputs": [],
   "source": []
  },
  {
   "cell_type": "code",
   "execution_count": null,
   "metadata": {
    "pycharm": {
     "name": "#%%\n"
    }
   },
   "outputs": [],
   "source": []
  },
  {
   "cell_type": "code",
   "execution_count": null,
   "metadata": {
    "pycharm": {
     "name": "#%%\n"
    }
   },
   "outputs": [],
   "source": []
  },
  {
   "cell_type": "code",
   "execution_count": null,
   "metadata": {
    "pycharm": {
     "name": "#%%\n"
    }
   },
   "outputs": [],
   "source": []
  },
  {
   "cell_type": "code",
   "execution_count": null,
   "metadata": {
    "pycharm": {
     "name": "#%%\n"
    }
   },
   "outputs": [],
   "source": []
  },
  {
   "cell_type": "code",
   "execution_count": null,
   "metadata": {
    "pycharm": {
     "name": "#%%\n"
    }
   },
   "outputs": [],
   "source": []
  },
  {
   "cell_type": "code",
   "execution_count": null,
   "metadata": {
    "pycharm": {
     "name": "#%%\n"
    }
   },
   "outputs": [],
   "source": []
  },
  {
   "cell_type": "code",
   "execution_count": null,
   "metadata": {
    "pycharm": {
     "name": "#%%\n"
    }
   },
   "outputs": [],
   "source": []
  },
  {
   "cell_type": "code",
   "execution_count": null,
   "metadata": {
    "pycharm": {
     "name": "#%%\n"
    }
   },
   "outputs": [],
   "source": []
  },
  {
   "cell_type": "code",
   "execution_count": null,
   "metadata": {
    "pycharm": {
     "name": "#%%\n"
    }
   },
   "outputs": [],
   "source": []
  },
  {
   "cell_type": "code",
   "execution_count": null,
   "metadata": {
    "pycharm": {
     "name": "#%%\n"
    }
   },
   "outputs": [],
   "source": []
  },
  {
   "cell_type": "code",
   "execution_count": null,
   "metadata": {
    "pycharm": {
     "name": "#%%\n"
    }
   },
   "outputs": [],
   "source": []
  },
  {
   "cell_type": "code",
   "execution_count": null,
   "metadata": {
    "pycharm": {
     "name": "#%%\n"
    }
   },
   "outputs": [],
   "source": []
  },
  {
   "cell_type": "code",
   "execution_count": null,
   "metadata": {
    "pycharm": {
     "name": "#%%\n"
    }
   },
   "outputs": [],
   "source": []
  },
  {
   "cell_type": "code",
   "execution_count": null,
   "metadata": {
    "pycharm": {
     "name": "#%%\n"
    }
   },
   "outputs": [],
   "source": []
  },
  {
   "cell_type": "code",
   "execution_count": null,
   "metadata": {
    "pycharm": {
     "name": "#%%\n"
    }
   },
   "outputs": [],
   "source": []
  },
  {
   "cell_type": "code",
   "execution_count": null,
   "metadata": {
    "pycharm": {
     "name": "#%%\n"
    }
   },
   "outputs": [],
   "source": []
  },
  {
   "cell_type": "code",
   "execution_count": null,
   "metadata": {
    "pycharm": {
     "name": "#%%\n"
    }
   },
   "outputs": [],
   "source": []
  },
  {
   "cell_type": "code",
   "execution_count": null,
   "metadata": {
    "pycharm": {
     "name": "#%%\n"
    }
   },
   "outputs": [],
   "source": []
  },
  {
   "cell_type": "code",
   "execution_count": null,
   "metadata": {
    "pycharm": {
     "name": "#%%\n"
    }
   },
   "outputs": [],
   "source": []
  },
  {
   "cell_type": "code",
   "execution_count": null,
   "metadata": {
    "pycharm": {
     "name": "#%%\n"
    }
   },
   "outputs": [],
   "source": []
  },
  {
   "cell_type": "code",
   "execution_count": null,
   "metadata": {
    "pycharm": {
     "name": "#%%\n"
    }
   },
   "outputs": [],
   "source": []
  },
  {
   "cell_type": "code",
   "execution_count": null,
   "metadata": {
    "pycharm": {
     "name": "#%%\n"
    }
   },
   "outputs": [],
   "source": []
  },
  {
   "cell_type": "code",
   "execution_count": null,
   "metadata": {
    "pycharm": {
     "name": "#%%\n"
    }
   },
   "outputs": [],
   "source": []
  },
  {
   "cell_type": "code",
   "execution_count": null,
   "metadata": {
    "pycharm": {
     "name": "#%%\n"
    }
   },
   "outputs": [],
   "source": []
  },
  {
   "cell_type": "code",
   "execution_count": null,
   "metadata": {
    "pycharm": {
     "name": "#%%\n"
    }
   },
   "outputs": [],
   "source": []
  },
  {
   "cell_type": "code",
   "execution_count": null,
   "metadata": {
    "pycharm": {
     "name": "#%%\n"
    }
   },
   "outputs": [],
   "source": []
  },
  {
   "cell_type": "code",
   "execution_count": null,
   "metadata": {
    "pycharm": {
     "name": "#%%\n"
    }
   },
   "outputs": [],
   "source": []
  },
  {
   "cell_type": "code",
   "execution_count": null,
   "metadata": {
    "pycharm": {
     "name": "#%%\n"
    }
   },
   "outputs": [],
   "source": []
  },
  {
   "cell_type": "code",
   "execution_count": null,
   "metadata": {
    "pycharm": {
     "name": "#%%\n"
    }
   },
   "outputs": [],
   "source": []
  },
  {
   "cell_type": "code",
   "execution_count": null,
   "metadata": {
    "pycharm": {
     "name": "#%%\n"
    }
   },
   "outputs": [],
   "source": []
  },
  {
   "cell_type": "code",
   "execution_count": null,
   "metadata": {
    "pycharm": {
     "name": "#%%\n"
    }
   },
   "outputs": [],
   "source": []
  },
  {
   "cell_type": "code",
   "execution_count": null,
   "metadata": {
    "pycharm": {
     "name": "#%%\n"
    }
   },
   "outputs": [],
   "source": []
  },
  {
   "cell_type": "code",
   "execution_count": null,
   "metadata": {
    "pycharm": {
     "name": "#%%\n"
    }
   },
   "outputs": [],
   "source": []
  },
  {
   "cell_type": "code",
   "execution_count": null,
   "metadata": {
    "pycharm": {
     "name": "#%%\n"
    }
   },
   "outputs": [],
   "source": []
  },
  {
   "cell_type": "code",
   "execution_count": null,
   "metadata": {
    "pycharm": {
     "name": "#%%\n"
    }
   },
   "outputs": [],
   "source": []
  },
  {
   "cell_type": "code",
   "execution_count": null,
   "metadata": {
    "pycharm": {
     "name": "#%%\n"
    }
   },
   "outputs": [],
   "source": []
  },
  {
   "cell_type": "code",
   "execution_count": null,
   "metadata": {},
   "outputs": [],
   "source": []
  }
 ],
 "metadata": {
  "kernelspec": {
   "display_name": "Python 3",
   "language": "python",
   "name": "python3"
  },
  "language_info": {
   "codemirror_mode": {
    "name": "ipython",
    "version": 3
   },
   "file_extension": ".py",
   "mimetype": "text/x-python",
   "name": "python",
   "nbconvert_exporter": "python",
   "pygments_lexer": "ipython3",
   "version": "3.7.3"
  },
  "pycharm": {
   "stem_cell": {
    "cell_type": "raw",
    "metadata": {
     "collapsed": false
    },
    "source": []
   }
  }
 },
 "nbformat": 4,
 "nbformat_minor": 1
}
