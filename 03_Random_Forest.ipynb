{
 "cells": [
  {
   "cell_type": "code",
   "execution_count": null,
   "metadata": {},
   "outputs": [],
   "source": [
    "# split into train and test\n",
    "from sklearn.model_selection import train_test_split\n",
    "\n",
    "#cleaned_master_data['Hospital overall rating'], factors_hospital_overall_rating =  pd.factorize(cleaned_master_data['Hospital overall rating'])\n",
    "\n",
    "#cleaned_master_data = pd.get_dummies(cleaned_master_data['Hospital overall rating'], prefix='Hospital overall rating', drop_first=True)\n",
    "print(cleaned_master_data)\n",
    "\n",
    "print_ln()\n",
    "\n",
    "X = cleaned_master_data.loc[:, cleaned_master_data.columns != 'Hospital overall rating']\n",
    "y = cleaned_master_data.loc[:, 'Hospital overall rating']\n",
    "\n",
    "#from sklearn import preprocessing\n",
    "#y = preprocessing.label_binarize(y, classes=[ 1, 2, 3, 4, 5])\n",
    "\n",
    "\n",
    "X_train, X_test, y_train, y_test = train_test_split(X, y,\n",
    "                                                    stratify=y,\n",
    "                                                    train_size=0.7,\n",
    "                                                    test_size=0.3, random_state=100)\n",
    "\n",
    "X_train\n",
    "print_ln()\n",
    "\n",
    "X_test\n",
    "print_ln()\n",
    "\n",
    "y_train\n",
    "print_ln()\n",
    "\n",
    "y_test\n",
    "print_ln()"
   ]
  }
 ],
 "metadata": {
  "kernelspec": {
   "display_name": "Python 3",
   "language": "python",
   "name": "python3"
  },
  "language_info": {
   "codemirror_mode": {
    "name": "ipython",
    "version": 3
   },
   "file_extension": ".py",
   "mimetype": "text/x-python",
   "name": "python",
   "nbconvert_exporter": "python",
   "pygments_lexer": "ipython3",
   "version": "3.7.3"
  }
 },
 "nbformat": 4,
 "nbformat_minor": 2
}
