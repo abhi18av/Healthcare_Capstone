{
 "cells": [
  {
   "cell_type": "code",
   "execution_count": 2,
   "metadata": {},
   "outputs": [],
   "source": [
    "import os\n",
    "import numpy as np\n",
    "import pandas as pd\n",
    "import matplotlib.pyplot as plt\n",
    "import seaborn as sns\n",
    "\n",
    "import warnings\n",
    "warnings.filterwarnings('ignore')\n",
    "sns.set_style('whitegrid')\n",
    "sns.set_context('paper')\n",
    "\n",
    "# Util function: line seperator\n",
    "def print_ln():\n",
    "    print('-' * 80, '\\n')\n",
    "\n",
    "\n",
    "# Function to create a subset of the dataframe\n",
    "def subset(dataframe, col_name, col_names_list):\n",
    "    return dataframe.loc[dataframe[col_name].isin(col_names_list)]\n"
   ]
  },
  {
   "cell_type": "code",
   "execution_count": 3,
   "metadata": {},
   "outputs": [],
   "source": [
    "def func_numeric(df, col_name):\n",
    "    df[col_name] = df[col_name].astype(float)\n",
    "    return df\n"
   ]
  },
  {
   "cell_type": "code",
   "execution_count": 4,
   "metadata": {},
   "outputs": [],
   "source": [
    "def func_rename(df):\n",
    "    old_col_names = df.columns.to_list()\n",
    "    new_col_names = []\n",
    "    for a_col_name in old_col_names:\n",
    "        col_name = a_col_name + \"_score\"\n",
    "        new_col_names.append(col_name)\n",
    "\n",
    "    name_pairs = dict(zip(old_col_names, new_col_names))\n",
    "    df = df.rename(columns=name_pairs)\n",
    "    return df\n"
   ]
  },
  {
   "cell_type": "code",
   "execution_count": null,
   "metadata": {},
   "outputs": [],
   "source": []
  }
 ],
 "metadata": {
  "kernelspec": {
   "display_name": "Python 3",
   "language": "python",
   "name": "python3"
  },
  "language_info": {
   "codemirror_mode": {
    "name": "ipython",
    "version": 3
   },
   "file_extension": ".py",
   "mimetype": "text/x-python",
   "name": "python",
   "nbconvert_exporter": "python",
   "pygments_lexer": "ipython3",
   "version": "3.7.3"
  }
 },
 "nbformat": 4,
 "nbformat_minor": 2
}
