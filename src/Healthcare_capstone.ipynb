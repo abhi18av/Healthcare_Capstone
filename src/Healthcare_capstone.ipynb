{
 "cells": [
  {
   "cell_type": "markdown",
   "metadata": {
    "collapsed": true,
    "pycharm": {
     "name": "#%% md\n"
    }
   },
   "source": [
    "# Business Understanding \n",
    "\n",
    " CMS rates hospitals in the US on a scale of 1-5 with the objective to make it easier for patients and consumers to compare the quality of hospitals.\n",
    " The ratings directly influence the choice of the hospital made by consumers and may have a significant impact on the revenue earned by hospitals.\n",
    " Thus, it is extremely important for hospitals to understand the methodology used by CMS for calculating the ratings so that they can work on\n",
    " improving the factors that influence them.\n",
    " This project is focused on developing an approach to calculate hospital ratings and using it to identify areas of improvement for\n",
    " certain hospitals. It will also require a thorough understanding of the rating system developed by CMS.\n"
   ]
  },
  {
   "cell_type": "markdown",
   "source": [
    "# Business Problem #\n",
    "\n",
    "# The aim of analysis is to understand the methodology used by CMS for calculating the ratings and identify\n",
    "# the factors influencing the ratings for hospitals, so that they can work on improving the factors that influence them.\n",
    "# Recommend ways to improve the rating for Evanston Hospital to improve their current star rating of 3/5*\n",
    "\n",
    "\n"
   ],
   "metadata": {
    "collapsed": false
   }
  }
 ],
 "metadata": {
  "kernelspec": {
   "display_name": "Python 3",
   "language": "python",
   "name": "python3"
  },
  "language_info": {
   "codemirror_mode": {
    "name": "ipython",
    "version": 2
   },
   "file_extension": ".py",
   "mimetype": "text/x-python",
   "name": "python",
   "nbconvert_exporter": "python",
   "pygments_lexer": "ipython2",
   "version": "2.7.6"
  },
  "pycharm": {
   "stem_cell": {
    "cell_type": "raw",
    "source": [],
    "metadata": {
     "collapsed": false
    }
   }
  }
 },
 "nbformat": 4,
 "nbformat_minor": 0
}
